{
 "cells": [
  {
   "cell_type": "code",
   "execution_count": 2,
   "metadata": {},
   "outputs": [
    {
     "name": "stdout",
     "output_type": "stream",
     "text": [
      "The autoreload extension is already loaded. To reload it, use:\n",
      "  %reload_ext autoreload\n"
     ]
    },
    {
     "name": "stderr",
     "output_type": "stream",
     "text": [
      "C:\\Users\\Etto\\Anaconda2\\envs\\p36h2o\\lib\\site-packages\\h5py\\__init__.py:36: FutureWarning: Conversion of the second argument of issubdtype from `float` to `np.floating` is deprecated. In future, it will be treated as `np.float64 == np.dtype(float).type`.\n",
      "  from ._conv import register_converters as _register_converters\n",
      "Using TensorFlow backend.\n"
     ]
    }
   ],
   "source": [
    "%load_ext autoreload\n",
    "%autoreload 2\n",
    "from util import util"
   ]
  },
  {
   "cell_type": "code",
   "execution_count": 14,
   "metadata": {},
   "outputs": [],
   "source": [
    "train_folder = '/Users/etto/Desktop/tpDatasets/FEMTOBearingDataSet/Learning_set/'\n",
    "test_folder = '/Users/etto/Desktop/tpDatasets/FEMTOBearingDataSet/Test_set/Test_set/'\n",
    "train_folder = 'E:/SAA_DATA/predictiveMaintenance/FEMTOBearingDataSet/Learning_set/'\n",
    "test_folder = 'E:/SAA_DATA/predictiveMaintenance/FEMTOBearingDataSet/Test_set/Test_set/'"
   ]
  },
  {
   "cell_type": "code",
   "execution_count": 15,
   "metadata": {},
   "outputs": [
    {
     "name": "stdout",
     "output_type": "stream",
     "text": [
      "E:/SAA_DATA/predictiveMaintenance/FEMTOBearingDataSet/Learning_set/bearing1_1/\n",
      "Stored 'signal_1_1_hor' (ndarray)\n"
     ]
    }
   ],
   "source": [
    "train_bearings = ['bearing1_{:d}'.format(i) for i in range(1,3)]\n",
    "test_bearings = ['bearing1_{:d}'.format(i) for i in range(3,8)]\n",
    "\n",
    "train_folders = ['{:s}{:s}/'.format(train_folder, bearing) for bearing in train_bearings]\n",
    "test_folders = ['{:s}{:s}/'.format(test_folder, bearing) for bearing in test_bearings]\n",
    "\n",
    "signal_1_1_hor = util.constructSignal(train_folders[0])\n",
    "%store signal_1_1_hor\n"
   ]
  },
  {
   "cell_type": "code",
   "execution_count": null,
   "metadata": {},
   "outputs": [
    {
     "name": "stdout",
     "output_type": "stream",
     "text": [
      "E:/SAA_DATA/predictiveMaintenance/FEMTOBearingDataSet/Learning_set/bearing1_2/\n",
      "Stored 'signal_1_2_hor' (ndarray)\n",
      "E:/SAA_DATA/predictiveMaintenance/FEMTOBearingDataSet/Test_set/Test_set/bearing1_3/\n"
     ]
    }
   ],
   "source": [
    "signal_1_2_hor = util.constructSignal(train_folders[1])\n",
    "%store signal_1_2_hor\n",
    "signal_1_3_hor = util.constructSignal(test_folders[0])\n",
    "%store signal_1_3_hor\n",
    "signal_1_4_hor =  util.constructSignal(test_folders[1])\n",
    "%store signal_1_4_hor\n",
    "signal_1_5_hor =  util.constructSignal(test_folders[2])\n",
    "%store signal_1_5_hor\n",
    "signal_1_6_hor =  util.constructSignal(test_folders[3])\n",
    "%store signal_1_6_hor\n",
    "signal_1_7_hor =  util.constructSignal(test_folders[4])\n",
    "%store signal_1_7_hor"
   ]
  },
  {
   "cell_type": "code",
   "execution_count": null,
   "metadata": {},
   "outputs": [],
   "source": [
    "train_bearings = ['bearing1_{:d}'.format(i) for i in range(1,3)]\n",
    "test_bearings = ['bearing1_{:d}'.format(i) for i in range(3,8)]\n",
    "\n",
    "train_folders = ['{:s}{:s}/'.format(train_folder, bearing) for bearing in train_bearings]\n",
    "test_folders = ['{:s}{:s}/'.format(test_folder, bearing) for bearing in test_bearings]\n",
    "\n",
    "signal_1_1_vert = util.constructSignal(train_folders[0], axis='vertAcc')\n",
    "%store signal_1_1_vert\n",
    "signal_1_2_vert = util.constructSignal(train_folders[1], axis='vertAcc')\n",
    "%store signal_1_2_vert\n",
    "signal_1_3_vert = util.constructSignal(test_folders[0], axis='vertAcc')\n",
    "%store signal_1_3_vert\n",
    "signal_1_4_vert = util.constructSignal(test_folders[1], axis='vertAcc')\n",
    "%store signal_1_4_vert\n",
    "signal_1_5_vert = util.constructSignal(test_folders[2], axis='vertAcc')\n",
    "%store signal_1_5_vert\n",
    "signal_1_6_vert = util.constructSignal(test_folders[3], axis='vertAcc')\n",
    "%store signal_1_6_vert\n",
    "signal_1_7_vert = util.constructSignal(test_folders[4], axis='vertAcc')\n",
    "%store signal_1_7_vert"
   ]
  },
  {
   "cell_type": "code",
   "execution_count": null,
   "metadata": {},
   "outputs": [],
   "source": [
    "train_bearings = ['bearing2_{:d}'.format(i) for i in range(1,3)]\n",
    "test_bearings = ['bearing2_{:d}'.format(i) for i in range(3,8)]\n",
    "\n",
    "train_folders = ['{:s}{:s}/'.format(train_folder, bearing) for bearing in train_bearings]\n",
    "test_folders = ['{:s}{:s}/'.format(test_folder, bearing) for bearing in test_bearings]\n",
    "\n",
    "signal_2_1_hor = util.constructSignal(train_folders[0])\n",
    "%store signal_2_1_hor\n",
    "signal_2_2_hor = util.constructSignal(train_folders[1])\n",
    "%store signal_2_2_hor\n",
    "signal_2_3_hor = util.constructSignal(test_folders[0])\n",
    "%store signal_2_3_hor\n",
    "signal_2_4_hor = util.constructSignal(test_folders[1])\n",
    "%store signal_2_4_hor\n",
    "signal_2_5_hor = util.constructSignal(test_folders[2])\n",
    "%store signal_2_5_hor\n",
    "signal_2_6_hor = util.constructSignal(test_folders[3])\n",
    "%store signal_2_6_hor\n",
    "signal_2_7_hor = util.constructSignal(test_folders[4])\n",
    "%store signal_2_7_hor"
   ]
  },
  {
   "cell_type": "code",
   "execution_count": null,
   "metadata": {},
   "outputs": [],
   "source": [
    "train_bearings = ['bearing2_{:d}'.format(i) for i in range(1,3)]\n",
    "test_bearings = ['bearing2_{:d}'.format(i) for i in range(3,8)]\n",
    "\n",
    "train_folders = ['{:s}{:s}/'.format(train_folder, bearing) for bearing in train_bearings]\n",
    "test_folders = ['{:s}{:s}/'.format(test_folder, bearing) for bearing in test_bearings]\n",
    "\n",
    "signal_2_1_vert = util.constructSignal(train_folders[0], axis='vertAcc')\n",
    "%store signal_2_1_vert\n",
    "signal_2_2_vert = util.constructSignal(train_folders[1], axis='vertAcc')\n",
    "%store signal_2_2_vert\n",
    "signal_2_3_vert = util.constructSignal(test_folders[0], axis='vertAcc')\n",
    "%store signal_2_3_vert\n",
    "signal_2_4_vert = util.constructSignal(test_folders[1], axis='vertAcc')\n",
    "%store signal_2_4_vert\n",
    "signal_2_5_vert = util.constructSignal(test_folders[2], axis='vertAcc')\n",
    "%store signal_2_5_vert\n",
    "signal_2_6_vert = util.constructSignal(test_folders[3], axis='vertAcc')\n",
    "%store signal_2_6_vert\n",
    "signal_2_7_vert = util.constructSignal(test_folders[4], axis='vertAcc')\n",
    "%store signal_2_7_vert"
   ]
  },
  {
   "cell_type": "code",
   "execution_count": null,
   "metadata": {},
   "outputs": [],
   "source": [
    "train_bearings = ['bearing3_{:d}'.format(i) for i in range(1,3)]\n",
    "test_bearings = ['bearing3_3']\n",
    "\n",
    "train_folders = ['{:s}{:s}/'.format(train_folder, bearing) for bearing in train_bearings]\n",
    "test_folders = ['{:s}{:s}/'.format(test_folder, bearing) for bearing in test_bearings]\n",
    "\n",
    "signal_3_1_hor = util.constructSignal(train_folders[0])\n",
    "%store signal_3_1_hor\n",
    "signal_3_2_hor = util.constructSignal(train_folders[1])\n",
    "%store signal_3_2_hor\n",
    "signal_3_3_hor = util.constructSignal(test_folders[0])\n",
    "%store signal_3_3_hor"
   ]
  },
  {
   "cell_type": "code",
   "execution_count": null,
   "metadata": {},
   "outputs": [],
   "source": [
    "train_bearings = ['bearing3_{:d}'.format(i) for i in range(1,3)]\n",
    "test_bearings = ['bearing3_3']\n",
    "\n",
    "train_folders = ['{:s}{:s}/'.format(train_folder, bearing) for bearing in train_bearings]\n",
    "test_folders = ['{:s}{:s}/'.format(test_folder, bearing) for bearing in test_bearings]\n",
    "\n",
    "signal_3_1_vert = util.constructSignal(train_folders[0], axis='vertAcc')\n",
    "%store signal_3_1_vert\n",
    "signal_3_2_vert = util.constructSignal(train_folders[1], axis='vertAcc')\n",
    "%store signal_3_2_vert\n",
    "signal_3_3_vert = util.constructSignal(test_folders[0], axis='vertAcc')\n",
    "%store signal_3_3_vert"
   ]
  }
 ],
 "metadata": {
  "kernelspec": {
   "display_name": "Python 3",
   "language": "python",
   "name": "python3"
  },
  "language_info": {
   "codemirror_mode": {
    "name": "ipython",
    "version": 3
   },
   "file_extension": ".py",
   "mimetype": "text/x-python",
   "name": "python",
   "nbconvert_exporter": "python",
   "pygments_lexer": "ipython3",
   "version": "3.6.5"
  },
  "varInspector": {
   "cols": {
    "lenName": 16,
    "lenType": 16,
    "lenVar": 40
   },
   "kernels_config": {
    "python": {
     "delete_cmd_postfix": "",
     "delete_cmd_prefix": "del ",
     "library": "var_list.py",
     "varRefreshCmd": "print(var_dic_list())"
    },
    "r": {
     "delete_cmd_postfix": ") ",
     "delete_cmd_prefix": "rm(",
     "library": "var_list.r",
     "varRefreshCmd": "cat(var_dic_list()) "
    }
   },
   "types_to_exclude": [
    "module",
    "function",
    "builtin_function_or_method",
    "instance",
    "_Feature"
   ],
   "window_display": false
  }
 },
 "nbformat": 4,
 "nbformat_minor": 2
}
