{
 "cells": [
  {
   "cell_type": "code",
   "execution_count": 1,
   "metadata": {},
   "outputs": [],
   "source": [
    "import h2o\n",
    "import math\n",
    "import pandas as pd\n",
    "import numpy as np\n",
    "from h2o.estimators import H2OAutoEncoderEstimator\n",
    "from h2o.estimators import H2ODeepLearningEstimator"
   ]
  },
  {
   "cell_type": "code",
   "execution_count": 2,
   "metadata": {},
   "outputs": [],
   "source": [
    "# Initialize server\n",
    "from sklearn.metrics import mean_absolute_error\n",
    "from sklearn.metrics import mean_squared_error"
   ]
  },
  {
   "cell_type": "code",
   "execution_count": 3,
   "metadata": {},
   "outputs": [
    {
     "name": "stdout",
     "output_type": "stream",
     "text": [
      "Checking whether there is an H2O instance running at http://localhost:54321..... not found.\n",
      "Attempting to start a local H2O server...\n",
      "  Java Version: openjdk version \"1.8.0_121\"; OpenJDK Runtime Environment (Zulu 8.20.0.5-macosx) (build 1.8.0_121-b15); OpenJDK 64-Bit Server VM (Zulu 8.20.0.5-macosx) (build 25.121-b15, mixed mode)\n",
      "  Starting server from /opt/miniconda2/envs/py36h2o/lib/python3.6/site-packages/h2o/backend/bin/h2o.jar\n",
      "  Ice root: /var/folders/32/40942p_n2jx6zw74vvpshddc0000gq/T/tmp06bcbso3\n",
      "  JVM stdout: /var/folders/32/40942p_n2jx6zw74vvpshddc0000gq/T/tmp06bcbso3/h2o_etto_started_from_python.out\n",
      "  JVM stderr: /var/folders/32/40942p_n2jx6zw74vvpshddc0000gq/T/tmp06bcbso3/h2o_etto_started_from_python.err\n",
      "  Server is running at http://127.0.0.1:54321\n",
      "Connecting to H2O server at http://127.0.0.1:54321... successful.\n"
     ]
    },
    {
     "data": {
      "text/html": [
       "<div style=\"overflow:auto\"><table style=\"width:50%\"><tr><td>H2O cluster uptime:</td>\n",
       "<td>03 secs</td></tr>\n",
       "<tr><td>H2O cluster timezone:</td>\n",
       "<td>Europe/Amsterdam</td></tr>\n",
       "<tr><td>H2O data parsing timezone:</td>\n",
       "<td>UTC</td></tr>\n",
       "<tr><td>H2O cluster version:</td>\n",
       "<td>3.18.0.8</td></tr>\n",
       "<tr><td>H2O cluster version age:</td>\n",
       "<td>6 days </td></tr>\n",
       "<tr><td>H2O cluster name:</td>\n",
       "<td>H2O_from_python_etto_ra8gs0</td></tr>\n",
       "<tr><td>H2O cluster total nodes:</td>\n",
       "<td>1</td></tr>\n",
       "<tr><td>H2O cluster free memory:</td>\n",
       "<td>1.778 Gb</td></tr>\n",
       "<tr><td>H2O cluster total cores:</td>\n",
       "<td>4</td></tr>\n",
       "<tr><td>H2O cluster allowed cores:</td>\n",
       "<td>4</td></tr>\n",
       "<tr><td>H2O cluster status:</td>\n",
       "<td>accepting new members, healthy</td></tr>\n",
       "<tr><td>H2O connection url:</td>\n",
       "<td>http://127.0.0.1:54321</td></tr>\n",
       "<tr><td>H2O connection proxy:</td>\n",
       "<td>None</td></tr>\n",
       "<tr><td>H2O internal security:</td>\n",
       "<td>False</td></tr>\n",
       "<tr><td>H2O API Extensions:</td>\n",
       "<td>XGBoost, Algos, AutoML, Core V3, Core V4</td></tr>\n",
       "<tr><td>Python version:</td>\n",
       "<td>3.6.4 final</td></tr></table></div>"
      ],
      "text/plain": [
       "--------------------------  ----------------------------------------\n",
       "H2O cluster uptime:         03 secs\n",
       "H2O cluster timezone:       Europe/Amsterdam\n",
       "H2O data parsing timezone:  UTC\n",
       "H2O cluster version:        3.18.0.8\n",
       "H2O cluster version age:    6 days\n",
       "H2O cluster name:           H2O_from_python_etto_ra8gs0\n",
       "H2O cluster total nodes:    1\n",
       "H2O cluster free memory:    1.778 Gb\n",
       "H2O cluster total cores:    4\n",
       "H2O cluster allowed cores:  4\n",
       "H2O cluster status:         accepting new members, healthy\n",
       "H2O connection url:         http://127.0.0.1:54321\n",
       "H2O connection proxy:\n",
       "H2O internal security:      False\n",
       "H2O API Extensions:         XGBoost, Algos, AutoML, Core V3, Core V4\n",
       "Python version:             3.6.4 final\n",
       "--------------------------  ----------------------------------------"
      ]
     },
     "metadata": {},
     "output_type": "display_data"
    }
   ],
   "source": [
    "h2o.init()"
   ]
  },
  {
   "cell_type": "code",
   "execution_count": 4,
   "metadata": {},
   "outputs": [],
   "source": [
    "# Configuration parameters\n",
    "_vr_auto_encoder = 0.1  # Validation ratio for AutoEncoder\n",
    "_vr_model = 0.1  # Validation ratio for DeepLearning model\n",
    "_nmodels = 10  # Number of models going to train\n",
    "_smodels = 5   # Number of models select to predict\n",
    "_lim = 1       # Number of outliers removed from predictions, both maximums and minimums"
   ]
  },
  {
   "cell_type": "code",
   "execution_count": 5,
   "metadata": {},
   "outputs": [],
   "source": [
    "# Load CSV data frames\n",
    "p_data = pd.read_csv('Training.csv')\n",
    "p_test = pd.read_csv('Testing.csv')"
   ]
  },
  {
   "cell_type": "code",
   "execution_count": 6,
   "metadata": {},
   "outputs": [],
   "source": [
    "# Define columns\n",
    "response_column = 'RUL'  # Define response column in the dataset"
   ]
  },
  {
   "cell_type": "code",
   "execution_count": 7,
   "metadata": {},
   "outputs": [],
   "source": [
    "# Split p_data into validate and train\n",
    "p_validate = p_data.sample(frac=_vr_auto_encoder, random_state=200) # Take sample data to validate AutoEncoder\n",
    "p_train = p_data.drop(p_validate.index)"
   ]
  },
  {
   "cell_type": "code",
   "execution_count": 8,
   "metadata": {},
   "outputs": [
    {
     "name": "stdout",
     "output_type": "stream",
     "text": [
      "Parse progress: |█████████████████████████████████████████████████████████| 100%\n",
      "Parse progress: |█████████████████████████████████████████████████████████| 100%\n",
      "Parse progress: |█████████████████████████████████████████████████████████| 100%\n"
     ]
    },
    {
     "data": {
      "text/html": [
       "<table>\n",
       "<thead>\n",
       "<tr><th style=\"text-align: right;\">  UnitNumber</th><th style=\"text-align: right;\">  Time</th><th style=\"text-align: right;\">  Setting1</th><th style=\"text-align: right;\">  Setting2</th><th style=\"text-align: right;\">  Setting3</th><th style=\"text-align: right;\">  Sensor1</th><th style=\"text-align: right;\">  Sensor2</th><th style=\"text-align: right;\">  Sensor3</th><th style=\"text-align: right;\">  Sensor4</th><th style=\"text-align: right;\">  Sensor5</th><th style=\"text-align: right;\">  Sensor6</th><th style=\"text-align: right;\">  Sensor7</th><th style=\"text-align: right;\">  Sensor8</th><th style=\"text-align: right;\">  Sensor9</th><th style=\"text-align: right;\">  Sensor10</th><th style=\"text-align: right;\">  Sensor11</th><th style=\"text-align: right;\">  Sensor12</th><th style=\"text-align: right;\">  Sensor13</th><th style=\"text-align: right;\">  Sensor14</th><th style=\"text-align: right;\">  Sensor15</th><th style=\"text-align: right;\">  Sensor16</th><th style=\"text-align: right;\">  Sensor17</th><th style=\"text-align: right;\">  Sensor18</th><th style=\"text-align: right;\">  Sensor19</th><th style=\"text-align: right;\">  Sensor20</th><th style=\"text-align: right;\">  Sensor21</th><th style=\"text-align: right;\">  RUL</th></tr>\n",
       "</thead>\n",
       "<tbody>\n",
       "<tr><td style=\"text-align: right;\">           1</td><td style=\"text-align: right;\">    31</td><td style=\"text-align: right;\">   -0.0006</td><td style=\"text-align: right;\">    0.0004</td><td style=\"text-align: right;\">       100</td><td style=\"text-align: right;\">   518.67</td><td style=\"text-align: right;\">   642.58</td><td style=\"text-align: right;\">  1581.22</td><td style=\"text-align: right;\">  1398.91</td><td style=\"text-align: right;\">    14.62</td><td style=\"text-align: right;\">    21.61</td><td style=\"text-align: right;\">   554.42</td><td style=\"text-align: right;\">  2388.08</td><td style=\"text-align: right;\">  9056.4 </td><td style=\"text-align: right;\">       1.3</td><td style=\"text-align: right;\">     47.23</td><td style=\"text-align: right;\">    521.79</td><td style=\"text-align: right;\">   2388.06</td><td style=\"text-align: right;\">   8130.11</td><td style=\"text-align: right;\">    8.4024</td><td style=\"text-align: right;\">      0.03</td><td style=\"text-align: right;\">       393</td><td style=\"text-align: right;\">      2388</td><td style=\"text-align: right;\">       100</td><td style=\"text-align: right;\">     38.81</td><td style=\"text-align: right;\">   23.3552</td><td style=\"text-align: right;\">  112</td></tr>\n",
       "<tr><td style=\"text-align: right;\">           2</td><td style=\"text-align: right;\">    49</td><td style=\"text-align: right;\">    0.0018</td><td style=\"text-align: right;\">   -0.0001</td><td style=\"text-align: right;\">       100</td><td style=\"text-align: right;\">   518.67</td><td style=\"text-align: right;\">   642.55</td><td style=\"text-align: right;\">  1586.59</td><td style=\"text-align: right;\">  1410.83</td><td style=\"text-align: right;\">    14.62</td><td style=\"text-align: right;\">    21.61</td><td style=\"text-align: right;\">   553.52</td><td style=\"text-align: right;\">  2388.1 </td><td style=\"text-align: right;\">  9044.77</td><td style=\"text-align: right;\">       1.3</td><td style=\"text-align: right;\">     47.67</td><td style=\"text-align: right;\">    521.74</td><td style=\"text-align: right;\">   2388.09</td><td style=\"text-align: right;\">   8126.9 </td><td style=\"text-align: right;\">    8.4505</td><td style=\"text-align: right;\">      0.03</td><td style=\"text-align: right;\">       391</td><td style=\"text-align: right;\">      2388</td><td style=\"text-align: right;\">       100</td><td style=\"text-align: right;\">     38.81</td><td style=\"text-align: right;\">   23.2618</td><td style=\"text-align: right;\">   98</td></tr>\n",
       "<tr><td style=\"text-align: right;\">           3</td><td style=\"text-align: right;\">   126</td><td style=\"text-align: right;\">   -0.0016</td><td style=\"text-align: right;\">    0.0004</td><td style=\"text-align: right;\">       100</td><td style=\"text-align: right;\">   518.67</td><td style=\"text-align: right;\">   642.88</td><td style=\"text-align: right;\">  1589.75</td><td style=\"text-align: right;\">  1418.89</td><td style=\"text-align: right;\">    14.62</td><td style=\"text-align: right;\">    21.61</td><td style=\"text-align: right;\">   552.59</td><td style=\"text-align: right;\">  2388.16</td><td style=\"text-align: right;\">  9049.26</td><td style=\"text-align: right;\">       1.3</td><td style=\"text-align: right;\">     47.88</td><td style=\"text-align: right;\">    520.83</td><td style=\"text-align: right;\">   2388.14</td><td style=\"text-align: right;\">   8131.46</td><td style=\"text-align: right;\">    8.4119</td><td style=\"text-align: right;\">      0.03</td><td style=\"text-align: right;\">       395</td><td style=\"text-align: right;\">      2388</td><td style=\"text-align: right;\">       100</td><td style=\"text-align: right;\">     38.93</td><td style=\"text-align: right;\">   23.274 </td><td style=\"text-align: right;\">   69</td></tr>\n",
       "<tr><td style=\"text-align: right;\">           4</td><td style=\"text-align: right;\">   106</td><td style=\"text-align: right;\">    0.0012</td><td style=\"text-align: right;\">    0.0004</td><td style=\"text-align: right;\">       100</td><td style=\"text-align: right;\">   518.67</td><td style=\"text-align: right;\">   642.78</td><td style=\"text-align: right;\">  1594.53</td><td style=\"text-align: right;\">  1406.88</td><td style=\"text-align: right;\">    14.62</td><td style=\"text-align: right;\">    21.61</td><td style=\"text-align: right;\">   552.64</td><td style=\"text-align: right;\">  2388.13</td><td style=\"text-align: right;\">  9051.3 </td><td style=\"text-align: right;\">       1.3</td><td style=\"text-align: right;\">     47.65</td><td style=\"text-align: right;\">    521.88</td><td style=\"text-align: right;\">   2388.11</td><td style=\"text-align: right;\">   8133.64</td><td style=\"text-align: right;\">    8.4634</td><td style=\"text-align: right;\">      0.03</td><td style=\"text-align: right;\">       395</td><td style=\"text-align: right;\">      2388</td><td style=\"text-align: right;\">       100</td><td style=\"text-align: right;\">     38.58</td><td style=\"text-align: right;\">   23.2581</td><td style=\"text-align: right;\">   82</td></tr>\n",
       "<tr><td style=\"text-align: right;\">           5</td><td style=\"text-align: right;\">    98</td><td style=\"text-align: right;\">   -0.0013</td><td style=\"text-align: right;\">   -0.0004</td><td style=\"text-align: right;\">       100</td><td style=\"text-align: right;\">   518.67</td><td style=\"text-align: right;\">   642.27</td><td style=\"text-align: right;\">  1589.94</td><td style=\"text-align: right;\">  1419.36</td><td style=\"text-align: right;\">    14.62</td><td style=\"text-align: right;\">    21.61</td><td style=\"text-align: right;\">   553.29</td><td style=\"text-align: right;\">  2388.1 </td><td style=\"text-align: right;\">  9053.99</td><td style=\"text-align: right;\">       1.3</td><td style=\"text-align: right;\">     47.46</td><td style=\"text-align: right;\">    521   </td><td style=\"text-align: right;\">   2388.15</td><td style=\"text-align: right;\">   8125.74</td><td style=\"text-align: right;\">    8.4362</td><td style=\"text-align: right;\">      0.03</td><td style=\"text-align: right;\">       394</td><td style=\"text-align: right;\">      2388</td><td style=\"text-align: right;\">       100</td><td style=\"text-align: right;\">     38.75</td><td style=\"text-align: right;\">   23.4117</td><td style=\"text-align: right;\">   91</td></tr>\n",
       "<tr><td style=\"text-align: right;\">           6</td><td style=\"text-align: right;\">   105</td><td style=\"text-align: right;\">    0.0076</td><td style=\"text-align: right;\">   -0.0003</td><td style=\"text-align: right;\">       100</td><td style=\"text-align: right;\">   518.67</td><td style=\"text-align: right;\">   643.05</td><td style=\"text-align: right;\">  1586.94</td><td style=\"text-align: right;\">  1404.49</td><td style=\"text-align: right;\">    14.62</td><td style=\"text-align: right;\">    21.61</td><td style=\"text-align: right;\">   553.73</td><td style=\"text-align: right;\">  2388.14</td><td style=\"text-align: right;\">  9055.83</td><td style=\"text-align: right;\">       1.3</td><td style=\"text-align: right;\">     47.51</td><td style=\"text-align: right;\">    521.56</td><td style=\"text-align: right;\">   2388.15</td><td style=\"text-align: right;\">   8139.02</td><td style=\"text-align: right;\">    8.4452</td><td style=\"text-align: right;\">      0.03</td><td style=\"text-align: right;\">       393</td><td style=\"text-align: right;\">      2388</td><td style=\"text-align: right;\">       100</td><td style=\"text-align: right;\">     38.91</td><td style=\"text-align: right;\">   23.3269</td><td style=\"text-align: right;\">   93</td></tr>\n",
       "<tr><td style=\"text-align: right;\">           7</td><td style=\"text-align: right;\">   160</td><td style=\"text-align: right;\">    0.0016</td><td style=\"text-align: right;\">   -0.0001</td><td style=\"text-align: right;\">       100</td><td style=\"text-align: right;\">   518.67</td><td style=\"text-align: right;\">   642.1 </td><td style=\"text-align: right;\">  1589.59</td><td style=\"text-align: right;\">  1413.57</td><td style=\"text-align: right;\">    14.62</td><td style=\"text-align: right;\">    21.61</td><td style=\"text-align: right;\">   553.42</td><td style=\"text-align: right;\">  2388.04</td><td style=\"text-align: right;\">  9070.99</td><td style=\"text-align: right;\">       1.3</td><td style=\"text-align: right;\">     47.32</td><td style=\"text-align: right;\">    522.32</td><td style=\"text-align: right;\">   2388.07</td><td style=\"text-align: right;\">   8149.19</td><td style=\"text-align: right;\">    8.4028</td><td style=\"text-align: right;\">      0.03</td><td style=\"text-align: right;\">       393</td><td style=\"text-align: right;\">      2388</td><td style=\"text-align: right;\">       100</td><td style=\"text-align: right;\">     38.91</td><td style=\"text-align: right;\">   23.2763</td><td style=\"text-align: right;\">   91</td></tr>\n",
       "<tr><td style=\"text-align: right;\">           8</td><td style=\"text-align: right;\">   166</td><td style=\"text-align: right;\">    0.0016</td><td style=\"text-align: right;\">   -0.0005</td><td style=\"text-align: right;\">       100</td><td style=\"text-align: right;\">   518.67</td><td style=\"text-align: right;\">   642.59</td><td style=\"text-align: right;\">  1591.91</td><td style=\"text-align: right;\">  1413.89</td><td style=\"text-align: right;\">    14.62</td><td style=\"text-align: right;\">    21.61</td><td style=\"text-align: right;\">   553.51</td><td style=\"text-align: right;\">  2388.14</td><td style=\"text-align: right;\">  9049.96</td><td style=\"text-align: right;\">       1.3</td><td style=\"text-align: right;\">     47.59</td><td style=\"text-align: right;\">    520.53</td><td style=\"text-align: right;\">   2388.12</td><td style=\"text-align: right;\">   8127.84</td><td style=\"text-align: right;\">    8.4744</td><td style=\"text-align: right;\">      0.03</td><td style=\"text-align: right;\">       393</td><td style=\"text-align: right;\">      2388</td><td style=\"text-align: right;\">       100</td><td style=\"text-align: right;\">     38.73</td><td style=\"text-align: right;\">   23.2465</td><td style=\"text-align: right;\">   95</td></tr>\n",
       "<tr><td style=\"text-align: right;\">           9</td><td style=\"text-align: right;\">    55</td><td style=\"text-align: right;\">   -0.0003</td><td style=\"text-align: right;\">    0.0004</td><td style=\"text-align: right;\">       100</td><td style=\"text-align: right;\">   518.67</td><td style=\"text-align: right;\">   642.27</td><td style=\"text-align: right;\">  1593.61</td><td style=\"text-align: right;\">  1410.27</td><td style=\"text-align: right;\">    14.62</td><td style=\"text-align: right;\">    21.61</td><td style=\"text-align: right;\">   552.58</td><td style=\"text-align: right;\">  2388.13</td><td style=\"text-align: right;\">  9057.57</td><td style=\"text-align: right;\">       1.3</td><td style=\"text-align: right;\">     47.58</td><td style=\"text-align: right;\">    521.65</td><td style=\"text-align: right;\">   2388.16</td><td style=\"text-align: right;\">   8134.76</td><td style=\"text-align: right;\">    8.4293</td><td style=\"text-align: right;\">      0.03</td><td style=\"text-align: right;\">       392</td><td style=\"text-align: right;\">      2388</td><td style=\"text-align: right;\">       100</td><td style=\"text-align: right;\">     38.78</td><td style=\"text-align: right;\">   23.3515</td><td style=\"text-align: right;\">  111</td></tr>\n",
       "<tr><td style=\"text-align: right;\">          10</td><td style=\"text-align: right;\">   192</td><td style=\"text-align: right;\">   -0.0018</td><td style=\"text-align: right;\">    0.0004</td><td style=\"text-align: right;\">       100</td><td style=\"text-align: right;\">   518.67</td><td style=\"text-align: right;\">   643   </td><td style=\"text-align: right;\">  1589.5 </td><td style=\"text-align: right;\">  1398.99</td><td style=\"text-align: right;\">    14.62</td><td style=\"text-align: right;\">    21.61</td><td style=\"text-align: right;\">   552.88</td><td style=\"text-align: right;\">  2388.11</td><td style=\"text-align: right;\">  9060.88</td><td style=\"text-align: right;\">       1.3</td><td style=\"text-align: right;\">     47.59</td><td style=\"text-align: right;\">    521.82</td><td style=\"text-align: right;\">   2388.08</td><td style=\"text-align: right;\">   8141.91</td><td style=\"text-align: right;\">    8.4194</td><td style=\"text-align: right;\">      0.03</td><td style=\"text-align: right;\">       393</td><td style=\"text-align: right;\">      2388</td><td style=\"text-align: right;\">       100</td><td style=\"text-align: right;\">     38.79</td><td style=\"text-align: right;\">   23.2956</td><td style=\"text-align: right;\">   96</td></tr>\n",
       "</tbody>\n",
       "</table>"
      ]
     },
     "metadata": {},
     "output_type": "display_data"
    },
    {
     "data": {
      "text/plain": []
     },
     "execution_count": 8,
     "metadata": {},
     "output_type": "execute_result"
    }
   ],
   "source": [
    "# Convert pandas frame to h2o\n",
    "h_train = h2o.H2OFrame(p_train)\n",
    "h_train.set_names(list(p_train.columns))\n",
    "h_validate = h2o.H2OFrame(p_validate)\n",
    "h_validate.set_names(list(p_validate.columns))\n",
    "h_test = h2o.H2OFrame(p_test)\n",
    "h_test.set_names(list(p_test.columns))"
   ]
  },
  {
   "cell_type": "code",
   "execution_count": 9,
   "metadata": {},
   "outputs": [],
   "source": [
    "# Select columns for AutoEncoder\n",
    "ac_train_columns = list(p_data.columns) # Define autoencoder train columns\n",
    "rm_columns = ['RUL', 'UnitNumber', 'Time', 'Setting1', 'Setting2', 'Setting3'] # Columns need to be removed\n",
    "'''\n",
    "Because we are using auto encoders to remove noises in sensor readings. So we have to select only sensor readings\n",
    "'''\n",
    "for column in rm_columns:\n",
    "    ac_train_columns.remove(column)"
   ]
  },
  {
   "cell_type": "code",
   "execution_count": 10,
   "metadata": {},
   "outputs": [
    {
     "name": "stdout",
     "output_type": "stream",
     "text": [
      "deeplearning Model Build progress: |██████████████████████████████████████| 100%\n"
     ]
    }
   ],
   "source": [
    "# Define AutoEncoder model\n",
    "auto_encoder_model = H2OAutoEncoderEstimator(\n",
    "        activation=\"Tanh\",\n",
    "        hidden=[18],\n",
    "        epochs=150,\n",
    "        loss='Quadratic',\n",
    "        distribution='gaussian'\n",
    "    )\n",
    "\n",
    "# Train AutoEncoder model\n",
    "auto_encoder_model.train(x=ac_train_columns, training_frame=h_train, validation_frame=h_validate)"
   ]
  },
  {
   "cell_type": "code",
   "execution_count": 11,
   "metadata": {},
   "outputs": [],
   "source": [
    "# Get reconstruction error\n",
    "reconstruction_error = auto_encoder_model.anomaly(test_data=h_train, per_feature=False)\n",
    "error_str = reconstruction_error.get_frame_data()\n",
    "err_list = list(map(float, error_str.split(\"\\n\")[1:-1]))"
   ]
  },
  {
   "cell_type": "code",
   "execution_count": 12,
   "metadata": {},
   "outputs": [],
   "source": [
    "# Filter anomalies in reconstruction error\n",
    "'''\n",
    "IQR Rule\n",
    "----------------\n",
    "Q25 = 25 th percentile\n",
    "Q75 = 75 th percentile\n",
    "IQR = Q75 - Q25 Inner quartile range\n",
    "if abs(x-Q75) > 1.5 * IQR : A mild outlier\n",
    "if abs(x-Q75) > 3.0 * IQR : An extreme outlier\n",
    "\n",
    "'''\n",
    "q25 = np.percentile(err_list, 25)\n",
    "q75 = np.percentile(err_list, 75)\n",
    "iqr = q75 - q25\n",
    "\n",
    "rm_index = [] # Stores row numbers which have anomalies\n",
    "for i in range(h_train.nrow):\n",
    "    if abs(err_list[i] - q75) > 4 * iqr:\n",
    "        rm_index.append(i)\n",
    "\n",
    "# Remove anomalies\n",
    "p_filtered = p_train.drop(p_train.index[rm_index])"
   ]
  },
  {
   "cell_type": "code",
   "execution_count": 13,
   "metadata": {},
   "outputs": [
    {
     "name": "stdout",
     "output_type": "stream",
     "text": [
      "Parse progress: |█████████████████████████████████████████████████████████| 100%\n"
     ]
    }
   ],
   "source": [
    "# Convert pandas to H2OFrame\n",
    "h_data = h2o.H2OFrame(p_filtered)\n",
    "h_data.set_names(list(p_data.columns))\n",
    "\n",
    "# DeepLearning model training and validation\n",
    "h_train, h_validate = h_data.split_frame(ratios=[_vr_model])\n",
    "\n",
    "# Extract ground truth data\n",
    "ground_truth_data = np.array(p_test[response_column])\n",
    "\n",
    "# Define columns\n",
    "dl_train_columns = list(p_filtered.columns)\n",
    "rm_columns = ['RUL', 'UnitNumber', 'Time']\n",
    "for column in rm_columns:\n",
    "    dl_train_columns.remove(column)"
   ]
  },
  {
   "cell_type": "code",
   "execution_count": 14,
   "metadata": {},
   "outputs": [
    {
     "name": "stdout",
     "output_type": "stream",
     "text": [
      "Building Models\n",
      "---------------\n"
     ]
    }
   ],
   "source": [
    "# Building multiple models\n",
    "print(\"Building Models\")\n",
    "print(\"---------------\")\n",
    "model_array = {}\n",
    "for i in range(_nmodels):\n",
    "    model_array[i] = H2ODeepLearningEstimator(nfolds=10)"
   ]
  },
  {
   "cell_type": "code",
   "execution_count": 15,
   "metadata": {},
   "outputs": [
    {
     "name": "stdout",
     "output_type": "stream",
     "text": [
      "Training Models\n",
      "---------------\n",
      "deeplearning Model Build progress: |██████████████████████████████████████| 100%\n",
      "deeplearning Model Build progress: |██████████████████████████████████████| 100%\n",
      "deeplearning Model Build progress: |██████████████████████████████████████| 100%\n",
      "deeplearning Model Build progress: |██████████████████████████████████████| 100%\n",
      "deeplearning Model Build progress: |██████████████████████████████████████| 100%\n",
      "deeplearning Model Build progress: |██████████████████████████████████████| 100%\n",
      "deeplearning Model Build progress: |██████████████████████████████████████| 100%\n",
      "deeplearning Model Build progress: |██████████████████████████████████████| 100%\n",
      "deeplearning Model Build progress: |██████████████████████████████████████| 100%\n",
      "deeplearning Model Build progress: |██████████████████████████████████████| 100%\n"
     ]
    }
   ],
   "source": [
    "# Training models\n",
    "print(\"Training Models\")\n",
    "print(\"---------------\")\n",
    "for i in range(_nmodels):\n",
    "    model_array[i].train(x=dl_train_columns, y=response_column, training_frame=h_train)\n"
   ]
  },
  {
   "cell_type": "code",
   "execution_count": 16,
   "metadata": {},
   "outputs": [],
   "source": [
    "from sklearn_pandas import DataFrameMapper\n",
    "\n",
    "def pandasToH2O(panda_frame):\n",
    "    h2o.init()\n",
    "    parsed_frame = h2o.H2OFrame(panda_frame)\n",
    "    parsed_frame.set_names(list(panda_frame.columns))\n",
    "    return parsed_frame\n",
    "\n",
    "def pandasToSkLearn(panda_frame, training_features, response_feature):\n",
    "    df_mapper = DataFrameMapper([(training_features, None), (response_feature, None)])\n",
    "    parsed_frame = df_mapper.fit_transform(panda_frame)\n",
    "    return parsed_frame\n",
    "\n",
    "def h2oToNumpyArray(h2o_frame):\n",
    "    h2o_frame = h2o_frame.get_frame_data()\n",
    "    return np.array(list(map(float, h2o_frame.split(\"\\n\")[1:-1])))\n",
    "\n",
    "def h2oToList(h2o_frame):\n",
    "    h2o_frame = h2o_frame.get_frame_data()\n",
    "    return h2o_frame.split(\"\\n\")[1:-1]\n",
    "\n",
    "def calculateError(actual, predict):\n",
    "    actual = h2oToNumpyArray(actual)\n",
    "    \n",
    "    predict = h2oToNumpyArray(predict)\n",
    "    error = 0\n",
    "    for i in range(len(actual)):\n",
    "        d = predict[i] - actual[i]\n",
    "        if d > 0:\n",
    "            error += math.exp(d/10.0)\n",
    "        elif d < 0:\n",
    "            error += math.exp(d/13.0)\n",
    "    return error"
   ]
  },
  {
   "cell_type": "code",
   "execution_count": 17,
   "metadata": {},
   "outputs": [
    {
     "name": "stdout",
     "output_type": "stream",
     "text": [
      "Validating Models\n",
      "-----------------\n",
      "deeplearning prediction progress: |███████████████████████████████████████| 100%\n",
      "deeplearning prediction progress: |███████████████████████████████████████| 100%\n",
      "deeplearning prediction progress: |███████████████████████████████████████| 100%\n",
      "deeplearning prediction progress: |███████████████████████████████████████| 100%\n",
      "deeplearning prediction progress: |███████████████████████████████████████| 100%\n",
      "deeplearning prediction progress: |███████████████████████████████████████| 100%\n",
      "deeplearning prediction progress: |███████████████████████████████████████| 100%\n",
      "deeplearning prediction progress: |███████████████████████████████████████| 100%\n",
      "deeplearning prediction progress: |███████████████████████████████████████| 100%\n",
      "deeplearning prediction progress: |███████████████████████████████████████| 100%\n"
     ]
    }
   ],
   "source": [
    "# Validate models and assign weights\n",
    "print(\"Validating Models\")\n",
    "print(\"-----------------\")\n",
    "rmse_vals = np.zeros(shape=_nmodels) # Store root mean squared error of each model\n",
    "for i in range(_nmodels):\n",
    "    # performance = model_array[i].model_performance(test_data=h_validate)\n",
    "    # rmse_vals[i] = math.sqrt(performance.mse())\n",
    "    predict = model_array[i].predict(test_data=h_validate)\n",
    "    actual = h_test['RUL']\n",
    "    rmse_vals[i] = calculateError(actual, predict)"
   ]
  },
  {
   "cell_type": "code",
   "execution_count": 18,
   "metadata": {},
   "outputs": [],
   "source": [
    "# Calculate weights\n",
    "weights_array = 100 * np.amin(rmse_vals) / rmse_vals         # Lowest RMSE has highest weight and vice versa"
   ]
  },
  {
   "cell_type": "code",
   "execution_count": 19,
   "metadata": {},
   "outputs": [],
   "source": [
    "# Select models\n",
    "selected_models = weights_array.argsort()[-_smodels:][::-1]  # Filter indexes of (_smodels) number of models which have highest weights\n",
    "model_array = [model_array[i] for i in selected_models]      # Selected model array\n",
    "weights_array = [weights_array[i] for i in selected_models]  # Weights related to selected models\n",
    "_nmodels = _smodels"
   ]
  },
  {
   "cell_type": "code",
   "execution_count": 20,
   "metadata": {},
   "outputs": [
    {
     "name": "stdout",
     "output_type": "stream",
     "text": [
      "Predicting\n",
      "----------\n",
      "deeplearning prediction progress: |███████████████████████████████████████| 100%\n",
      "deeplearning prediction progress: |███████████████████████████████████████| 100%\n",
      "deeplearning prediction progress: |███████████████████████████████████████| 100%\n",
      "deeplearning prediction progress: |███████████████████████████████████████| 100%\n",
      "deeplearning prediction progress: |███████████████████████████████████████| 100%\n"
     ]
    }
   ],
   "source": [
    "# Predicting\n",
    "print(\"Predicting\")\n",
    "print(\"----------\")\n",
    "prediction_array = {} # Store predictions related to each model. 2D array\n",
    "for i in range(_nmodels):\n",
    "    prediction_array[i] = model_array[i].predict(h_test)"
   ]
  },
  {
   "cell_type": "code",
   "execution_count": 21,
   "metadata": {},
   "outputs": [
    {
     "name": "stdout",
     "output_type": "stream",
     "text": [
      "Filtering Predictions\n",
      "---------------------\n"
     ]
    }
   ],
   "source": [
    "# Filter predictions\n",
    "print(\"Filtering Predictions\")\n",
    "print(\"---------------------\")\n",
    "final_prediction = np.zeros(shape=h_test.nrow)\n",
    "for i in range(h_test.nrow):\n",
    "    per_model_result = []\n",
    "    for j in range(_nmodels):\n",
    "        per_model_result.append({'value': (prediction_array[j][i, 0] * weights_array[j]), 'weight': weights_array[j]})\n",
    "\n",
    "    # Remove outliers\n",
    "    sorted_filtered_results = sorted(per_model_result, key=lambda k: k['value'])[_lim:-_lim]\n",
    "\n",
    "    # Weighted average\n",
    "    result = sum(d['value'] for d in sorted_filtered_results) / float(sum(d['weight'] for d in sorted_filtered_results))\n",
    "\n",
    "    final_prediction[i] = result"
   ]
  },
  {
   "cell_type": "code",
   "execution_count": 22,
   "metadata": {},
   "outputs": [
    {
     "name": "stdout",
     "output_type": "stream",
     "text": [
      "Result\n",
      "------\n",
      "Root Mean Squared Error : 27.375865388498433\n",
      "Mean Absolute Error     : 20.228538336660577\n"
     ]
    }
   ],
   "source": [
    "# Summary\n",
    "print(\"Result\")\n",
    "print(\"------\")\n",
    "print(\"Root Mean Squared Error :\", math.sqrt(mean_squared_error(ground_truth_data, final_prediction)))\n",
    "print(\"Mean Absolute Error     :\", mean_absolute_error(ground_truth_data, final_prediction))"
   ]
  },
  {
   "cell_type": "code",
   "execution_count": 23,
   "metadata": {},
   "outputs": [],
   "source": [
    "from presenting import Chart"
   ]
  },
  {
   "cell_type": "code",
   "execution_count": 24,
   "metadata": {},
   "outputs": [
    {
     "data": {
      "image/png": "[encoded data removed]",
      "text/plain": [
       "<matplotlib.figure.Figure at 0x11886d470>"
      ]
     },
     "metadata": {},
     "output_type": "display_data"
    },
    {
     "data": {
      "image/png": "[encoded data removed]",
      "text/plain": [
       "<matplotlib.figure.Figure at 0x11883cb70>"
      ]
     },
     "metadata": {},
     "output_type": "display_data"
    },
    {
     "data": {
      "image/png": "[encoded data removed]",
      "text/plain": [
       "<matplotlib.figure.Figure at 0x11883c5f8>"
      ]
     },
     "metadata": {},
     "output_type": "display_data"
    }
   ],
   "source": [
    "Chart.residual_histogram(ground_truth_data, final_prediction)\n",
    "Chart.residual_vs_estimated(ground_truth_data, final_prediction)\n",
    "Chart.acutal_and_predict(ground_truth_data, final_prediction)"
   ]
  },
  {
   "cell_type": "code",
   "execution_count": null,
   "metadata": {},
   "outputs": [],
   "source": []
  }
 ],
 "metadata": {
  "kernelspec": {
   "display_name": "Python 3",
   "language": "python",
   "name": "python3"
  },
  "language_info": {
   "codemirror_mode": {
    "name": "ipython",
    "version": 3
   },
   "file_extension": ".py",
   "mimetype": "text/x-python",
   "name": "python",
   "nbconvert_exporter": "python",
   "pygments_lexer": "ipython3",
   "version": "3.6.4"
  },
  "varInspector": {
   "cols": {
    "lenName": 16,
    "lenType": 16,
    "lenVar": 40
   },
   "kernels_config": {
    "python": {
     "delete_cmd_postfix": "",
     "delete_cmd_prefix": "del ",
     "library": "var_list.py",
     "varRefreshCmd": "print(var_dic_list())"
    },
    "r": {
     "delete_cmd_postfix": ") ",
     "delete_cmd_prefix": "rm(",
     "library": "var_list.r",
     "varRefreshCmd": "cat(var_dic_list()) "
    }
   },
   "position": {
    "height": "388px",
    "left": "747px",
    "right": "20px",
    "top": "97px",
    "width": "617px"
   },
   "types_to_exclude": [
    "module",
    "function",
    "builtin_function_or_method",
    "instance",
    "_Feature"
   ],
   "window_display": false
  }
 },
 "nbformat": 4,
 "nbformat_minor": 2
}
