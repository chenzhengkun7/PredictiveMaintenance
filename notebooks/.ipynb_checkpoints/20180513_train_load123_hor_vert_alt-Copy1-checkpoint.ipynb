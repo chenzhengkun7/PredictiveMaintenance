{
 "cells": [
  {
   "cell_type": "code",
   "execution_count": 1,
   "metadata": {},
   "outputs": [
    {
     "name": "stderr",
     "output_type": "stream",
     "text": [
      "Using TensorFlow backend.\n"
     ]
    }
   ],
   "source": [
    "%load_ext autoreload\n",
    "%autoreload 2\n",
    "from util import util\n",
    "import numpy as np"
   ]
  },
  {
   "cell_type": "code",
   "execution_count": 2,
   "metadata": {},
   "outputs": [],
   "source": [
    "# train signals\n",
    "%store -r signal_1_1_hor\n",
    "%store -r signal_1_2_hor\n",
    "%store -r signal_1_1_vert\n",
    "%store -r signal_1_2_vert\n",
    "\n",
    "%store -r signal_2_1_hor\n",
    "%store -r signal_2_2_hor\n",
    "%store -r signal_2_1_vert\n",
    "%store -r signal_2_2_vert\n",
    "\n",
    "%store -r signal_3_1_hor\n",
    "%store -r signal_3_2_hor\n",
    "%store -r signal_3_1_vert\n",
    "%store -r signal_3_2_vert\n",
    "\n",
    "# test signals\n",
    "%store -r signal_1_3_hor\n",
    "%store -r signal_1_4_hor\n",
    "%store -r signal_1_5_hor\n",
    "%store -r signal_1_6_hor\n",
    "%store -r signal_1_7_hor\n",
    "%store -r signal_1_3_vert\n",
    "%store -r signal_1_4_vert\n",
    "%store -r signal_1_5_vert\n",
    "%store -r signal_1_6_vert\n",
    "%store -r signal_1_7_vert\n",
    "\n",
    "%store -r signal_2_3_hor\n",
    "%store -r signal_2_4_hor\n",
    "%store -r signal_2_5_hor\n",
    "%store -r signal_2_6_hor\n",
    "%store -r signal_2_7_hor\n",
    "%store -r signal_2_3_vert\n",
    "%store -r signal_2_4_vert\n",
    "%store -r signal_2_5_vert\n",
    "%store -r signal_2_6_vert\n",
    "%store -r signal_2_7_vert\n",
    "\n",
    "%store -r signal_3_3_hor\n",
    "%store -r signal_3_3_vert\n",
    "\n",
    "hor_train = [signal_1_1_hor, signal_1_2_hor, signal_2_1_hor, signal_2_2_hor, signal_3_1_hor, signal_3_2_hor]\n",
    "vert_train = [signal_1_1_vert, signal_1_2_vert, signal_2_1_vert, signal_2_2_vert, signal_3_1_vert, signal_3_2_vert]\n",
    "\n",
    "hor_test = [signal_1_3_hor, signal_1_4_hor, signal_1_5_hor, signal_1_6_hor, signal_1_7_hor,\n",
    "            signal_2_3_hor, signal_2_4_hor, signal_2_5_hor, signal_2_6_hor, signal_2_7_hor,\n",
    "            signal_3_3_hor]\n",
    "vert_test = [signal_1_3_vert, signal_1_4_vert, signal_1_5_vert, signal_1_6_vert, signal_1_7_vert,\n",
    "             signal_2_3_vert, signal_2_4_vert, signal_2_5_vert, signal_2_6_vert, signal_2_7_vert,\n",
    "             signal_3_3_vert]\n",
    "\n",
    "spectros_train_hor = [util.getSpectro(signal) for signal in hor_train]\n",
    "spectros_train_vert = [util.getSpectro(signal) for signal in vert_train]\n",
    "\n",
    "spectros_test_hor = [util.getSpectro(signal) for signal in hor_test]\n",
    "spectros_test_vert = [util.getSpectro(signal) for signal in vert_test]"
   ]
  },
  {
   "cell_type": "code",
   "execution_count": 3,
   "metadata": {},
   "outputs": [],
   "source": [
    "# parameters\n",
    "expName = 'b123_hor_vert'\n",
    "\n",
    "testspecs = [\n",
    "    ['1_3', 5730],\n",
    "    ['1_4', 339],\n",
    "    ['1_5', 1610],\n",
    "    ['1_6', 1460],\n",
    "    ['1_7', 7570],\n",
    "    ['2_3', 7530],\n",
    "    ['2_4', 1390],\n",
    "    ['2_5', 3090],\n",
    "    ['2_6', 1290],\n",
    "    ['2_7', 580],\n",
    "    ['3_3', 820]\n",
    "]"
   ]
  },
  {
   "cell_type": "markdown",
   "metadata": {},
   "source": [
    "### bepaal X en Y voor trainen"
   ]
  },
  {
   "cell_type": "code",
   "execution_count": 4,
   "metadata": {},
   "outputs": [
    {
     "name": "stdout",
     "output_type": "stream",
     "text": [
      "(7534, 2562)\n",
      "(7534,)\n"
     ]
    }
   ],
   "source": [
    "X_train = np.concatenate((np.concatenate(spectros_train_hor, axis=0),\n",
    "                          np.concatenate(spectros_train_vert, axis=0)), \n",
    "                          axis=1)\n",
    "print(np.shape(X_train))\n",
    "\n",
    "Y_train = []\n",
    "for spectro in spectros_train_hor:\n",
    "    nr_samples = len(spectro)\n",
    "    Y_train_nw = np.array([10 * (nr_samples - i) for i in range(1, nr_samples +1)])\n",
    "    Y_train = np.append(Y_train, Y_train_nw)\n",
    "    \n",
    "print(np.shape(Y_train))"
   ]
  },
  {
   "cell_type": "markdown",
   "metadata": {},
   "source": [
    "## train modellen"
   ]
  },
  {
   "cell_type": "code",
   "execution_count": 5,
   "metadata": {},
   "outputs": [],
   "source": [
    "layersizes = [600,300,150,25]\n",
    "epochss = [50, 100, 200, 500]"
   ]
  },
  {
   "cell_type": "code",
   "execution_count": null,
   "metadata": {
    "scrolled": false
   },
   "outputs": [
    {
     "name": "stdout",
     "output_type": "stream",
     "text": [
      "Epoch 1/50\n",
      "7534/7534 [==============================] - 2s 271us/step - loss: 78626371.5466\n",
      "Epoch 2/50\n",
      "7534/7534 [==============================] - 1s 189us/step - loss: 48636567.5742\n",
      "Epoch 3/50\n",
      "7534/7534 [==============================] - 1s 167us/step - loss: 44297847.1898\n",
      "Epoch 4/50\n",
      "7534/7534 [==============================] - 1s 175us/step - loss: 39955964.1211\n",
      "Epoch 5/50\n",
      "7534/7534 [==============================] - 1s 179us/step - loss: 37183629.6294\n",
      "Epoch 6/50\n",
      "7534/7534 [==============================] - 1s 189us/step - loss: 34296186.3106\n",
      "Epoch 7/50\n",
      "7534/7534 [==============================] - 1s 180us/step - loss: 28730401.1619\n",
      "Epoch 8/50\n",
      "7534/7534 [==============================] - 1s 166us/step - loss: 16849480.8524\n",
      "Epoch 9/50\n",
      "7534/7534 [==============================] - 1s 174us/step - loss: 9279536.0016\n",
      "Epoch 10/50\n",
      "7534/7534 [==============================] - 1s 177us/step - loss: 7892223.2533\n",
      "Epoch 11/50\n",
      "7534/7534 [==============================] - 1s 156us/step - loss: 7344279.4001\n",
      "Epoch 12/50\n",
      "7534/7534 [==============================] - 1s 162us/step - loss: 6830696.0611\n",
      "Epoch 13/50\n",
      "7534/7534 [==============================] - 1s 166us/step - loss: 6411822.9374\n",
      "Epoch 14/50\n",
      "7534/7534 [==============================] - 1s 179us/step - loss: 6179508.9421\n",
      "Epoch 15/50\n",
      "7534/7534 [==============================] - 1s 170us/step - loss: 5747584.7244\n",
      "Epoch 16/50\n",
      "7534/7534 [==============================] - 1s 173us/step - loss: 5604875.2518\n",
      "Epoch 17/50\n",
      "7534/7534 [==============================] - 1s 163us/step - loss: 5311499.7390\n",
      "Epoch 18/50\n",
      "7534/7534 [==============================] - 1s 178us/step - loss: 5146063.2025\n",
      "Epoch 19/50\n",
      "7534/7534 [==============================] - 1s 175us/step - loss: 4775046.5569\n",
      "Epoch 20/50\n",
      "7534/7534 [==============================] - 1s 190us/step - loss: 4622635.9510\n",
      "Epoch 21/50\n",
      "7534/7534 [==============================] - 1s 177us/step - loss: 4699366.1250\n",
      "Epoch 22/50\n",
      "5696/7534 [=====================>........] - ETA: 0s - loss: 4302942.5857"
     ]
    }
   ],
   "source": [
    "%%capture --no-stderr --no-stdout learningOutput\n",
    "for epochs in epochss:\n",
    "    rulModel, history = util.trainModel(X_train, Y_train, layersizes, epochs, expName)"
   ]
  },
  {
   "cell_type": "markdown",
   "metadata": {},
   "source": [
    "## test modellen"
   ]
  },
  {
   "cell_type": "code",
   "execution_count": null,
   "metadata": {
    "scrolled": true
   },
   "outputs": [],
   "source": [
    "for testIndex in range(len(testspecs)):\n",
    "    print('##################\\n# Test: {:s}\\n##################'.format(testspecs[testIndex][0]))\n",
    "    actRUL =  testspecs[testIndex][1]\n",
    "    testSpectro = np.concatenate((spectros_test_hor[testIndex], spectros_test_vert[testIndex]), axis=1)\n",
    "    modelnames = [util.getModelName(layersizes, epochs, expName) for epochs in epochss]\n",
    "    util.evaluate_spectro(modelnames, testSpectro, actRUL)"
   ]
  },
  {
   "cell_type": "markdown",
   "metadata": {},
   "source": [
    "# Train met andere layers"
   ]
  },
  {
   "cell_type": "code",
   "execution_count": null,
   "metadata": {},
   "outputs": [],
   "source": [
    "layersizes = [300,25]\n",
    "epochss = [50, 100, 200, 500]\n",
    "for epochs in epochss:\n",
    "    rulModel, history = util.trainModel(X_train, Y_train, layersizes, epochs, expName)"
   ]
  },
  {
   "cell_type": "code",
   "execution_count": null,
   "metadata": {},
   "outputs": [],
   "source": [
    "for testIndex in range(len(testspecs)):\n",
    "    print('##################\\n# Test: {:s}\\n##################'.format(testspecs[testIndex][0]))\n",
    "    actRUL =  testspecs[testIndex][1]\n",
    "    testSpectro = np.concatenate((spectros_test_hor[testIndex], spectros_test_vert[testIndex]), axis=1)\n",
    "    modelnames = [util.getModelName(layersizes, epochs, expName) for epochs in epochss]\n",
    "    util.evaluate_spectro(modelnames, testSpectro, actRUL)"
   ]
  },
  {
   "cell_type": "code",
   "execution_count": null,
   "metadata": {},
   "outputs": [],
   "source": [
    "layersizes = [1000, 900,600,300,150,25]\n",
    "epochss = [50, 100, 200, 500]\n",
    "for epochs in epochss:\n",
    "    rulModel, history = util.trainModel(X_train, Y_train, layersizes, epochs, expName)"
   ]
  },
  {
   "cell_type": "code",
   "execution_count": null,
   "metadata": {},
   "outputs": [],
   "source": [
    "for testIndex in range(len(testspecs)):\n",
    "    print('##################\\n# Test: {:s}\\n##################'.format(testspecs[testIndex][0]))\n",
    "    actRUL =  testspecs[testIndex][1]\n",
    "    testSpectro = np.concatenate((spectros_test_hor[testIndex], spectros_test_vert[testIndex]), axis=1)\n",
    "    modelnames = [util.getModelName(layersizes, epochs, expName) for epochs in epochss]\n",
    "    util.evaluate_spectro(modelnames, testSpectro, actRUL)"
   ]
  },
  {
   "cell_type": "code",
   "execution_count": null,
   "metadata": {},
   "outputs": [],
   "source": [
    "layersizes = [50]\n",
    "epochss = [50, 100, 200, 500]\n",
    "for epochs in epochss:\n",
    "    rulModel, history = util.trainModel(X_train, Y_train, layersizes, epochs, expName)"
   ]
  },
  {
   "cell_type": "code",
   "execution_count": null,
   "metadata": {},
   "outputs": [],
   "source": [
    "for testIndex in range(len(testspecs)):\n",
    "    print('##################\\n# Test: {:s}\\n##################'.format(testspecs[testIndex][0]))\n",
    "    actRUL =  testspecs[testIndex][1]\n",
    "    testSpectro = np.concatenate((spectros_test_hor[testIndex], spectros_test_vert[testIndex]), axis=1)\n",
    "    modelnames = [util.getModelName(layersizes, epochs, expName) for epochs in epochss]\n",
    "    util.evaluate_spectro(modelnames, testSpectro, actRUL)"
   ]
  },
  {
   "cell_type": "code",
   "execution_count": 7,
   "metadata": {},
   "outputs": [],
   "source": [
    "import tensorflow as tf\n",
    "sess = tf.Session(config=tf.ConfigProto(log_device_placement=True))"
   ]
  },
  {
   "cell_type": "code",
   "execution_count": null,
   "metadata": {},
   "outputs": [],
   "source": []
  }
 ],
 "metadata": {
  "kernelspec": {
   "display_name": "Python 3",
   "language": "python",
   "name": "python3"
  },
  "language_info": {
   "codemirror_mode": {
    "name": "ipython",
    "version": 3
   },
   "file_extension": ".py",
   "mimetype": "text/x-python",
   "name": "python",
   "nbconvert_exporter": "python",
   "pygments_lexer": "ipython3",
   "version": "3.6.5"
  },
  "varInspector": {
   "cols": {
    "lenName": 16,
    "lenType": 16,
    "lenVar": 40
   },
   "kernels_config": {
    "python": {
     "delete_cmd_postfix": "",
     "delete_cmd_prefix": "del ",
     "library": "var_list.py",
     "varRefreshCmd": "print(var_dic_list())"
    },
    "r": {
     "delete_cmd_postfix": ") ",
     "delete_cmd_prefix": "rm(",
     "library": "var_list.r",
     "varRefreshCmd": "cat(var_dic_list()) "
    }
   },
   "position": {
    "height": "619px",
    "left": "519px",
    "right": "20px",
    "top": "-20px",
    "width": "647px"
   },
   "types_to_exclude": [
    "module",
    "function",
    "builtin_function_or_method",
    "instance",
    "_Feature"
   ],
   "window_display": false
  }
 },
 "nbformat": 4,
 "nbformat_minor": 2
}
