{
 "cells": [
  {
   "cell_type": "code",
   "execution_count": 4,
   "metadata": {},
   "outputs": [
    {
     "name": "stdout",
     "output_type": "stream",
     "text": [
      "The autoreload extension is already loaded. To reload it, use:\n",
      "  %reload_ext autoreload\n"
     ]
    }
   ],
   "source": [
    "%load_ext autoreload\n",
    "%autoreload 2\n",
    "from util import util\n",
    "import numpy as np"
   ]
  },
  {
   "cell_type": "code",
   "execution_count": 5,
   "metadata": {},
   "outputs": [],
   "source": [
    "# train signals\n",
    "%store -r signal_2_1_vert\n",
    "%store -r signal_2_2_vert\n",
    "\n",
    "# test signals\n",
    "%store -r signal_2_3_vert\n",
    "%store -r signal_2_4_vert\n",
    "%store -r signal_2_5_vert\n",
    "%store -r signal_2_6_vert\n",
    "%store -r signal_2_7_vert"
   ]
  },
  {
   "cell_type": "markdown",
   "metadata": {},
   "source": [
    "### bepaal X en Y voor trainen"
   ]
  },
  {
   "cell_type": "code",
   "execution_count": 6,
   "metadata": {},
   "outputs": [
    {
     "ename": "NameError",
     "evalue": "name 'np' is not defined",
     "output_type": "error",
     "traceback": [
      "\u001b[0;31m---------------------------------------------------------------------------\u001b[0m",
      "\u001b[0;31mNameError\u001b[0m                                 Traceback (most recent call last)",
      "\u001b[0;32m<ipython-input-6-2fdae2044849>\u001b[0m in \u001b[0;36m<module>\u001b[0;34m()\u001b[0m\n\u001b[1;32m      1\u001b[0m \u001b[0mspectros_train\u001b[0m \u001b[0;34m=\u001b[0m \u001b[0;34m[\u001b[0m\u001b[0mutil\u001b[0m\u001b[0;34m.\u001b[0m\u001b[0mgetSpectro\u001b[0m\u001b[0;34m(\u001b[0m\u001b[0msignal_2_1_vert\u001b[0m\u001b[0;34m)\u001b[0m\u001b[0;34m,\u001b[0m \u001b[0mutil\u001b[0m\u001b[0;34m.\u001b[0m\u001b[0mgetSpectro\u001b[0m\u001b[0;34m(\u001b[0m\u001b[0msignal_2_2_vert\u001b[0m\u001b[0;34m)\u001b[0m\u001b[0;34m]\u001b[0m\u001b[0;34m\u001b[0m\u001b[0m\n\u001b[0;32m----> 2\u001b[0;31m \u001b[0mX_train\u001b[0m \u001b[0;34m=\u001b[0m \u001b[0mnp\u001b[0m\u001b[0;34m.\u001b[0m\u001b[0mappend\u001b[0m\u001b[0;34m(\u001b[0m\u001b[0mspectros_train\u001b[0m\u001b[0;34m[\u001b[0m\u001b[0;36m0\u001b[0m\u001b[0;34m]\u001b[0m\u001b[0;34m,\u001b[0m \u001b[0mspectros_train\u001b[0m\u001b[0;34m[\u001b[0m\u001b[0;36m1\u001b[0m\u001b[0;34m]\u001b[0m\u001b[0;34m,\u001b[0m \u001b[0maxis\u001b[0m\u001b[0;34m=\u001b[0m\u001b[0;36m0\u001b[0m\u001b[0;34m)\u001b[0m\u001b[0;34m\u001b[0m\u001b[0m\n\u001b[0m\u001b[1;32m      3\u001b[0m \u001b[0mprint\u001b[0m\u001b[0;34m(\u001b[0m\u001b[0mnp\u001b[0m\u001b[0;34m.\u001b[0m\u001b[0mshape\u001b[0m\u001b[0;34m(\u001b[0m\u001b[0mX_train\u001b[0m\u001b[0;34m)\u001b[0m\u001b[0;34m)\u001b[0m\u001b[0;34m\u001b[0m\u001b[0m\n\u001b[1;32m      4\u001b[0m \u001b[0;34m\u001b[0m\u001b[0m\n\u001b[1;32m      5\u001b[0m \u001b[0mnr_samples\u001b[0m \u001b[0;34m=\u001b[0m \u001b[0mlen\u001b[0m\u001b[0;34m(\u001b[0m\u001b[0mspectros_train\u001b[0m\u001b[0;34m[\u001b[0m\u001b[0;36m0\u001b[0m\u001b[0;34m]\u001b[0m\u001b[0;34m)\u001b[0m\u001b[0;34m\u001b[0m\u001b[0m\n",
      "\u001b[0;31mNameError\u001b[0m: name 'np' is not defined"
     ]
    }
   ],
   "source": [
    "spectros_train = [util.getSpectro(signal_2_1_vert), util.getSpectro(signal_2_2_vert)]\n",
    "X_train = np.append(spectros_train[0], spectros_train[1], axis=0)\n",
    "print(np.shape(X_train))\n",
    "\n",
    "nr_samples = len(spectros_train[0])\n",
    "Y_train = np.array([10 * (nr_samples - i) for i in range(1, nr_samples +1)])\n",
    "\n",
    "nr_samples = len(spectros_train[1])\n",
    "Y_train = np.append(Y_train, np.array([10 * (nr_samples - i) for i in range(1, nr_samples +1)]))\n",
    "print(np.shape(Y_train))"
   ]
  },
  {
   "cell_type": "markdown",
   "metadata": {},
   "source": [
    "## train modellen: Bearing 2, verticaal"
   ]
  },
  {
   "cell_type": "code",
   "execution_count": null,
   "metadata": {
    "scrolled": true
   },
   "outputs": [],
   "source": [
    "rulModel, history = util.trainModel(X_train, Y_train, [300,150,25], 100, 'b2_vert')"
   ]
  },
  {
   "cell_type": "code",
   "execution_count": null,
   "metadata": {},
   "outputs": [],
   "source": [
    "rulModel, history = util.trainModel(X_train, Y_train, [300,150,25], 500, 'b2_vert')"
   ]
  },
  {
   "cell_type": "code",
   "execution_count": null,
   "metadata": {},
   "outputs": [],
   "source": [
    "layersizes = [300,150,25]\n",
    "expName = 'b2_vert'\n",
    "modelnames = [util.getModelName(layersizes, 100, expName), util.getModelName(layersizes, 500, expName)]\n",
    "util.evaluate_signal(modelnames, signal_2_3_vert, 7530)"
   ]
  },
  {
   "cell_type": "code",
   "execution_count": null,
   "metadata": {},
   "outputs": [],
   "source": [
    "layersizes = [300,150,25]\n",
    "expName = 'b1_vert'\n",
    "modelnames = [util.getModelName(layersizes, 100, expName), util.getModelName(layersizes, 500, expName)]\n",
    "util.evaluate_signal(modelnames, signal_2_4_vert, 1390)"
   ]
  },
  {
   "cell_type": "code",
   "execution_count": null,
   "metadata": {},
   "outputs": [],
   "source": [
    "layersizes = [300,150,25]\n",
    "expName = 'b1_vert'\n",
    "modelnames = [util.getModelName(layersizes, 100, expName), util.getModelName(layersizes, 500, expName)]\n",
    "util.evaluate_signal(modelnames, signal_2_5_vert, 3090)"
   ]
  },
  {
   "cell_type": "code",
   "execution_count": null,
   "metadata": {},
   "outputs": [],
   "source": [
    "layersizes = [300,150,25]\n",
    "expName = 'b1_vert'\n",
    "modelnames = [util.getModelName(layersizes, 100, expName), util.getModelName(layersizes, 500, expName)]\n",
    "util.evaluate_signal(modelnames, signal_2_6_vert, 1290)"
   ]
  },
  {
   "cell_type": "code",
   "execution_count": null,
   "metadata": {},
   "outputs": [],
   "source": [
    "layersizes = [300,150,25]\n",
    "expName = 'b1_vert'\n",
    "modelnames = [util.getModelName(layersizes, 100, expName), util.getModelName(layersizes, 500, expName)]\n",
    "util.evaluate_signal(modelnames, signal_2_7_vert, 580)"
   ]
  },
  {
   "cell_type": "code",
   "execution_count": null,
   "metadata": {},
   "outputs": [],
   "source": []
  }
 ],
 "metadata": {
  "kernelspec": {
   "display_name": "Python 3",
   "language": "python",
   "name": "python3"
  },
  "language_info": {
   "codemirror_mode": {
    "name": "ipython",
    "version": 3
   },
   "file_extension": ".py",
   "mimetype": "text/x-python",
   "name": "python",
   "nbconvert_exporter": "python",
   "pygments_lexer": "ipython3",
   "version": "3.6.4"
  },
  "varInspector": {
   "cols": {
    "lenName": 16,
    "lenType": 16,
    "lenVar": 40
   },
   "kernels_config": {
    "python": {
     "delete_cmd_postfix": "",
     "delete_cmd_prefix": "del ",
     "library": "var_list.py",
     "varRefreshCmd": "print(var_dic_list())"
    },
    "r": {
     "delete_cmd_postfix": ") ",
     "delete_cmd_prefix": "rm(",
     "library": "var_list.r",
     "varRefreshCmd": "cat(var_dic_list()) "
    }
   },
   "types_to_exclude": [
    "module",
    "function",
    "builtin_function_or_method",
    "instance",
    "_Feature"
   ],
   "window_display": false
  }
 },
 "nbformat": 4,
 "nbformat_minor": 2
}
