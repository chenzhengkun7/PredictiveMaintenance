{
 "cells": [
  {
   "cell_type": "markdown",
   "metadata": {},
   "source": [
    "# Bron¶\n",
    "http://www.femto-st.fr/en/Research-departments/AS2M/Research-groups/PHM/IEEE-PHM-2012-Data-challenge.php"
   ]
  },
  {
   "cell_type": "markdown",
   "metadata": {},
   "source": [
    "## Setup\n",
    "Datasets opgenomen onder 3 verschillende condities.\n",
    "\n",
    "Regarding the PHM challenge, data representing 3 di\u001berent loads were considered:\n",
    "\n",
    "- First operating conditions: 1800 rpm and 4000 N;\n",
    "- Second operating conditions: 1650 rpm and 4200 N;\n",
    "- Third operating conditions: 1500 rpm and 5000 N.\n",
    "\n",
    "```\n",
    "Cond1      Cond2      Cond3\n",
    "Learning set  \n",
    "Bearing1_1 Bearing2_1 Bearing3_1  \n",
    "Bearing1_2 Bearing2_2 Bearing3_2  \n",
    "\n",
    "Test set \n",
    "Bearing1_3 Bearing2_3 Bearing3_3  \n",
    "Bearing1_4 Bearing2_4  \n",
    "Bearing1_5 Bearing2_5  \n",
    "Bearing1_6 Bearing2_6\n",
    "Bearing1_7 Bearing2_7  \n",
    "```\n",
    "\n",
    "## Organization of data\n",
    "* files: acc_xxxxx.csv\u0011, and temp_xxxxx.csv\n",
    "* Vibration signals (horizontal and vertical)\n",
    "    - Sampling frequency: 25.6 kHz\n",
    "    - Recordings: 2560 samples (i.e. 1/10 s) are recorded each 10 seconds (see Fig. 6)\n",
    "* Temperature signals\n",
    "    - Sampling frequency: 10 Hz\n",
    "    - Recordings: 600 samples are recorded each minute\n",
    "    \n",
    "File inhoud:\n",
    "```\n",
    "Column         1     2      3     4            5            6\n",
    "Vibr. signal Hour Minute Second mu-second Horiz. accel. vert. accel.\n",
    "Temp. signal Hour Minute Second 0.x second Rtd sensor        -\n",
    "```\n"
   ]
  },
  {
   "cell_type": "markdown",
   "metadata": {},
   "source": [
    "## init cells"
   ]
  },
  {
   "cell_type": "code",
   "execution_count": 66,
   "metadata": {},
   "outputs": [],
   "source": [
    "## imports\n",
    "import pandas as pd\n",
    "import numpy as np\n",
    "import matplotlib.pyplot as plt\n",
    "import scipy.signal as sig\n",
    "from glob import glob\n",
    "from keras import regularizers\n",
    "from keras import backend\n",
    "from keras.callbacks import TensorBoard\n",
    "from keras.layers import Input, Dense, Conv1D, MaxPooling1D, UpSampling1D\n",
    "from keras.models import Model\n",
    "import datetime"
   ]
  },
  {
   "cell_type": "code",
   "execution_count": 6,
   "metadata": {},
   "outputs": [],
   "source": [
    "fs = 25600\n",
    "nrSamples = fs / 10\n",
    "bearing_folder = '/Users/etto/Desktop/tpDatasets/FEMTOBearingDataSet/Learning_set/Bearing1_1/'\n",
    "fileformat = 'acc_{:05d}.csv'\n",
    "nrFiles = len(glob(bearing_folder + 'acc*csv'))"
   ]
  },
  {
   "cell_type": "markdown",
   "metadata": {},
   "source": [
    "## Autoencode spectrogram\n",
    "zie https://blog.keras.io/building-autoencoders-in-keras.html"
   ]
  },
  {
   "cell_type": "code",
   "execution_count": 5,
   "metadata": {},
   "outputs": [],
   "source": [
    "%store -r signal_bearing_1_1_hor\n",
    "freq_array, segment_times, spectrogram = sig.spectrogram(x=signal_bearing_1_1_hor, fs=25600, nperseg=2560,noverlap=0)"
   ]
  },
  {
   "cell_type": "code",
   "execution_count": 59,
   "metadata": {},
   "outputs": [
    {
     "data": {
      "text/plain": [
       "(280, 1281)"
      ]
     },
     "execution_count": 59,
     "metadata": {},
     "output_type": "execute_result"
    }
   ],
   "source": [
    "# maak train en test data\n",
    "test_frac = 0.1 # test data ratio for autoencoder\n",
    "np_spec = np.array(spectrogram).T\n",
    "nr_auto_encode = int(test_frac * len(np_spec))\n",
    "idx_all = range(len(np_spec))\n",
    "idx_test = np.random.choice(idx_all, size=nr_auto_encode,replace=False)\n",
    "\n",
    "x_test = np_spec[idx_test]\n",
    "x_train = np_spec[np.delete(idx_all,idx_test,0)]\n",
    "\n",
    "# normalize values\n",
    "norm_vec = np.linalg.norm(np_spec, axis=0)\n",
    "x_train = x_train / norm_vec\n",
    "x_test = x_test / norm_vec\n",
    "\n",
    "np.shape(x_test)"
   ]
  },
  {
   "cell_type": "code",
   "execution_count": 69,
   "metadata": {
    "scrolled": true
   },
   "outputs": [
    {
     "name": "stdout",
     "output_type": "stream",
     "text": [
      "Train on 2523 samples, validate on 280 samples\n",
      "Epoch 1/50\n",
      "2523/2523 [==============================] - ETA: 14s - loss: 0.69 - ETA: 2s - loss: 0.6926 - ETA: 1s - loss: 0.692 - ETA: 1s - loss: 0.691 - ETA: 1s - loss: 0.691 - ETA: 1s - loss: 0.691 - ETA: 0s - loss: 0.690 - ETA: 0s - loss: 0.690 - ETA: 0s - loss: 0.689 - ETA: 0s - loss: 0.689 - ETA: 0s - loss: 0.688 - ETA: 0s - loss: 0.688 - ETA: 0s - loss: 0.687 - ETA: 0s - loss: 0.687 - ETA: 0s - loss: 0.687 - ETA: 0s - loss: 0.686 - ETA: 0s - loss: 0.686 - ETA: 0s - loss: 0.685 - ETA: 0s - loss: 0.685 - 1s 505us/step - loss: 0.6852 - val_loss: 0.6765\n",
      "Epoch 2/50\n",
      "2523/2523 [==============================] - ETA: 1s - loss: 0.676 - ETA: 0s - loss: 0.676 - ETA: 0s - loss: 0.675 - ETA: 0s - loss: 0.675 - ETA: 0s - loss: 0.674 - ETA: 0s - loss: 0.674 - ETA: 0s - loss: 0.673 - ETA: 0s - loss: 0.672 - ETA: 0s - loss: 0.672 - ETA: 0s - loss: 0.671 - ETA: 0s - loss: 0.671 - ETA: 0s - loss: 0.670 - ETA: 0s - loss: 0.669 - ETA: 0s - loss: 0.669 - ETA: 0s - loss: 0.668 - ETA: 0s - loss: 0.667 - ETA: 0s - loss: 0.666 - ETA: 0s - loss: 0.666 - ETA: 0s - loss: 0.665 - 1s 426us/step - loss: 0.6649 - val_loss: 0.6492\n",
      "Epoch 3/50\n",
      "2523/2523 [==============================] - ETA: 1s - loss: 0.649 - ETA: 1s - loss: 0.648 - ETA: 1s - loss: 0.647 - ETA: 1s - loss: 0.646 - ETA: 0s - loss: 0.644 - ETA: 0s - loss: 0.643 - ETA: 0s - loss: 0.642 - ETA: 0s - loss: 0.640 - ETA: 0s - loss: 0.638 - ETA: 0s - loss: 0.637 - ETA: 0s - loss: 0.635 - ETA: 0s - loss: 0.633 - ETA: 0s - loss: 0.631 - ETA: 0s - loss: 0.630 - ETA: 0s - loss: 0.627 - ETA: 0s - loss: 0.625 - ETA: 0s - loss: 0.623 - ETA: 0s - loss: 0.621 - ETA: 0s - loss: 0.620 - ETA: 0s - loss: 0.619 - ETA: 0s - loss: 0.617 - ETA: 0s - loss: 0.615 - 1s 542us/step - loss: 0.6149 - val_loss: 0.5605\n",
      "Epoch 4/50\n",
      "2523/2523 [==============================] - ETA: 1s - loss: 0.560 - ETA: 1s - loss: 0.557 - ETA: 1s - loss: 0.555 - ETA: 1s - loss: 0.552 - ETA: 1s - loss: 0.548 - ETA: 1s - loss: 0.545 - ETA: 1s - loss: 0.542 - ETA: 1s - loss: 0.538 - ETA: 1s - loss: 0.534 - ETA: 1s - loss: 0.531 - ETA: 0s - loss: 0.527 - ETA: 0s - loss: 0.523 - ETA: 0s - loss: 0.519 - ETA: 0s - loss: 0.514 - ETA: 0s - loss: 0.510 - ETA: 0s - loss: 0.505 - ETA: 0s - loss: 0.500 - ETA: 0s - loss: 0.494 - ETA: 0s - loss: 0.488 - ETA: 0s - loss: 0.482 - ETA: 0s - loss: 0.476 - ETA: 0s - loss: 0.471 - ETA: 0s - loss: 0.466 - ETA: 0s - loss: 0.460 - 1s 563us/step - loss: 0.4558 - val_loss: 0.3290\n",
      "Epoch 5/50\n",
      "2523/2523 [==============================] - ETA: 1s - loss: 0.328 - ETA: 1s - loss: 0.322 - ETA: 1s - loss: 0.315 - ETA: 1s - loss: 0.309 - ETA: 0s - loss: 0.305 - ETA: 0s - loss: 0.298 - ETA: 0s - loss: 0.292 - ETA: 0s - loss: 0.288 - ETA: 0s - loss: 0.283 - ETA: 0s - loss: 0.279 - ETA: 0s - loss: 0.275 - ETA: 0s - loss: 0.271 - ETA: 0s - loss: 0.267 - ETA: 0s - loss: 0.263 - ETA: 0s - loss: 0.258 - ETA: 0s - loss: 0.253 - ETA: 0s - loss: 0.248 - ETA: 0s - loss: 0.243 - ETA: 0s - loss: 0.239 - ETA: 0s - loss: 0.235 - ETA: 0s - loss: 0.231 - ETA: 0s - loss: 0.227 - ETA: 0s - loss: 0.224 - 1s 523us/step - loss: 0.2243 - val_loss: 0.1423\n",
      "Epoch 6/50\n",
      "2523/2523 [==============================] - ETA: 1s - loss: 0.144 - ETA: 1s - loss: 0.143 - ETA: 0s - loss: 0.138 - ETA: 0s - loss: 0.137 - ETA: 0s - loss: 0.134 - ETA: 0s - loss: 0.133 - ETA: 0s - loss: 0.131 - ETA: 0s - loss: 0.128 - ETA: 0s - loss: 0.127 - ETA: 0s - loss: 0.124 - ETA: 0s - loss: 0.123 - ETA: 0s - loss: 0.121 - ETA: 0s - loss: 0.119 - ETA: 0s - loss: 0.117 - ETA: 0s - loss: 0.116 - ETA: 0s - loss: 0.115 - ETA: 0s - loss: 0.113 - ETA: 0s - loss: 0.112 - ETA: 0s - loss: 0.110 - ETA: 0s - loss: 0.109 - ETA: 0s - loss: 0.107 - ETA: 0s - loss: 0.106 - 1s 509us/step - loss: 0.1056 - val_loss: 0.0767\n",
      "Epoch 7/50\n",
      "2523/2523 [==============================] - ETA: 1s - loss: 0.074 - ETA: 0s - loss: 0.073 - ETA: 1s - loss: 0.077 - ETA: 1s - loss: 0.075 - ETA: 0s - loss: 0.073 - ETA: 0s - loss: 0.073 - ETA: 0s - loss: 0.072 - ETA: 0s - loss: 0.071 - ETA: 0s - loss: 0.071 - ETA: 0s - loss: 0.070 - ETA: 0s - loss: 0.070 - ETA: 0s - loss: 0.069 - ETA: 0s - loss: 0.068 - ETA: 0s - loss: 0.069 - ETA: 0s - loss: 0.068 - ETA: 0s - loss: 0.068 - ETA: 0s - loss: 0.068 - ETA: 0s - loss: 0.067 - ETA: 0s - loss: 0.067 - ETA: 0s - loss: 0.066 - ETA: 0s - loss: 0.065 - 1s 471us/step - loss: 0.0656 - val_loss: 0.0531\n",
      "Epoch 8/50\n",
      "2523/2523 [==============================] - ETA: 1s - loss: 0.056 - ETA: 1s - loss: 0.052 - ETA: 1s - loss: 0.051 - ETA: 1s - loss: 0.051 - ETA: 1s - loss: 0.052 - ETA: 1s - loss: 0.052 - ETA: 1s - loss: 0.054 - ETA: 1s - loss: 0.054 - ETA: 1s - loss: 0.053 - ETA: 0s - loss: 0.052 - ETA: 0s - loss: 0.052 - ETA: 0s - loss: 0.052 - ETA: 0s - loss: 0.051 - ETA: 0s - loss: 0.051 - ETA: 0s - loss: 0.051 - ETA: 0s - loss: 0.051 - ETA: 0s - loss: 0.050 - ETA: 0s - loss: 0.050 - ETA: 0s - loss: 0.050 - ETA: 0s - loss: 0.050 - ETA: 0s - loss: 0.050 - 1s 482us/step - loss: 0.0500 - val_loss: 0.0427\n",
      "Epoch 9/50\n",
      "2523/2523 [==============================] - ETA: 1s - loss: 0.040 - ETA: 1s - loss: 0.039 - ETA: 0s - loss: 0.043 - ETA: 0s - loss: 0.042 - ETA: 0s - loss: 0.044 - ETA: 0s - loss: 0.043 - ETA: 0s - loss: 0.044 - ETA: 0s - loss: 0.043 - ETA: 0s - loss: 0.042 - ETA: 0s - loss: 0.042 - ETA: 0s - loss: 0.042 - ETA: 0s - loss: 0.042 - ETA: 0s - loss: 0.041 - ETA: 0s - loss: 0.042 - ETA: 0s - loss: 0.042 - ETA: 0s - loss: 0.042 - ETA: 0s - loss: 0.042 - ETA: 0s - loss: 0.042 - 1s 400us/step - loss: 0.0426 - val_loss: 0.0372\n",
      "Epoch 10/50\n",
      "2523/2523 [==============================] - ETA: 0s - loss: 0.032 - ETA: 1s - loss: 0.035 - ETA: 0s - loss: 0.035 - ETA: 0s - loss: 0.035 - ETA: 0s - loss: 0.036 - ETA: 0s - loss: 0.037 - ETA: 0s - loss: 0.038 - ETA: 0s - loss: 0.038 - ETA: 0s - loss: 0.038 - ETA: 0s - loss: 0.038 - ETA: 0s - loss: 0.039 - ETA: 0s - loss: 0.038 - ETA: 0s - loss: 0.040 - ETA: 0s - loss: 0.039 - ETA: 0s - loss: 0.039 - ETA: 0s - loss: 0.038 - ETA: 0s - loss: 0.038 - 1s 373us/step - loss: 0.0385 - val_loss: 0.0340\n",
      "Epoch 11/50\n",
      "2523/2523 [==============================] - ETA: 0s - loss: 0.028 - ETA: 0s - loss: 0.037 - ETA: 0s - loss: 0.035 - ETA: 0s - loss: 0.036 - ETA: 0s - loss: 0.035 - ETA: 0s - loss: 0.034 - ETA: 0s - loss: 0.036 - ETA: 0s - loss: 0.036 - ETA: 0s - loss: 0.036 - ETA: 0s - loss: 0.036 - ETA: 0s - loss: 0.036 - ETA: 0s - loss: 0.036 - ETA: 0s - loss: 0.036 - ETA: 0s - loss: 0.035 - ETA: 0s - loss: 0.035 - ETA: 0s - loss: 0.035 - ETA: 0s - loss: 0.035 - ETA: 0s - loss: 0.036 - 1s 388us/step - loss: 0.0360 - val_loss: 0.0319\n",
      "Epoch 12/50\n",
      "2523/2523 [==============================] - ETA: 1s - loss: 0.027 - ETA: 0s - loss: 0.030 - ETA: 0s - loss: 0.032 - ETA: 0s - loss: 0.033 - ETA: 0s - loss: 0.033 - ETA: 0s - loss: 0.032 - ETA: 0s - loss: 0.033 - ETA: 0s - loss: 0.034 - ETA: 0s - loss: 0.034 - ETA: 0s - loss: 0.034 - ETA: 0s - loss: 0.034 - ETA: 0s - loss: 0.034 - ETA: 0s - loss: 0.034 - ETA: 0s - loss: 0.033 - ETA: 0s - loss: 0.034 - ETA: 0s - loss: 0.034 - ETA: 0s - loss: 0.033 - ETA: 0s - loss: 0.034 - ETA: 0s - loss: 0.034 - 1s 429us/step - loss: 0.0343 - val_loss: 0.0305\n",
      "Epoch 13/50\n",
      "2523/2523 [==============================] - ETA: 0s - loss: 0.028 - ETA: 0s - loss: 0.036 - ETA: 0s - loss: 0.033 - ETA: 0s - loss: 0.033 - ETA: 0s - loss: 0.035 - ETA: 0s - loss: 0.035 - ETA: 0s - loss: 0.033 - ETA: 0s - loss: 0.033 - ETA: 0s - loss: 0.033 - ETA: 0s - loss: 0.032 - ETA: 0s - loss: 0.032 - ETA: 0s - loss: 0.032 - ETA: 0s - loss: 0.033 - ETA: 0s - loss: 0.034 - ETA: 0s - loss: 0.034 - ETA: 0s - loss: 0.034 - ETA: 0s - loss: 0.033 - ETA: 0s - loss: 0.033 - ETA: 0s - loss: 0.033 - 1s 430us/step - loss: 0.0331 - val_loss: 0.0295\n",
      "Epoch 14/50\n"
     ]
    },
    {
     "name": "stdout",
     "output_type": "stream",
     "text": [
      "2523/2523 [==============================] - ETA: 1s - loss: 0.026 - ETA: 1s - loss: 0.029 - ETA: 1s - loss: 0.030 - ETA: 1s - loss: 0.029 - ETA: 1s - loss: 0.029 - ETA: 1s - loss: 0.030 - ETA: 1s - loss: 0.031 - ETA: 0s - loss: 0.034 - ETA: 0s - loss: 0.034 - ETA: 0s - loss: 0.034 - ETA: 0s - loss: 0.033 - ETA: 0s - loss: 0.033 - ETA: 0s - loss: 0.033 - ETA: 0s - loss: 0.033 - ETA: 0s - loss: 0.033 - ETA: 0s - loss: 0.033 - ETA: 0s - loss: 0.033 - ETA: 0s - loss: 0.032 - ETA: 0s - loss: 0.032 - ETA: 0s - loss: 0.032 - ETA: 0s - loss: 0.032 - ETA: 0s - loss: 0.032 - 1s 488us/step - loss: 0.0322 - val_loss: 0.0288\n",
      "Epoch 15/50\n",
      "2523/2523 [==============================] - ETA: 0s - loss: 0.025 - ETA: 0s - loss: 0.025 - ETA: 0s - loss: 0.028 - ETA: 0s - loss: 0.027 - ETA: 0s - loss: 0.029 - ETA: 0s - loss: 0.029 - ETA: 0s - loss: 0.030 - ETA: 0s - loss: 0.032 - ETA: 0s - loss: 0.031 - ETA: 0s - loss: 0.031 - ETA: 0s - loss: 0.031 - ETA: 0s - loss: 0.032 - ETA: 0s - loss: 0.031 - ETA: 0s - loss: 0.031 - ETA: 0s - loss: 0.031 - ETA: 0s - loss: 0.031 - ETA: 0s - loss: 0.031 - 1s 372us/step - loss: 0.0315 - val_loss: 0.0282\n",
      "Epoch 16/50\n",
      "2523/2523 [==============================] - ETA: 0s - loss: 0.035 - ETA: 0s - loss: 0.027 - ETA: 0s - loss: 0.025 - ETA: 0s - loss: 0.025 - ETA: 0s - loss: 0.026 - ETA: 0s - loss: 0.026 - ETA: 0s - loss: 0.026 - ETA: 0s - loss: 0.027 - ETA: 0s - loss: 0.027 - ETA: 0s - loss: 0.027 - ETA: 0s - loss: 0.027 - ETA: 0s - loss: 0.027 - ETA: 0s - loss: 0.028 - ETA: 0s - loss: 0.029 - ETA: 0s - loss: 0.029 - ETA: 0s - loss: 0.029 - ETA: 0s - loss: 0.029 - ETA: 0s - loss: 0.029 - ETA: 0s - loss: 0.030 - 1s 422us/step - loss: 0.0309 - val_loss: 0.0277\n",
      "Epoch 17/50\n",
      "2523/2523 [==============================] - ETA: 1s - loss: 0.025 - ETA: 0s - loss: 0.025 - ETA: 0s - loss: 0.025 - ETA: 0s - loss: 0.025 - ETA: 0s - loss: 0.026 - ETA: 0s - loss: 0.027 - ETA: 0s - loss: 0.027 - ETA: 0s - loss: 0.028 - ETA: 0s - loss: 0.029 - ETA: 0s - loss: 0.028 - ETA: 0s - loss: 0.028 - ETA: 0s - loss: 0.030 - ETA: 0s - loss: 0.030 - ETA: 0s - loss: 0.029 - ETA: 0s - loss: 0.029 - ETA: 0s - loss: 0.030 - ETA: 0s - loss: 0.029 - ETA: 0s - loss: 0.030 - 1s 424us/step - loss: 0.0304 - val_loss: 0.0273\n",
      "Epoch 18/50\n",
      "2523/2523 [==============================] - ETA: 2s - loss: 0.021 - ETA: 1s - loss: 0.027 - ETA: 1s - loss: 0.026 - ETA: 1s - loss: 0.030 - ETA: 1s - loss: 0.030 - ETA: 0s - loss: 0.030 - ETA: 0s - loss: 0.030 - ETA: 0s - loss: 0.030 - ETA: 0s - loss: 0.030 - ETA: 0s - loss: 0.031 - ETA: 0s - loss: 0.030 - ETA: 0s - loss: 0.030 - ETA: 0s - loss: 0.030 - ETA: 0s - loss: 0.030 - ETA: 0s - loss: 0.030 - ETA: 0s - loss: 0.030 - ETA: 0s - loss: 0.029 - ETA: 0s - loss: 0.029 - ETA: 0s - loss: 0.029 - 1s 431us/step - loss: 0.0299 - val_loss: 0.0269\n",
      "Epoch 19/50\n",
      "2523/2523 [==============================] - ETA: 1s - loss: 0.022 - ETA: 0s - loss: 0.026 - ETA: 0s - loss: 0.030 - ETA: 0s - loss: 0.029 - ETA: 0s - loss: 0.027 - ETA: 0s - loss: 0.028 - ETA: 0s - loss: 0.028 - ETA: 0s - loss: 0.028 - ETA: 0s - loss: 0.027 - ETA: 0s - loss: 0.028 - ETA: 0s - loss: 0.028 - ETA: 0s - loss: 0.028 - ETA: 0s - loss: 0.029 - ETA: 0s - loss: 0.029 - ETA: 0s - loss: 0.029 - ETA: 0s - loss: 0.029 - ETA: 0s - loss: 0.029 - ETA: 0s - loss: 0.029 - ETA: 0s - loss: 0.029 - ETA: 0s - loss: 0.029 - ETA: 0s - loss: 0.029 - 1s 473us/step - loss: 0.0295 - val_loss: 0.0266\n",
      "Epoch 20/50\n",
      "2523/2523 [==============================] - ETA: 0s - loss: 0.034 - ETA: 1s - loss: 0.026 - ETA: 1s - loss: 0.027 - ETA: 1s - loss: 0.031 - ETA: 0s - loss: 0.035 - ETA: 0s - loss: 0.034 - ETA: 0s - loss: 0.032 - ETA: 0s - loss: 0.031 - ETA: 0s - loss: 0.031 - ETA: 0s - loss: 0.030 - ETA: 0s - loss: 0.030 - ETA: 0s - loss: 0.030 - ETA: 0s - loss: 0.030 - ETA: 0s - loss: 0.030 - ETA: 0s - loss: 0.030 - ETA: 0s - loss: 0.029 - ETA: 0s - loss: 0.029 - ETA: 0s - loss: 0.029 - ETA: 0s - loss: 0.029 - ETA: 0s - loss: 0.029 - ETA: 0s - loss: 0.028 - 1s 477us/step - loss: 0.0292 - val_loss: 0.0263\n",
      "Epoch 21/50\n",
      "2523/2523 [==============================] - ETA: 1s - loss: 0.022 - ETA: 1s - loss: 0.025 - ETA: 1s - loss: 0.024 - ETA: 1s - loss: 0.025 - ETA: 0s - loss: 0.027 - ETA: 0s - loss: 0.029 - ETA: 0s - loss: 0.029 - ETA: 0s - loss: 0.028 - ETA: 0s - loss: 0.028 - ETA: 0s - loss: 0.027 - ETA: 0s - loss: 0.027 - ETA: 0s - loss: 0.027 - ETA: 0s - loss: 0.027 - ETA: 0s - loss: 0.027 - ETA: 0s - loss: 0.026 - ETA: 0s - loss: 0.027 - ETA: 0s - loss: 0.027 - ETA: 0s - loss: 0.028 - ETA: 0s - loss: 0.028 - ETA: 0s - loss: 0.028 - 1s 467us/step - loss: 0.0288 - val_loss: 0.0261\n",
      "Epoch 22/50\n",
      "2523/2523 [==============================] - ETA: 1s - loss: 0.023 - ETA: 1s - loss: 0.025 - ETA: 0s - loss: 0.025 - ETA: 0s - loss: 0.028 - ETA: 0s - loss: 0.027 - ETA: 0s - loss: 0.026 - ETA: 0s - loss: 0.027 - ETA: 0s - loss: 0.028 - ETA: 0s - loss: 0.028 - ETA: 0s - loss: 0.027 - ETA: 0s - loss: 0.028 - ETA: 0s - loss: 0.028 - ETA: 0s - loss: 0.028 - ETA: 0s - loss: 0.029 - ETA: 0s - loss: 0.029 - ETA: 0s - loss: 0.028 - ETA: 0s - loss: 0.028 - ETA: 0s - loss: 0.028 - 1s 405us/step - loss: 0.0285 - val_loss: 0.0259\n",
      "Epoch 23/50\n",
      "2523/2523 [==============================] - ETA: 1s - loss: 0.023 - ETA: 0s - loss: 0.023 - ETA: 0s - loss: 0.024 - ETA: 0s - loss: 0.026 - ETA: 0s - loss: 0.027 - ETA: 0s - loss: 0.028 - ETA: 0s - loss: 0.028 - ETA: 0s - loss: 0.028 - ETA: 0s - loss: 0.028 - ETA: 0s - loss: 0.028 - ETA: 0s - loss: 0.029 - ETA: 0s - loss: 0.029 - ETA: 0s - loss: 0.029 - ETA: 0s - loss: 0.028 - ETA: 0s - loss: 0.028 - ETA: 0s - loss: 0.028 - ETA: 0s - loss: 0.028 - ETA: 0s - loss: 0.028 - 1s 395us/step - loss: 0.0282 - val_loss: 0.0257\n",
      "Epoch 24/50\n",
      "2523/2523 [==============================] - ETA: 1s - loss: 0.028 - ETA: 0s - loss: 0.030 - ETA: 0s - loss: 0.028 - ETA: 0s - loss: 0.028 - ETA: 0s - loss: 0.029 - ETA: 0s - loss: 0.028 - ETA: 0s - loss: 0.027 - ETA: 0s - loss: 0.028 - ETA: 0s - loss: 0.028 - ETA: 0s - loss: 0.029 - ETA: 0s - loss: 0.028 - ETA: 0s - loss: 0.028 - ETA: 0s - loss: 0.028 - ETA: 0s - loss: 0.028 - ETA: 0s - loss: 0.028 - ETA: 0s - loss: 0.028 - ETA: 0s - loss: 0.028 - ETA: 0s - loss: 0.028 - ETA: 0s - loss: 0.028 - ETA: 0s - loss: 0.028 - 1s 424us/step - loss: 0.0280 - val_loss: 0.0255\n",
      "Epoch 25/50\n",
      "2523/2523 [==============================] - ETA: 1s - loss: 0.027 - ETA: 1s - loss: 0.027 - ETA: 0s - loss: 0.025 - ETA: 0s - loss: 0.027 - ETA: 0s - loss: 0.026 - ETA: 0s - loss: 0.026 - ETA: 0s - loss: 0.025 - ETA: 0s - loss: 0.026 - ETA: 0s - loss: 0.026 - ETA: 0s - loss: 0.027 - ETA: 0s - loss: 0.027 - ETA: 0s - loss: 0.027 - ETA: 0s - loss: 0.027 - ETA: 0s - loss: 0.028 - ETA: 0s - loss: 0.028 - ETA: 0s - loss: 0.027 - ETA: 0s - loss: 0.027 - ETA: 0s - loss: 0.027 - ETA: 0s - loss: 0.027 - 1s 409us/step - loss: 0.0277 - val_loss: 0.0253\n",
      "Epoch 26/50\n",
      "2523/2523 [==============================] - ETA: 0s - loss: 0.027 - ETA: 0s - loss: 0.025 - ETA: 0s - loss: 0.028 - ETA: 0s - loss: 0.029 - ETA: 0s - loss: 0.029 - ETA: 0s - loss: 0.029 - ETA: 0s - loss: 0.028 - ETA: 0s - loss: 0.029 - ETA: 0s - loss: 0.029 - ETA: 0s - loss: 0.028 - ETA: 0s - loss: 0.028 - ETA: 0s - loss: 0.028 - ETA: 0s - loss: 0.028 - ETA: 0s - loss: 0.028 - ETA: 0s - loss: 0.028 - ETA: 0s - loss: 0.027 - ETA: 0s - loss: 0.027 - ETA: 0s - loss: 0.027 - ETA: 0s - loss: 0.027 - ETA: 0s - loss: 0.027 - 1s 442us/step - loss: 0.0276 - val_loss: 0.0252\n",
      "Epoch 27/50\n",
      "2523/2523 [==============================] - ETA: 1s - loss: 0.038 - ETA: 0s - loss: 0.039 - ETA: 0s - loss: 0.034 - ETA: 0s - loss: 0.031 - ETA: 0s - loss: 0.031 - ETA: 0s - loss: 0.029 - ETA: 0s - loss: 0.028 - ETA: 0s - loss: 0.029 - ETA: 0s - loss: 0.028 - ETA: 0s - loss: 0.028 - ETA: 0s - loss: 0.028 - ETA: 0s - loss: 0.027 - ETA: 0s - loss: 0.027 - ETA: 0s - loss: 0.027 - ETA: 0s - loss: 0.028 - ETA: 0s - loss: 0.028 - ETA: 0s - loss: 0.027 - ETA: 0s - loss: 0.027 - ETA: 0s - loss: 0.027 - 1s 426us/step - loss: 0.0274 - val_loss: 0.0250\n",
      "Epoch 28/50\n"
     ]
    },
    {
     "name": "stdout",
     "output_type": "stream",
     "text": [
      "2523/2523 [==============================] - ETA: 1s - loss: 0.022 - ETA: 0s - loss: 0.023 - ETA: 0s - loss: 0.023 - ETA: 0s - loss: 0.023 - ETA: 0s - loss: 0.024 - ETA: 0s - loss: 0.025 - ETA: 0s - loss: 0.025 - ETA: 0s - loss: 0.026 - ETA: 0s - loss: 0.027 - ETA: 0s - loss: 0.027 - ETA: 0s - loss: 0.027 - ETA: 0s - loss: 0.027 - ETA: 0s - loss: 0.028 - ETA: 0s - loss: 0.027 - ETA: 0s - loss: 0.027 - ETA: 0s - loss: 0.027 - ETA: 0s - loss: 0.027 - ETA: 0s - loss: 0.027 - 1s 402us/step - loss: 0.0273 - val_loss: 0.0249\n",
      "Epoch 29/50\n",
      "2523/2523 [==============================] - ETA: 1s - loss: 0.021 - ETA: 1s - loss: 0.021 - ETA: 0s - loss: 0.022 - ETA: 0s - loss: 0.023 - ETA: 0s - loss: 0.026 - ETA: 0s - loss: 0.026 - ETA: 0s - loss: 0.026 - ETA: 0s - loss: 0.027 - ETA: 0s - loss: 0.027 - ETA: 0s - loss: 0.027 - ETA: 0s - loss: 0.027 - ETA: 0s - loss: 0.027 - ETA: 0s - loss: 0.027 - ETA: 0s - loss: 0.026 - ETA: 0s - loss: 0.026 - ETA: 0s - loss: 0.027 - ETA: 0s - loss: 0.027 - 1s 377us/step - loss: 0.0272 - val_loss: 0.0248\n",
      "Epoch 30/50\n",
      "2523/2523 [==============================] - ETA: 1s - loss: 0.023 - ETA: 0s - loss: 0.027 - ETA: 0s - loss: 0.029 - ETA: 0s - loss: 0.028 - ETA: 0s - loss: 0.027 - ETA: 0s - loss: 0.027 - ETA: 0s - loss: 0.027 - ETA: 0s - loss: 0.026 - ETA: 0s - loss: 0.027 - ETA: 0s - loss: 0.027 - ETA: 0s - loss: 0.027 - ETA: 0s - loss: 0.027 - ETA: 0s - loss: 0.026 - ETA: 0s - loss: 0.027 - ETA: 0s - loss: 0.027 - ETA: 0s - loss: 0.027 - ETA: 0s - loss: 0.027 - ETA: 0s - loss: 0.027 - ETA: 0s - loss: 0.027 - 1s 420us/step - loss: 0.0271 - val_loss: 0.0247\n",
      "Epoch 31/50\n",
      "2523/2523 [==============================] - ETA: 1s - loss: 0.021 - ETA: 1s - loss: 0.029 - ETA: 1s - loss: 0.026 - ETA: 1s - loss: 0.026 - ETA: 0s - loss: 0.027 - ETA: 0s - loss: 0.028 - ETA: 0s - loss: 0.028 - ETA: 0s - loss: 0.027 - ETA: 0s - loss: 0.027 - ETA: 0s - loss: 0.027 - ETA: 0s - loss: 0.027 - ETA: 0s - loss: 0.027 - ETA: 0s - loss: 0.027 - ETA: 0s - loss: 0.027 - ETA: 0s - loss: 0.027 - ETA: 0s - loss: 0.027 - ETA: 0s - loss: 0.027 - 1s 390us/step - loss: 0.0270 - val_loss: 0.0247\n",
      "Epoch 32/50\n",
      "2523/2523 [==============================] - ETA: 1s - loss: 0.020 - ETA: 0s - loss: 0.023 - ETA: 0s - loss: 0.024 - ETA: 0s - loss: 0.025 - ETA: 0s - loss: 0.026 - ETA: 0s - loss: 0.026 - ETA: 0s - loss: 0.026 - ETA: 0s - loss: 0.026 - ETA: 0s - loss: 0.026 - ETA: 0s - loss: 0.026 - ETA: 0s - loss: 0.026 - ETA: 0s - loss: 0.026 - ETA: 0s - loss: 0.026 - ETA: 0s - loss: 0.027 - ETA: 0s - loss: 0.026 - ETA: 0s - loss: 0.027 - ETA: 0s - loss: 0.027 - 1s 370us/step - loss: 0.0269 - val_loss: 0.0246\n",
      "Epoch 33/50\n",
      "2523/2523 [==============================] - ETA: 1s - loss: 0.025 - ETA: 0s - loss: 0.026 - ETA: 0s - loss: 0.028 - ETA: 0s - loss: 0.027 - ETA: 0s - loss: 0.028 - ETA: 0s - loss: 0.027 - ETA: 0s - loss: 0.027 - ETA: 0s - loss: 0.027 - ETA: 0s - loss: 0.027 - ETA: 0s - loss: 0.027 - ETA: 0s - loss: 0.027 - ETA: 0s - loss: 0.027 - ETA: 0s - loss: 0.027 - ETA: 0s - loss: 0.027 - ETA: 0s - loss: 0.027 - ETA: 0s - loss: 0.026 - 1s 361us/step - loss: 0.0269 - val_loss: 0.0245\n",
      "Epoch 34/50\n",
      "2523/2523 [==============================] - ETA: 1s - loss: 0.021 - ETA: 0s - loss: 0.027 - ETA: 0s - loss: 0.027 - ETA: 0s - loss: 0.026 - ETA: 0s - loss: 0.025 - ETA: 0s - loss: 0.025 - ETA: 0s - loss: 0.027 - ETA: 0s - loss: 0.026 - ETA: 0s - loss: 0.025 - ETA: 0s - loss: 0.026 - ETA: 0s - loss: 0.026 - ETA: 0s - loss: 0.027 - ETA: 0s - loss: 0.027 - ETA: 0s - loss: 0.027 - ETA: 0s - loss: 0.027 - ETA: 0s - loss: 0.027 - ETA: 0s - loss: 0.026 - 1s 379us/step - loss: 0.0268 - val_loss: 0.0245\n",
      "Epoch 35/50\n",
      "2523/2523 [==============================] - ETA: 0s - loss: 0.026 - ETA: 0s - loss: 0.028 - ETA: 0s - loss: 0.027 - ETA: 0s - loss: 0.025 - ETA: 0s - loss: 0.026 - ETA: 0s - loss: 0.026 - ETA: 0s - loss: 0.026 - ETA: 0s - loss: 0.026 - ETA: 0s - loss: 0.025 - ETA: 0s - loss: 0.025 - ETA: 0s - loss: 0.025 - ETA: 0s - loss: 0.025 - ETA: 0s - loss: 0.025 - ETA: 0s - loss: 0.025 - ETA: 0s - loss: 0.025 - ETA: 0s - loss: 0.026 - ETA: 0s - loss: 0.026 - 1s 381us/step - loss: 0.0268 - val_loss: 0.0244\n",
      "Epoch 36/50\n",
      "2523/2523 [==============================] - ETA: 1s - loss: 0.041 - ETA: 0s - loss: 0.031 - ETA: 0s - loss: 0.028 - ETA: 0s - loss: 0.026 - ETA: 0s - loss: 0.028 - ETA: 0s - loss: 0.027 - ETA: 0s - loss: 0.027 - ETA: 0s - loss: 0.027 - ETA: 0s - loss: 0.028 - ETA: 0s - loss: 0.027 - ETA: 0s - loss: 0.027 - ETA: 0s - loss: 0.026 - ETA: 0s - loss: 0.026 - ETA: 0s - loss: 0.026 - ETA: 0s - loss: 0.026 - ETA: 0s - loss: 0.026 - ETA: 0s - loss: 0.026 - ETA: 0s - loss: 0.026 - ETA: 0s - loss: 0.026 - 1s 422us/step - loss: 0.0267 - val_loss: 0.0244\n",
      "Epoch 37/50\n",
      "2523/2523 [==============================] - ETA: 1s - loss: 0.027 - ETA: 0s - loss: 0.025 - ETA: 0s - loss: 0.023 - ETA: 0s - loss: 0.024 - ETA: 0s - loss: 0.025 - ETA: 0s - loss: 0.026 - ETA: 0s - loss: 0.025 - ETA: 0s - loss: 0.025 - ETA: 0s - loss: 0.025 - ETA: 0s - loss: 0.025 - ETA: 0s - loss: 0.026 - ETA: 0s - loss: 0.026 - ETA: 0s - loss: 0.026 - ETA: 0s - loss: 0.026 - ETA: 0s - loss: 0.026 - ETA: 0s - loss: 0.026 - 1s 354us/step - loss: 0.0267 - val_loss: 0.0243\n",
      "Epoch 38/50\n",
      "2523/2523 [==============================] - ETA: 0s - loss: 0.022 - ETA: 0s - loss: 0.030 - ETA: 0s - loss: 0.028 - ETA: 0s - loss: 0.028 - ETA: 0s - loss: 0.028 - ETA: 0s - loss: 0.027 - ETA: 0s - loss: 0.027 - ETA: 0s - loss: 0.027 - ETA: 0s - loss: 0.027 - ETA: 0s - loss: 0.027 - ETA: 0s - loss: 0.027 - ETA: 0s - loss: 0.026 - ETA: 0s - loss: 0.026 - ETA: 0s - loss: 0.027 - ETA: 0s - loss: 0.027 - ETA: 0s - loss: 0.027 - ETA: 0s - loss: 0.026 - ETA: 0s - loss: 0.026 - ETA: 0s - loss: 0.026 - 1s 415us/step - loss: 0.0267 - val_loss: 0.0243\n",
      "Epoch 39/50\n",
      "2523/2523 [==============================] - ETA: 1s - loss: 0.023 - ETA: 1s - loss: 0.024 - ETA: 0s - loss: 0.024 - ETA: 0s - loss: 0.024 - ETA: 0s - loss: 0.025 - ETA: 0s - loss: 0.025 - ETA: 0s - loss: 0.027 - ETA: 0s - loss: 0.027 - ETA: 0s - loss: 0.027 - ETA: 0s - loss: 0.028 - ETA: 0s - loss: 0.027 - ETA: 0s - loss: 0.027 - ETA: 0s - loss: 0.026 - ETA: 0s - loss: 0.026 - ETA: 0s - loss: 0.027 - ETA: 0s - loss: 0.026 - ETA: 0s - loss: 0.026 - ETA: 0s - loss: 0.026 - 1s 403us/step - loss: 0.0266 - val_loss: 0.0243\n",
      "Epoch 40/50\n",
      "2523/2523 [==============================] - ETA: 1s - loss: 0.019 - ETA: 0s - loss: 0.024 - ETA: 0s - loss: 0.024 - ETA: 0s - loss: 0.025 - ETA: 0s - loss: 0.026 - ETA: 0s - loss: 0.026 - ETA: 0s - loss: 0.026 - ETA: 0s - loss: 0.026 - ETA: 0s - loss: 0.026 - ETA: 0s - loss: 0.027 - ETA: 0s - loss: 0.026 - ETA: 0s - loss: 0.027 - ETA: 0s - loss: 0.027 - ETA: 0s - loss: 0.026 - ETA: 0s - loss: 0.027 - ETA: 0s - loss: 0.026 - ETA: 0s - loss: 0.026 - ETA: 0s - loss: 0.026 - 1s 408us/step - loss: 0.0266 - val_loss: 0.0242\n",
      "Epoch 41/50\n",
      "2523/2523 [==============================] - ETA: 1s - loss: 0.024 - ETA: 0s - loss: 0.023 - ETA: 1s - loss: 0.025 - ETA: 1s - loss: 0.026 - ETA: 1s - loss: 0.026 - ETA: 1s - loss: 0.026 - ETA: 0s - loss: 0.027 - ETA: 0s - loss: 0.027 - ETA: 0s - loss: 0.028 - ETA: 0s - loss: 0.027 - ETA: 0s - loss: 0.027 - ETA: 0s - loss: 0.027 - ETA: 0s - loss: 0.027 - ETA: 0s - loss: 0.027 - ETA: 0s - loss: 0.026 - ETA: 0s - loss: 0.026 - ETA: 0s - loss: 0.026 - ETA: 0s - loss: 0.026 - ETA: 0s - loss: 0.026 - ETA: 0s - loss: 0.026 - 1s 458us/step - loss: 0.0266 - val_loss: 0.0242\n",
      "Epoch 42/50\n",
      "2523/2523 [==============================] - ETA: 1s - loss: 0.026 - ETA: 1s - loss: 0.028 - ETA: 0s - loss: 0.026 - ETA: 0s - loss: 0.028 - ETA: 0s - loss: 0.027 - ETA: 0s - loss: 0.027 - ETA: 0s - loss: 0.027 - ETA: 0s - loss: 0.027 - ETA: 0s - loss: 0.026 - ETA: 0s - loss: 0.026 - ETA: 0s - loss: 0.027 - ETA: 0s - loss: 0.026 - ETA: 0s - loss: 0.026 - ETA: 0s - loss: 0.027 - ETA: 0s - loss: 0.027 - ETA: 0s - loss: 0.026 - ETA: 0s - loss: 0.027 - ETA: 0s - loss: 0.026 - ETA: 0s - loss: 0.026 - ETA: 0s - loss: 0.026 - 1s 473us/step - loss: 0.0265 - val_loss: 0.0242\n",
      "Epoch 43/50\n"
     ]
    },
    {
     "name": "stdout",
     "output_type": "stream",
     "text": [
      "2523/2523 [==============================] - ETA: 0s - loss: 0.028 - ETA: 0s - loss: 0.030 - ETA: 0s - loss: 0.029 - ETA: 0s - loss: 0.027 - ETA: 0s - loss: 0.027 - ETA: 0s - loss: 0.027 - ETA: 0s - loss: 0.027 - ETA: 0s - loss: 0.026 - ETA: 0s - loss: 0.026 - ETA: 0s - loss: 0.025 - ETA: 0s - loss: 0.026 - ETA: 0s - loss: 0.025 - ETA: 0s - loss: 0.026 - ETA: 0s - loss: 0.026 - ETA: 0s - loss: 0.026 - ETA: 0s - loss: 0.026 - 1s 348us/step - loss: 0.0265 - val_loss: 0.0242\n",
      "Epoch 44/50\n",
      "2523/2523 [==============================] - ETA: 0s - loss: 0.019 - ETA: 0s - loss: 0.021 - ETA: 0s - loss: 0.023 - ETA: 0s - loss: 0.024 - ETA: 0s - loss: 0.027 - ETA: 0s - loss: 0.027 - ETA: 0s - loss: 0.026 - ETA: 0s - loss: 0.027 - ETA: 0s - loss: 0.027 - ETA: 0s - loss: 0.026 - ETA: 0s - loss: 0.026 - ETA: 0s - loss: 0.026 - ETA: 0s - loss: 0.026 - ETA: 0s - loss: 0.026 - ETA: 0s - loss: 0.026 - ETA: 0s - loss: 0.026 - 1s 344us/step - loss: 0.0265 - val_loss: 0.0241\n",
      "Epoch 45/50\n",
      "2523/2523 [==============================] - ETA: 1s - loss: 0.033 - ETA: 0s - loss: 0.029 - ETA: 0s - loss: 0.030 - ETA: 0s - loss: 0.029 - ETA: 0s - loss: 0.028 - ETA: 0s - loss: 0.028 - ETA: 0s - loss: 0.027 - ETA: 0s - loss: 0.027 - ETA: 0s - loss: 0.027 - ETA: 0s - loss: 0.027 - ETA: 0s - loss: 0.027 - ETA: 0s - loss: 0.026 - ETA: 0s - loss: 0.026 - ETA: 0s - loss: 0.026 - ETA: 0s - loss: 0.026 - 1s 340us/step - loss: 0.0265 - val_loss: 0.0241\n",
      "Epoch 46/50\n",
      "2523/2523 [==============================] - ETA: 1s - loss: 0.025 - ETA: 0s - loss: 0.025 - ETA: 0s - loss: 0.025 - ETA: 0s - loss: 0.026 - ETA: 0s - loss: 0.027 - ETA: 0s - loss: 0.026 - ETA: 0s - loss: 0.026 - ETA: 0s - loss: 0.027 - ETA: 0s - loss: 0.026 - ETA: 0s - loss: 0.026 - ETA: 0s - loss: 0.025 - ETA: 0s - loss: 0.026 - ETA: 0s - loss: 0.026 - ETA: 0s - loss: 0.026 - ETA: 0s - loss: 0.026 - ETA: 0s - loss: 0.026 - ETA: 0s - loss: 0.026 - 1s 383us/step - loss: 0.0265 - val_loss: 0.0241\n",
      "Epoch 47/50\n",
      "2523/2523 [==============================] - ETA: 1s - loss: 0.022 - ETA: 0s - loss: 0.023 - ETA: 0s - loss: 0.027 - ETA: 0s - loss: 0.025 - ETA: 0s - loss: 0.026 - ETA: 0s - loss: 0.025 - ETA: 0s - loss: 0.025 - ETA: 0s - loss: 0.025 - ETA: 0s - loss: 0.025 - ETA: 0s - loss: 0.025 - ETA: 0s - loss: 0.025 - ETA: 0s - loss: 0.026 - ETA: 0s - loss: 0.026 - ETA: 0s - loss: 0.026 - ETA: 0s - loss: 0.026 - ETA: 0s - loss: 0.026 - 1s 356us/step - loss: 0.0264 - val_loss: 0.0241\n",
      "Epoch 48/50\n",
      "2523/2523 [==============================] - ETA: 1s - loss: 0.026 - ETA: 0s - loss: 0.023 - ETA: 0s - loss: 0.026 - ETA: 0s - loss: 0.025 - ETA: 0s - loss: 0.025 - ETA: 0s - loss: 0.025 - ETA: 0s - loss: 0.025 - ETA: 0s - loss: 0.025 - ETA: 0s - loss: 0.026 - ETA: 0s - loss: 0.026 - ETA: 0s - loss: 0.025 - ETA: 0s - loss: 0.026 - ETA: 0s - loss: 0.025 - ETA: 0s - loss: 0.026 - ETA: 0s - loss: 0.026 - ETA: 0s - loss: 0.026 - ETA: 0s - loss: 0.025 - ETA: 0s - loss: 0.026 - 1s 407us/step - loss: 0.0264 - val_loss: 0.0241\n",
      "Epoch 49/50\n",
      "2523/2523 [==============================] - ETA: 1s - loss: 0.023 - ETA: 0s - loss: 0.026 - ETA: 0s - loss: 0.026 - ETA: 0s - loss: 0.027 - ETA: 0s - loss: 0.027 - ETA: 0s - loss: 0.026 - ETA: 0s - loss: 0.026 - ETA: 0s - loss: 0.026 - ETA: 0s - loss: 0.026 - ETA: 0s - loss: 0.026 - ETA: 0s - loss: 0.026 - ETA: 0s - loss: 0.026 - ETA: 0s - loss: 0.026 - ETA: 0s - loss: 0.026 - ETA: 0s - loss: 0.026 - ETA: 0s - loss: 0.026 - ETA: 0s - loss: 0.027 - ETA: 0s - loss: 0.026 - ETA: 0s - loss: 0.026 - 1s 418us/step - loss: 0.0264 - val_loss: 0.0241\n",
      "Epoch 50/50\n",
      "2523/2523 [==============================] - ETA: 1s - loss: 0.040 - ETA: 1s - loss: 0.029 - ETA: 0s - loss: 0.027 - ETA: 0s - loss: 0.026 - ETA: 0s - loss: 0.025 - ETA: 0s - loss: 0.025 - ETA: 0s - loss: 0.025 - ETA: 0s - loss: 0.026 - ETA: 0s - loss: 0.027 - ETA: 0s - loss: 0.027 - ETA: 0s - loss: 0.026 - ETA: 0s - loss: 0.026 - ETA: 0s - loss: 0.026 - ETA: 0s - loss: 0.026 - ETA: 0s - loss: 0.026 - ETA: 0s - loss: 0.026 - ETA: 0s - loss: 0.026 - ETA: 0s - loss: 0.026 - ETA: 0s - loss: 0.026 - 1s 419us/step - loss: 0.0264 - val_loss: 0.0240\n",
      "Training history\n"
     ]
    },
    {
     "data": {
      "text/plain": [
       "Text(0.5,1,'validation loss')"
      ]
     },
     "execution_count": 69,
     "metadata": {},
     "output_type": "execute_result"
    },
    {
     "data": {
      "image/png": "[encoded data removed]",
      "text/plain": [
       "<matplotlib.figure.Figure at 0x1c30bb2b70>"
      ]
     },
     "metadata": {},
     "output_type": "display_data"
    }
   ],
   "source": [
    "input_dim = len(spectrogram)\n",
    "encoding_dim = 100\n",
    "\n",
    "np_spec = np.array(spectrogram).T\n",
    "\n",
    "inp = Input(shape=(input_dim,))\n",
    "encoded = Dense(encoding_dim, activation='relu')(inp)\n",
    "decoded = Dense(input_dim, activation='sigmoid')(encoded)\n",
    "\n",
    "# this model maps an input to its reconstruction\n",
    "autoencoder = Model(inp, decoded)\n",
    "\n",
    "# separate encoder model\n",
    "encoder = Model(inp, encoded)\n",
    "\n",
    "# decoder model\n",
    "# create a placeholder for an encoded input\n",
    "encoded_input = Input(shape=(encoding_dim,))\n",
    "# retrieve the last layer of the autoencoder model\n",
    "decoder_layer = autoencoder.layers[-1]\n",
    "# create the decoder model\n",
    "decoder = Model(encoded_input, decoder_layer(encoded_input))\n",
    "\n",
    "autoencoder.compile(optimizer='adadelta', loss='binary_crossentropy')\n",
    "\n",
    "# train autoencoder\n",
    "dateStr = datetime.datetime.now().strftime(\"%Y-%m-%dT%H:%M:%S\")\n",
    "autoencoder.fit(x_train, x_train, epochs=50,shuffle=True,validation_data=(x_test,x_test),\n",
    "               callbacks=[TensorBoard(log_dir='/tmp/autoencoder/{:}_encDim{:d}'.format(dateStr,encoding_dim))])\n",
    "\n",
    "print(\"Training history\")\n",
    "fig = plt.figure(figsize=(10,4))\n",
    "ax1 = fig.add_subplot(1, 2, 1)\n",
    "plt.plot(autoencoder.history.history['loss'])\n",
    "ax1.set_title('loss')\n",
    "ax2 = fig.add_subplot(1, 2, 2)\n",
    "plt.plot(autoencoder.history.history['val_loss'])\n",
    "ax2.set_title('validation loss')"
   ]
  },
  {
   "cell_type": "markdown",
   "metadata": {},
   "source": [
    "### conclusie\n",
    "Ziet er goed uit, wellicht oppassen dat het niet wordt doodgetraind."
   ]
  },
  {
   "cell_type": "markdown",
   "metadata": {},
   "source": [
    "## Sparsity constraints"
   ]
  },
  {
   "cell_type": "code",
   "execution_count": 65,
   "metadata": {},
   "outputs": [
    {
     "name": "stdout",
     "output_type": "stream",
     "text": [
      "Train on 2523 samples, validate on 280 samples\n",
      "Epoch 1/100\n",
      "2523/2523 [==============================] - ETA: 15s - loss: 0.70 - ETA: 3s - loss: 0.7021 - ETA: 2s - loss: 0.699 - ETA: 1s - loss: 0.698 - ETA: 1s - loss: 0.697 - ETA: 0s - loss: 0.696 - ETA: 0s - loss: 0.695 - ETA: 0s - loss: 0.694 - ETA: 0s - loss: 0.693 - ETA: 0s - loss: 0.693 - ETA: 0s - loss: 0.692 - ETA: 0s - loss: 0.691 - ETA: 0s - loss: 0.691 - ETA: 0s - loss: 0.690 - ETA: 0s - loss: 0.689 - ETA: 0s - loss: 0.689 - ETA: 0s - loss: 0.688 - 1s 460us/step - loss: 0.6885 - val_loss: 0.6790\n",
      "Epoch 2/100\n",
      "2523/2523 [==============================] - ETA: 1s - loss: 0.678 - ETA: 1s - loss: 0.678 - ETA: 0s - loss: 0.678 - ETA: 0s - loss: 0.677 - ETA: 0s - loss: 0.677 - ETA: 0s - loss: 0.676 - ETA: 0s - loss: 0.676 - ETA: 0s - loss: 0.675 - ETA: 0s - loss: 0.675 - ETA: 0s - loss: 0.674 - ETA: 0s - loss: 0.674 - ETA: 0s - loss: 0.674 - ETA: 0s - loss: 0.673 - ETA: 0s - loss: 0.673 - ETA: 0s - loss: 0.672 - ETA: 0s - loss: 0.672 - ETA: 0s - loss: 0.672 - 1s 366us/step - loss: 0.6717 - val_loss: 0.6642\n",
      "Epoch 3/100\n",
      "2523/2523 [==============================] - ETA: 1s - loss: 0.664 - ETA: 1s - loss: 0.663 - ETA: 0s - loss: 0.663 - ETA: 0s - loss: 0.663 - ETA: 0s - loss: 0.662 - ETA: 0s - loss: 0.662 - ETA: 0s - loss: 0.661 - ETA: 0s - loss: 0.661 - ETA: 0s - loss: 0.661 - ETA: 0s - loss: 0.660 - ETA: 0s - loss: 0.660 - ETA: 0s - loss: 0.659 - ETA: 0s - loss: 0.659 - ETA: 0s - loss: 0.659 - ETA: 0s - loss: 0.658 - ETA: 0s - loss: 0.658 - ETA: 0s - loss: 0.657 - ETA: 0s - loss: 0.657 - 1s 387us/step - loss: 0.6572 - val_loss: 0.6501\n",
      "Epoch 4/100\n",
      "2523/2523 [==============================] - ETA: 1s - loss: 0.649 - ETA: 1s - loss: 0.649 - ETA: 1s - loss: 0.649 - ETA: 1s - loss: 0.649 - ETA: 1s - loss: 0.648 - ETA: 0s - loss: 0.648 - ETA: 0s - loss: 0.648 - ETA: 0s - loss: 0.647 - ETA: 0s - loss: 0.647 - ETA: 0s - loss: 0.646 - ETA: 0s - loss: 0.646 - ETA: 0s - loss: 0.645 - ETA: 0s - loss: 0.645 - ETA: 0s - loss: 0.645 - ETA: 0s - loss: 0.644 - ETA: 0s - loss: 0.644 - ETA: 0s - loss: 0.643 - ETA: 0s - loss: 0.643 - 1s 414us/step - loss: 0.6433 - val_loss: 0.6364\n",
      "Epoch 5/100\n",
      "2523/2523 [==============================] - ETA: 1s - loss: 0.636 - ETA: 1s - loss: 0.636 - ETA: 1s - loss: 0.635 - ETA: 0s - loss: 0.635 - ETA: 0s - loss: 0.635 - ETA: 0s - loss: 0.634 - ETA: 0s - loss: 0.634 - ETA: 0s - loss: 0.633 - ETA: 0s - loss: 0.633 - ETA: 0s - loss: 0.633 - ETA: 0s - loss: 0.632 - ETA: 0s - loss: 0.632 - ETA: 0s - loss: 0.632 - ETA: 0s - loss: 0.631 - ETA: 0s - loss: 0.631 - ETA: 0s - loss: 0.631 - ETA: 0s - loss: 0.630 - ETA: 0s - loss: 0.630 - ETA: 0s - loss: 0.630 - 1s 415us/step - loss: 0.6299 - val_loss: 0.6232\n",
      "Epoch 6/100\n",
      "2523/2523 [==============================] - ETA: 1s - loss: 0.623 - ETA: 1s - loss: 0.622 - ETA: 1s - loss: 0.622 - ETA: 0s - loss: 0.622 - ETA: 0s - loss: 0.621 - ETA: 0s - loss: 0.621 - ETA: 0s - loss: 0.621 - ETA: 0s - loss: 0.620 - ETA: 0s - loss: 0.620 - ETA: 0s - loss: 0.620 - ETA: 0s - loss: 0.619 - ETA: 0s - loss: 0.619 - ETA: 0s - loss: 0.619 - ETA: 0s - loss: 0.618 - ETA: 0s - loss: 0.618 - ETA: 0s - loss: 0.618 - ETA: 0s - loss: 0.617 - ETA: 0s - loss: 0.617 - ETA: 0s - loss: 0.617 - 1s 421us/step - loss: 0.6169 - val_loss: 0.6104\n",
      "Epoch 7/100\n",
      "2523/2523 [==============================] - ETA: 1s - loss: 0.610 - ETA: 0s - loss: 0.610 - ETA: 0s - loss: 0.609 - ETA: 0s - loss: 0.609 - ETA: 0s - loss: 0.609 - ETA: 0s - loss: 0.608 - ETA: 0s - loss: 0.608 - ETA: 0s - loss: 0.608 - ETA: 0s - loss: 0.607 - ETA: 0s - loss: 0.607 - ETA: 0s - loss: 0.607 - ETA: 0s - loss: 0.607 - ETA: 0s - loss: 0.606 - ETA: 0s - loss: 0.606 - ETA: 0s - loss: 0.606 - ETA: 0s - loss: 0.605 - ETA: 0s - loss: 0.605 - ETA: 0s - loss: 0.605 - ETA: 0s - loss: 0.604 - ETA: 0s - loss: 0.604 - 1s 444us/step - loss: 0.6043 - val_loss: 0.5980\n",
      "Epoch 8/100\n",
      "2523/2523 [==============================] - ETA: 0s - loss: 0.598 - ETA: 0s - loss: 0.597 - ETA: 0s - loss: 0.597 - ETA: 0s - loss: 0.597 - ETA: 0s - loss: 0.596 - ETA: 0s - loss: 0.596 - ETA: 0s - loss: 0.596 - ETA: 0s - loss: 0.595 - ETA: 0s - loss: 0.595 - ETA: 0s - loss: 0.595 - ETA: 0s - loss: 0.594 - ETA: 0s - loss: 0.594 - ETA: 0s - loss: 0.594 - ETA: 0s - loss: 0.593 - ETA: 0s - loss: 0.593 - ETA: 0s - loss: 0.593 - ETA: 0s - loss: 0.593 - ETA: 0s - loss: 0.592 - ETA: 0s - loss: 0.592 - 1s 442us/step - loss: 0.5921 - val_loss: 0.5859\n",
      "Epoch 9/100\n",
      "2523/2523 [==============================] - ETA: 1s - loss: 0.585 - ETA: 0s - loss: 0.585 - ETA: 0s - loss: 0.585 - ETA: 0s - loss: 0.584 - ETA: 0s - loss: 0.584 - ETA: 0s - loss: 0.584 - ETA: 0s - loss: 0.584 - ETA: 0s - loss: 0.583 - ETA: 0s - loss: 0.583 - ETA: 0s - loss: 0.583 - ETA: 0s - loss: 0.582 - ETA: 0s - loss: 0.582 - ETA: 0s - loss: 0.582 - ETA: 0s - loss: 0.581 - ETA: 0s - loss: 0.581 - ETA: 0s - loss: 0.581 - ETA: 0s - loss: 0.581 - ETA: 0s - loss: 0.580 - ETA: 0s - loss: 0.580 - 1s 429us/step - loss: 0.5802 - val_loss: 0.5742\n",
      "Epoch 10/100\n",
      "2523/2523 [==============================] - ETA: 0s - loss: 0.576 - ETA: 0s - loss: 0.574 - ETA: 0s - loss: 0.573 - ETA: 0s - loss: 0.573 - ETA: 0s - loss: 0.573 - ETA: 0s - loss: 0.572 - ETA: 0s - loss: 0.572 - ETA: 0s - loss: 0.572 - ETA: 0s - loss: 0.572 - ETA: 0s - loss: 0.571 - ETA: 0s - loss: 0.571 - ETA: 0s - loss: 0.571 - ETA: 0s - loss: 0.570 - ETA: 0s - loss: 0.570 - ETA: 0s - loss: 0.570 - ETA: 0s - loss: 0.570 - ETA: 0s - loss: 0.569 - ETA: 0s - loss: 0.569 - ETA: 0s - loss: 0.569 - ETA: 0s - loss: 0.569 - ETA: 0s - loss: 0.569 - ETA: 0s - loss: 0.568 - 1s 493us/step - loss: 0.5687 - val_loss: 0.5629\n",
      "Epoch 11/100\n",
      "2523/2523 [==============================] - ETA: 1s - loss: 0.562 - ETA: 1s - loss: 0.562 - ETA: 0s - loss: 0.562 - ETA: 0s - loss: 0.562 - ETA: 0s - loss: 0.561 - ETA: 0s - loss: 0.561 - ETA: 0s - loss: 0.561 - ETA: 0s - loss: 0.561 - ETA: 0s - loss: 0.560 - ETA: 0s - loss: 0.560 - ETA: 0s - loss: 0.560 - ETA: 0s - loss: 0.560 - ETA: 0s - loss: 0.559 - ETA: 0s - loss: 0.559 - ETA: 0s - loss: 0.559 - ETA: 0s - loss: 0.558 - ETA: 0s - loss: 0.558 - ETA: 0s - loss: 0.558 - ETA: 0s - loss: 0.558 - ETA: 0s - loss: 0.557 - 1s 456us/step - loss: 0.5576 - val_loss: 0.5519\n",
      "Epoch 12/100\n",
      "2523/2523 [==============================] - ETA: 0s - loss: 0.552 - ETA: 1s - loss: 0.552 - ETA: 0s - loss: 0.551 - ETA: 0s - loss: 0.551 - ETA: 0s - loss: 0.550 - ETA: 0s - loss: 0.550 - ETA: 0s - loss: 0.550 - ETA: 0s - loss: 0.549 - ETA: 0s - loss: 0.549 - ETA: 0s - loss: 0.549 - ETA: 0s - loss: 0.549 - ETA: 0s - loss: 0.549 - ETA: 0s - loss: 0.548 - ETA: 0s - loss: 0.548 - ETA: 0s - loss: 0.548 - ETA: 0s - loss: 0.547 - ETA: 0s - loss: 0.547 - ETA: 0s - loss: 0.547 - ETA: 0s - loss: 0.547 - ETA: 0s - loss: 0.546 - 1s 441us/step - loss: 0.5467 - val_loss: 0.5412\n",
      "Epoch 13/100\n",
      "2523/2523 [==============================] - ETA: 0s - loss: 0.540 - ETA: 1s - loss: 0.541 - ETA: 1s - loss: 0.541 - ETA: 1s - loss: 0.540 - ETA: 0s - loss: 0.540 - ETA: 0s - loss: 0.540 - ETA: 0s - loss: 0.539 - ETA: 0s - loss: 0.539 - ETA: 0s - loss: 0.539 - ETA: 0s - loss: 0.539 - ETA: 0s - loss: 0.538 - ETA: 0s - loss: 0.538 - ETA: 0s - loss: 0.538 - ETA: 0s - loss: 0.538 - ETA: 0s - loss: 0.537 - ETA: 0s - loss: 0.537 - ETA: 0s - loss: 0.537 - ETA: 0s - loss: 0.536 - ETA: 0s - loss: 0.536 - ETA: 0s - loss: 0.536 - 1s 451us/step - loss: 0.5362 - val_loss: 0.5309\n",
      "Epoch 14/100\n",
      "2523/2523 [==============================] - ETA: 1s - loss: 0.530 - ETA: 1s - loss: 0.530 - ETA: 0s - loss: 0.530 - ETA: 0s - loss: 0.529 - ETA: 0s - loss: 0.529 - ETA: 0s - loss: 0.529 - ETA: 0s - loss: 0.529 - ETA: 0s - loss: 0.528 - ETA: 0s - loss: 0.528 - ETA: 0s - loss: 0.528 - ETA: 0s - loss: 0.528 - ETA: 0s - loss: 0.527 - ETA: 0s - loss: 0.527 - ETA: 0s - loss: 0.527 - ETA: 0s - loss: 0.527 - ETA: 0s - loss: 0.527 - ETA: 0s - loss: 0.526 - ETA: 0s - loss: 0.526 - ETA: 0s - loss: 0.526 - 1s 430us/step - loss: 0.5260 - val_loss: 0.5208\n",
      "Epoch 15/100\n"
     ]
    },
    {
     "name": "stdout",
     "output_type": "stream",
     "text": [
      "2523/2523 [==============================] - ETA: 1s - loss: 0.521 - ETA: 0s - loss: 0.520 - ETA: 0s - loss: 0.520 - ETA: 0s - loss: 0.520 - ETA: 0s - loss: 0.519 - ETA: 0s - loss: 0.519 - ETA: 0s - loss: 0.519 - ETA: 0s - loss: 0.519 - ETA: 0s - loss: 0.519 - ETA: 0s - loss: 0.518 - ETA: 0s - loss: 0.518 - ETA: 0s - loss: 0.518 - ETA: 0s - loss: 0.518 - ETA: 0s - loss: 0.518 - ETA: 0s - loss: 0.517 - ETA: 0s - loss: 0.517 - ETA: 0s - loss: 0.517 - ETA: 0s - loss: 0.517 - ETA: 0s - loss: 0.516 - ETA: 0s - loss: 0.516 - ETA: 0s - loss: 0.516 - 1s 470us/step - loss: 0.5161 - val_loss: 0.5110\n",
      "Epoch 16/100\n",
      "2523/2523 [==============================] - ETA: 1s - loss: 0.510 - ETA: 1s - loss: 0.511 - ETA: 0s - loss: 0.511 - ETA: 0s - loss: 0.510 - ETA: 0s - loss: 0.510 - ETA: 0s - loss: 0.510 - ETA: 0s - loss: 0.509 - ETA: 0s - loss: 0.509 - ETA: 0s - loss: 0.509 - ETA: 0s - loss: 0.508 - ETA: 0s - loss: 0.508 - ETA: 0s - loss: 0.508 - ETA: 0s - loss: 0.508 - ETA: 0s - loss: 0.508 - ETA: 0s - loss: 0.507 - ETA: 0s - loss: 0.507 - ETA: 0s - loss: 0.507 - ETA: 0s - loss: 0.506 - ETA: 0s - loss: 0.506 - 1s 414us/step - loss: 0.5065 - val_loss: 0.5016\n",
      "Epoch 17/100\n",
      "2523/2523 [==============================] - ETA: 1s - loss: 0.501 - ETA: 1s - loss: 0.501 - ETA: 0s - loss: 0.501 - ETA: 0s - loss: 0.500 - ETA: 0s - loss: 0.500 - ETA: 0s - loss: 0.500 - ETA: 0s - loss: 0.499 - ETA: 0s - loss: 0.499 - ETA: 0s - loss: 0.499 - ETA: 0s - loss: 0.499 - ETA: 0s - loss: 0.498 - ETA: 0s - loss: 0.498 - ETA: 0s - loss: 0.498 - ETA: 0s - loss: 0.498 - ETA: 0s - loss: 0.497 - ETA: 0s - loss: 0.497 - ETA: 0s - loss: 0.497 - 1s 376us/step - loss: 0.4972 - val_loss: 0.4924\n",
      "Epoch 18/100\n",
      "2523/2523 [==============================] - ETA: 1s - loss: 0.492 - ETA: 0s - loss: 0.492 - ETA: 1s - loss: 0.491 - ETA: 1s - loss: 0.491 - ETA: 0s - loss: 0.491 - ETA: 0s - loss: 0.491 - ETA: 0s - loss: 0.491 - ETA: 0s - loss: 0.491 - ETA: 0s - loss: 0.490 - ETA: 0s - loss: 0.490 - ETA: 0s - loss: 0.490 - ETA: 0s - loss: 0.490 - ETA: 0s - loss: 0.489 - ETA: 0s - loss: 0.489 - ETA: 0s - loss: 0.489 - ETA: 0s - loss: 0.489 - ETA: 0s - loss: 0.488 - ETA: 0s - loss: 0.488 - ETA: 0s - loss: 0.488 - 1s 422us/step - loss: 0.4882 - val_loss: 0.4834\n",
      "Epoch 19/100\n",
      "2523/2523 [==============================] - ETA: 1s - loss: 0.483 - ETA: 1s - loss: 0.484 - ETA: 0s - loss: 0.483 - ETA: 0s - loss: 0.483 - ETA: 0s - loss: 0.482 - ETA: 0s - loss: 0.482 - ETA: 0s - loss: 0.482 - ETA: 0s - loss: 0.482 - ETA: 0s - loss: 0.481 - ETA: 0s - loss: 0.481 - ETA: 0s - loss: 0.481 - ETA: 0s - loss: 0.481 - ETA: 0s - loss: 0.480 - ETA: 0s - loss: 0.480 - ETA: 0s - loss: 0.480 - ETA: 0s - loss: 0.480 - ETA: 0s - loss: 0.480 - ETA: 0s - loss: 0.479 - ETA: 0s - loss: 0.479 - ETA: 0s - loss: 0.479 - ETA: 0s - loss: 0.479 - 1s 479us/step - loss: 0.4794 - val_loss: 0.4748\n",
      "Epoch 20/100\n",
      "2523/2523 [==============================] - ETA: 1s - loss: 0.474 - ETA: 1s - loss: 0.474 - ETA: 0s - loss: 0.474 - ETA: 0s - loss: 0.474 - ETA: 0s - loss: 0.474 - ETA: 0s - loss: 0.473 - ETA: 0s - loss: 0.473 - ETA: 0s - loss: 0.473 - ETA: 0s - loss: 0.473 - ETA: 0s - loss: 0.473 - ETA: 0s - loss: 0.473 - ETA: 0s - loss: 0.472 - ETA: 0s - loss: 0.472 - ETA: 0s - loss: 0.472 - ETA: 0s - loss: 0.472 - ETA: 0s - loss: 0.472 - ETA: 0s - loss: 0.471 - ETA: 0s - loss: 0.471 - ETA: 0s - loss: 0.471 - ETA: 0s - loss: 0.471 - 1s 436us/step - loss: 0.4708 - val_loss: 0.4663\n",
      "Epoch 21/100\n",
      "2523/2523 [==============================] - ETA: 1s - loss: 0.465 - ETA: 0s - loss: 0.466 - ETA: 0s - loss: 0.466 - ETA: 0s - loss: 0.466 - ETA: 0s - loss: 0.466 - ETA: 0s - loss: 0.465 - ETA: 0s - loss: 0.465 - ETA: 0s - loss: 0.465 - ETA: 0s - loss: 0.464 - ETA: 0s - loss: 0.464 - ETA: 0s - loss: 0.464 - ETA: 0s - loss: 0.464 - ETA: 0s - loss: 0.463 - ETA: 0s - loss: 0.463 - ETA: 0s - loss: 0.463 - ETA: 0s - loss: 0.463 - ETA: 0s - loss: 0.463 - ETA: 0s - loss: 0.463 - ETA: 0s - loss: 0.462 - ETA: 0s - loss: 0.462 - 1s 435us/step - loss: 0.4625 - val_loss: 0.4581\n",
      "Epoch 22/100\n",
      "2523/2523 [==============================] - ETA: 1s - loss: 0.457 - ETA: 1s - loss: 0.459 - ETA: 1s - loss: 0.458 - ETA: 1s - loss: 0.458 - ETA: 0s - loss: 0.457 - ETA: 0s - loss: 0.457 - ETA: 0s - loss: 0.457 - ETA: 0s - loss: 0.456 - ETA: 0s - loss: 0.456 - ETA: 0s - loss: 0.456 - ETA: 0s - loss: 0.456 - ETA: 0s - loss: 0.456 - ETA: 0s - loss: 0.455 - ETA: 0s - loss: 0.455 - ETA: 0s - loss: 0.455 - ETA: 0s - loss: 0.455 - ETA: 0s - loss: 0.455 - ETA: 0s - loss: 0.454 - 1s 404us/step - loss: 0.4545 - val_loss: 0.4502\n",
      "Epoch 23/100\n",
      "2523/2523 [==============================] - ETA: 1s - loss: 0.451 - ETA: 0s - loss: 0.450 - ETA: 0s - loss: 0.449 - ETA: 0s - loss: 0.449 - ETA: 0s - loss: 0.449 - ETA: 0s - loss: 0.449 - ETA: 0s - loss: 0.449 - ETA: 0s - loss: 0.448 - ETA: 0s - loss: 0.448 - ETA: 0s - loss: 0.448 - ETA: 0s - loss: 0.448 - ETA: 0s - loss: 0.448 - ETA: 0s - loss: 0.447 - ETA: 0s - loss: 0.447 - ETA: 0s - loss: 0.447 - ETA: 0s - loss: 0.447 - ETA: 0s - loss: 0.447 - ETA: 0s - loss: 0.447 - ETA: 0s - loss: 0.446 - ETA: 0s - loss: 0.446 - 1s 451us/step - loss: 0.4466 - val_loss: 0.4424\n",
      "Epoch 24/100\n",
      "2523/2523 [==============================] - ETA: 1s - loss: 0.441 - ETA: 1s - loss: 0.442 - ETA: 1s - loss: 0.441 - ETA: 1s - loss: 0.441 - ETA: 0s - loss: 0.441 - ETA: 0s - loss: 0.441 - ETA: 0s - loss: 0.441 - ETA: 0s - loss: 0.441 - ETA: 0s - loss: 0.441 - ETA: 0s - loss: 0.440 - ETA: 0s - loss: 0.440 - ETA: 0s - loss: 0.440 - ETA: 0s - loss: 0.440 - ETA: 0s - loss: 0.440 - ETA: 0s - loss: 0.440 - ETA: 0s - loss: 0.440 - ETA: 0s - loss: 0.439 - ETA: 0s - loss: 0.439 - ETA: 0s - loss: 0.439 - ETA: 0s - loss: 0.439 - ETA: 0s - loss: 0.439 - ETA: 0s - loss: 0.439 - 1s 488us/step - loss: 0.4390 - val_loss: 0.4349\n",
      "Epoch 25/100\n",
      "2523/2523 [==============================] - ETA: 1s - loss: 0.434 - ETA: 1s - loss: 0.434 - ETA: 1s - loss: 0.434 - ETA: 0s - loss: 0.434 - ETA: 0s - loss: 0.434 - ETA: 0s - loss: 0.434 - ETA: 0s - loss: 0.434 - ETA: 0s - loss: 0.434 - ETA: 0s - loss: 0.433 - ETA: 0s - loss: 0.433 - ETA: 0s - loss: 0.433 - ETA: 0s - loss: 0.433 - ETA: 0s - loss: 0.433 - ETA: 0s - loss: 0.433 - ETA: 0s - loss: 0.432 - ETA: 0s - loss: 0.432 - ETA: 0s - loss: 0.432 - ETA: 0s - loss: 0.432 - ETA: 0s - loss: 0.432 - ETA: 0s - loss: 0.431 - 1s 443us/step - loss: 0.4316 - val_loss: 0.4276\n",
      "Epoch 26/100\n",
      "2523/2523 [==============================] - ETA: 0s - loss: 0.431 - ETA: 0s - loss: 0.427 - ETA: 0s - loss: 0.427 - ETA: 0s - loss: 0.427 - ETA: 0s - loss: 0.427 - ETA: 0s - loss: 0.426 - ETA: 0s - loss: 0.426 - ETA: 0s - loss: 0.426 - ETA: 0s - loss: 0.426 - ETA: 0s - loss: 0.425 - ETA: 0s - loss: 0.425 - ETA: 0s - loss: 0.425 - ETA: 0s - loss: 0.425 - ETA: 0s - loss: 0.425 - ETA: 0s - loss: 0.425 - ETA: 0s - loss: 0.425 - ETA: 0s - loss: 0.424 - ETA: 0s - loss: 0.424 - ETA: 0s - loss: 0.424 - ETA: 0s - loss: 0.424 - 1s 482us/step - loss: 0.4244 - val_loss: 0.4205\n",
      "Epoch 27/100\n",
      "2523/2523 [==============================] - ETA: 1s - loss: 0.424 - ETA: 1s - loss: 0.421 - ETA: 1s - loss: 0.420 - ETA: 1s - loss: 0.420 - ETA: 1s - loss: 0.420 - ETA: 1s - loss: 0.420 - ETA: 1s - loss: 0.420 - ETA: 0s - loss: 0.419 - ETA: 0s - loss: 0.419 - ETA: 0s - loss: 0.419 - ETA: 0s - loss: 0.419 - ETA: 0s - loss: 0.419 - ETA: 0s - loss: 0.419 - ETA: 0s - loss: 0.419 - ETA: 0s - loss: 0.419 - ETA: 0s - loss: 0.418 - ETA: 0s - loss: 0.418 - ETA: 0s - loss: 0.418 - ETA: 0s - loss: 0.418 - ETA: 0s - loss: 0.418 - ETA: 0s - loss: 0.418 - ETA: 0s - loss: 0.418 - ETA: 0s - loss: 0.418 - ETA: 0s - loss: 0.417 - ETA: 0s - loss: 0.417 - ETA: 0s - loss: 0.417 - ETA: 0s - loss: 0.417 - 2s 621us/step - loss: 0.4174 - val_loss: 0.4136\n",
      "Epoch 28/100\n"
     ]
    },
    {
     "name": "stdout",
     "output_type": "stream",
     "text": [
      "2523/2523 [==============================] - ETA: 0s - loss: 0.413 - ETA: 1s - loss: 0.413 - ETA: 1s - loss: 0.413 - ETA: 0s - loss: 0.413 - ETA: 0s - loss: 0.413 - ETA: 0s - loss: 0.412 - ETA: 0s - loss: 0.412 - ETA: 0s - loss: 0.412 - ETA: 0s - loss: 0.412 - ETA: 0s - loss: 0.412 - ETA: 0s - loss: 0.412 - ETA: 0s - loss: 0.411 - ETA: 0s - loss: 0.411 - ETA: 0s - loss: 0.411 - ETA: 0s - loss: 0.411 - ETA: 0s - loss: 0.411 - ETA: 0s - loss: 0.411 - ETA: 0s - loss: 0.411 - ETA: 0s - loss: 0.410 - ETA: 0s - loss: 0.410 - ETA: 0s - loss: 0.410 - ETA: 0s - loss: 0.410 - 1s 502us/step - loss: 0.4106 - val_loss: 0.4068\n",
      "Epoch 29/100\n",
      "2523/2523 [==============================] - ETA: 0s - loss: 0.406 - ETA: 0s - loss: 0.406 - ETA: 0s - loss: 0.406 - ETA: 0s - loss: 0.406 - ETA: 0s - loss: 0.406 - ETA: 0s - loss: 0.406 - ETA: 0s - loss: 0.406 - ETA: 0s - loss: 0.405 - ETA: 0s - loss: 0.405 - ETA: 0s - loss: 0.405 - ETA: 0s - loss: 0.405 - ETA: 0s - loss: 0.405 - ETA: 0s - loss: 0.404 - ETA: 0s - loss: 0.404 - ETA: 0s - loss: 0.404 - ETA: 0s - loss: 0.404 - ETA: 0s - loss: 0.404 - 1s 370us/step - loss: 0.4039 - val_loss: 0.4003\n",
      "Epoch 30/100\n",
      "2523/2523 [==============================] - ETA: 1s - loss: 0.406 - ETA: 0s - loss: 0.401 - ETA: 0s - loss: 0.401 - ETA: 0s - loss: 0.400 - ETA: 0s - loss: 0.400 - ETA: 0s - loss: 0.400 - ETA: 0s - loss: 0.399 - ETA: 0s - loss: 0.399 - ETA: 0s - loss: 0.399 - ETA: 0s - loss: 0.398 - ETA: 0s - loss: 0.398 - ETA: 0s - loss: 0.398 - ETA: 0s - loss: 0.398 - ETA: 0s - loss: 0.398 - ETA: 0s - loss: 0.398 - ETA: 0s - loss: 0.397 - ETA: 0s - loss: 0.397 - 1s 370us/step - loss: 0.3975 - val_loss: 0.3939\n",
      "Epoch 31/100\n",
      "2523/2523 [==============================] - ETA: 1s - loss: 0.397 - ETA: 0s - loss: 0.394 - ETA: 0s - loss: 0.394 - ETA: 0s - loss: 0.393 - ETA: 0s - loss: 0.393 - ETA: 0s - loss: 0.393 - ETA: 0s - loss: 0.393 - ETA: 0s - loss: 0.393 - ETA: 0s - loss: 0.392 - ETA: 0s - loss: 0.392 - ETA: 0s - loss: 0.392 - ETA: 0s - loss: 0.392 - ETA: 0s - loss: 0.392 - ETA: 0s - loss: 0.391 - ETA: 0s - loss: 0.391 - ETA: 0s - loss: 0.391 - ETA: 0s - loss: 0.391 - 1s 372us/step - loss: 0.3912 - val_loss: 0.3877\n",
      "Epoch 32/100\n",
      "2523/2523 [==============================] - ETA: 1s - loss: 0.388 - ETA: 0s - loss: 0.387 - ETA: 0s - loss: 0.387 - ETA: 0s - loss: 0.387 - ETA: 0s - loss: 0.387 - ETA: 0s - loss: 0.387 - ETA: 0s - loss: 0.387 - ETA: 0s - loss: 0.386 - ETA: 0s - loss: 0.386 - ETA: 0s - loss: 0.386 - ETA: 0s - loss: 0.386 - ETA: 0s - loss: 0.386 - ETA: 0s - loss: 0.386 - ETA: 0s - loss: 0.385 - ETA: 0s - loss: 0.385 - ETA: 0s - loss: 0.385 - ETA: 0s - loss: 0.385 - 1s 375us/step - loss: 0.3851 - val_loss: 0.3817\n",
      "Epoch 33/100\n",
      "2523/2523 [==============================] - ETA: 1s - loss: 0.383 - ETA: 0s - loss: 0.383 - ETA: 0s - loss: 0.382 - ETA: 0s - loss: 0.382 - ETA: 0s - loss: 0.381 - ETA: 0s - loss: 0.381 - ETA: 0s - loss: 0.381 - ETA: 0s - loss: 0.381 - ETA: 0s - loss: 0.380 - ETA: 0s - loss: 0.380 - ETA: 0s - loss: 0.380 - ETA: 0s - loss: 0.380 - ETA: 0s - loss: 0.379 - ETA: 0s - loss: 0.379 - ETA: 0s - loss: 0.379 - ETA: 0s - loss: 0.379 - 1s 350us/step - loss: 0.3792 - val_loss: 0.3758\n",
      "Epoch 34/100\n",
      "2523/2523 [==============================] - ETA: 1s - loss: 0.375 - ETA: 1s - loss: 0.375 - ETA: 0s - loss: 0.375 - ETA: 0s - loss: 0.375 - ETA: 1s - loss: 0.375 - ETA: 0s - loss: 0.375 - ETA: 0s - loss: 0.375 - ETA: 0s - loss: 0.375 - ETA: 0s - loss: 0.375 - ETA: 0s - loss: 0.374 - ETA: 0s - loss: 0.374 - ETA: 0s - loss: 0.374 - ETA: 0s - loss: 0.374 - ETA: 0s - loss: 0.374 - ETA: 0s - loss: 0.374 - ETA: 0s - loss: 0.373 - ETA: 0s - loss: 0.373 - ETA: 0s - loss: 0.373 - 1s 404us/step - loss: 0.3734 - val_loss: 0.3701\n",
      "Epoch 35/100\n",
      "2523/2523 [==============================] - ETA: 1s - loss: 0.370 - ETA: 1s - loss: 0.371 - ETA: 0s - loss: 0.370 - ETA: 0s - loss: 0.370 - ETA: 0s - loss: 0.370 - ETA: 0s - loss: 0.369 - ETA: 0s - loss: 0.369 - ETA: 0s - loss: 0.369 - ETA: 0s - loss: 0.369 - ETA: 0s - loss: 0.369 - ETA: 0s - loss: 0.368 - ETA: 0s - loss: 0.368 - ETA: 0s - loss: 0.368 - ETA: 0s - loss: 0.368 - ETA: 0s - loss: 0.368 - ETA: 0s - loss: 0.368 - ETA: 0s - loss: 0.367 - ETA: 0s - loss: 0.367 - 1s 385us/step - loss: 0.3677 - val_loss: 0.3645\n",
      "Epoch 36/100\n",
      "2523/2523 [==============================] - ETA: 0s - loss: 0.363 - ETA: 0s - loss: 0.365 - ETA: 0s - loss: 0.365 - ETA: 0s - loss: 0.364 - ETA: 0s - loss: 0.364 - ETA: 0s - loss: 0.364 - ETA: 0s - loss: 0.364 - ETA: 0s - loss: 0.364 - ETA: 0s - loss: 0.363 - ETA: 0s - loss: 0.363 - ETA: 0s - loss: 0.363 - ETA: 0s - loss: 0.363 - ETA: 0s - loss: 0.362 - ETA: 0s - loss: 0.362 - ETA: 0s - loss: 0.362 - ETA: 0s - loss: 0.362 - ETA: 0s - loss: 0.362 - 1s 377us/step - loss: 0.3622 - val_loss: 0.3590\n",
      "Epoch 37/100\n",
      "2523/2523 [==============================] - ETA: 0s - loss: 0.364 - ETA: 1s - loss: 0.360 - ETA: 1s - loss: 0.360 - ETA: 1s - loss: 0.360 - ETA: 0s - loss: 0.359 - ETA: 0s - loss: 0.358 - ETA: 0s - loss: 0.359 - ETA: 0s - loss: 0.358 - ETA: 0s - loss: 0.358 - ETA: 0s - loss: 0.358 - ETA: 0s - loss: 0.358 - ETA: 0s - loss: 0.358 - ETA: 0s - loss: 0.357 - ETA: 0s - loss: 0.357 - ETA: 0s - loss: 0.357 - ETA: 0s - loss: 0.357 - ETA: 0s - loss: 0.357 - ETA: 0s - loss: 0.356 - 1s 394us/step - loss: 0.3569 - val_loss: 0.3538\n",
      "Epoch 38/100\n",
      "2523/2523 [==============================] - ETA: 1s - loss: 0.352 - ETA: 0s - loss: 0.354 - ETA: 0s - loss: 0.353 - ETA: 0s - loss: 0.353 - ETA: 0s - loss: 0.353 - ETA: 0s - loss: 0.353 - ETA: 0s - loss: 0.353 - ETA: 0s - loss: 0.352 - ETA: 0s - loss: 0.352 - ETA: 0s - loss: 0.352 - ETA: 0s - loss: 0.352 - ETA: 0s - loss: 0.352 - ETA: 0s - loss: 0.352 - ETA: 0s - loss: 0.351 - ETA: 0s - loss: 0.351 - ETA: 0s - loss: 0.351 - 1s 358us/step - loss: 0.3517 - val_loss: 0.3486\n",
      "Epoch 39/100\n",
      "2523/2523 [==============================] - ETA: 1s - loss: 0.350 - ETA: 1s - loss: 0.350 - ETA: 0s - loss: 0.349 - ETA: 0s - loss: 0.349 - ETA: 0s - loss: 0.348 - ETA: 0s - loss: 0.348 - ETA: 0s - loss: 0.348 - ETA: 0s - loss: 0.348 - ETA: 0s - loss: 0.347 - ETA: 0s - loss: 0.347 - ETA: 0s - loss: 0.347 - ETA: 0s - loss: 0.347 - ETA: 0s - loss: 0.347 - ETA: 0s - loss: 0.347 - ETA: 0s - loss: 0.347 - ETA: 0s - loss: 0.346 - ETA: 0s - loss: 0.346 - 1s 378us/step - loss: 0.3466 - val_loss: 0.3436\n",
      "Epoch 40/100\n",
      "2523/2523 [==============================] - ETA: 1s - loss: 0.343 - ETA: 0s - loss: 0.344 - ETA: 0s - loss: 0.343 - ETA: 0s - loss: 0.344 - ETA: 0s - loss: 0.343 - ETA: 0s - loss: 0.343 - ETA: 0s - loss: 0.343 - ETA: 0s - loss: 0.342 - ETA: 0s - loss: 0.342 - ETA: 0s - loss: 0.342 - ETA: 0s - loss: 0.342 - ETA: 0s - loss: 0.342 - ETA: 0s - loss: 0.342 - ETA: 0s - loss: 0.342 - ETA: 0s - loss: 0.341 - ETA: 0s - loss: 0.341 - ETA: 0s - loss: 0.341 - ETA: 0s - loss: 0.341 - 1s 394us/step - loss: 0.3416 - val_loss: 0.3386\n",
      "Epoch 41/100\n",
      "2523/2523 [==============================] - ETA: 1s - loss: 0.337 - ETA: 1s - loss: 0.339 - ETA: 1s - loss: 0.339 - ETA: 1s - loss: 0.338 - ETA: 0s - loss: 0.338 - ETA: 0s - loss: 0.338 - ETA: 0s - loss: 0.338 - ETA: 0s - loss: 0.338 - ETA: 0s - loss: 0.337 - ETA: 0s - loss: 0.337 - ETA: 0s - loss: 0.337 - ETA: 0s - loss: 0.337 - ETA: 0s - loss: 0.337 - ETA: 0s - loss: 0.337 - ETA: 0s - loss: 0.337 - ETA: 0s - loss: 0.337 - ETA: 0s - loss: 0.336 - 1s 382us/step - loss: 0.3368 - val_loss: 0.3339\n",
      "Epoch 42/100\n",
      "2523/2523 [==============================] - ETA: 1s - loss: 0.335 - ETA: 0s - loss: 0.333 - ETA: 0s - loss: 0.333 - ETA: 0s - loss: 0.333 - ETA: 0s - loss: 0.333 - ETA: 0s - loss: 0.333 - ETA: 0s - loss: 0.333 - ETA: 0s - loss: 0.333 - ETA: 0s - loss: 0.333 - ETA: 0s - loss: 0.333 - ETA: 0s - loss: 0.332 - ETA: 0s - loss: 0.332 - ETA: 0s - loss: 0.332 - ETA: 0s - loss: 0.332 - ETA: 0s - loss: 0.332 - ETA: 0s - loss: 0.332 - ETA: 0s - loss: 0.332 - 1s 384us/step - loss: 0.3320 - val_loss: 0.3292\n",
      "Epoch 43/100\n"
     ]
    },
    {
     "name": "stdout",
     "output_type": "stream",
     "text": [
      "2523/2523 [==============================] - ETA: 1s - loss: 0.328 - ETA: 1s - loss: 0.329 - ETA: 1s - loss: 0.328 - ETA: 0s - loss: 0.328 - ETA: 0s - loss: 0.328 - ETA: 0s - loss: 0.328 - ETA: 0s - loss: 0.328 - ETA: 0s - loss: 0.328 - ETA: 0s - loss: 0.328 - ETA: 0s - loss: 0.328 - ETA: 0s - loss: 0.328 - ETA: 0s - loss: 0.328 - ETA: 0s - loss: 0.328 - ETA: 0s - loss: 0.328 - ETA: 0s - loss: 0.328 - ETA: 0s - loss: 0.327 - ETA: 0s - loss: 0.327 - ETA: 0s - loss: 0.327 - 1s 392us/step - loss: 0.3274 - val_loss: 0.3246\n",
      "Epoch 44/100\n",
      "2523/2523 [==============================] - ETA: 1s - loss: 0.323 - ETA: 1s - loss: 0.324 - ETA: 0s - loss: 0.324 - ETA: 0s - loss: 0.325 - ETA: 0s - loss: 0.324 - ETA: 0s - loss: 0.324 - ETA: 0s - loss: 0.324 - ETA: 0s - loss: 0.324 - ETA: 0s - loss: 0.324 - ETA: 0s - loss: 0.324 - ETA: 0s - loss: 0.324 - ETA: 0s - loss: 0.323 - ETA: 0s - loss: 0.323 - ETA: 0s - loss: 0.323 - ETA: 0s - loss: 0.323 - ETA: 0s - loss: 0.323 - ETA: 0s - loss: 0.323 - 1s 380us/step - loss: 0.3230 - val_loss: 0.3202\n",
      "Epoch 45/100\n",
      "2523/2523 [==============================] - ETA: 1s - loss: 0.320 - ETA: 1s - loss: 0.319 - ETA: 1s - loss: 0.320 - ETA: 0s - loss: 0.320 - ETA: 0s - loss: 0.319 - ETA: 0s - loss: 0.319 - ETA: 0s - loss: 0.319 - ETA: 0s - loss: 0.319 - ETA: 0s - loss: 0.319 - ETA: 0s - loss: 0.319 - ETA: 0s - loss: 0.319 - ETA: 0s - loss: 0.319 - ETA: 0s - loss: 0.319 - ETA: 0s - loss: 0.318 - ETA: 0s - loss: 0.318 - 1s 343us/step - loss: 0.3186 - val_loss: 0.3159\n",
      "Epoch 46/100\n",
      "2523/2523 [==============================] - ETA: 0s - loss: 0.315 - ETA: 0s - loss: 0.315 - ETA: 0s - loss: 0.316 - ETA: 0s - loss: 0.315 - ETA: 0s - loss: 0.316 - ETA: 0s - loss: 0.316 - ETA: 0s - loss: 0.315 - ETA: 0s - loss: 0.315 - ETA: 0s - loss: 0.315 - ETA: 0s - loss: 0.315 - ETA: 0s - loss: 0.315 - ETA: 0s - loss: 0.315 - ETA: 0s - loss: 0.314 - ETA: 0s - loss: 0.314 - ETA: 0s - loss: 0.314 - ETA: 0s - loss: 0.314 - ETA: 0s - loss: 0.314 - 1s 362us/step - loss: 0.3143 - val_loss: 0.3116\n",
      "Epoch 47/100\n",
      "2523/2523 [==============================] - ETA: 1s - loss: 0.311 - ETA: 0s - loss: 0.312 - ETA: 0s - loss: 0.313 - ETA: 0s - loss: 0.312 - ETA: 0s - loss: 0.312 - ETA: 0s - loss: 0.312 - ETA: 0s - loss: 0.311 - ETA: 0s - loss: 0.311 - ETA: 0s - loss: 0.311 - ETA: 0s - loss: 0.311 - ETA: 0s - loss: 0.311 - ETA: 0s - loss: 0.311 - ETA: 0s - loss: 0.310 - ETA: 0s - loss: 0.310 - ETA: 0s - loss: 0.310 - ETA: 0s - loss: 0.310 - ETA: 0s - loss: 0.310 - 1s 369us/step - loss: 0.3101 - val_loss: 0.3075\n",
      "Epoch 48/100\n",
      "2523/2523 [==============================] - ETA: 1s - loss: 0.306 - ETA: 0s - loss: 0.307 - ETA: 0s - loss: 0.306 - ETA: 0s - loss: 0.307 - ETA: 0s - loss: 0.307 - ETA: 0s - loss: 0.307 - ETA: 0s - loss: 0.307 - ETA: 0s - loss: 0.307 - ETA: 0s - loss: 0.306 - ETA: 0s - loss: 0.306 - ETA: 0s - loss: 0.306 - ETA: 0s - loss: 0.306 - ETA: 0s - loss: 0.306 - ETA: 0s - loss: 0.306 - ETA: 0s - loss: 0.306 - ETA: 0s - loss: 0.306 - ETA: 0s - loss: 0.306 - ETA: 0s - loss: 0.306 - ETA: 0s - loss: 0.306 - ETA: 0s - loss: 0.306 - 1s 442us/step - loss: 0.3061 - val_loss: 0.3035\n",
      "Epoch 49/100\n",
      "2523/2523 [==============================] - ETA: 1s - loss: 0.303 - ETA: 0s - loss: 0.303 - ETA: 0s - loss: 0.304 - ETA: 0s - loss: 0.303 - ETA: 0s - loss: 0.303 - ETA: 0s - loss: 0.303 - ETA: 0s - loss: 0.303 - ETA: 0s - loss: 0.303 - ETA: 0s - loss: 0.302 - ETA: 0s - loss: 0.302 - ETA: 0s - loss: 0.302 - ETA: 0s - loss: 0.302 - ETA: 0s - loss: 0.302 - ETA: 0s - loss: 0.302 - ETA: 0s - loss: 0.302 - ETA: 0s - loss: 0.302 - ETA: 0s - loss: 0.302 - 1s 379us/step - loss: 0.3021 - val_loss: 0.2995\n",
      "Epoch 50/100\n",
      "2523/2523 [==============================] - ETA: 1s - loss: 0.298 - ETA: 0s - loss: 0.299 - ETA: 0s - loss: 0.299 - ETA: 0s - loss: 0.299 - ETA: 0s - loss: 0.299 - ETA: 0s - loss: 0.299 - ETA: 0s - loss: 0.299 - ETA: 0s - loss: 0.299 - ETA: 0s - loss: 0.299 - ETA: 0s - loss: 0.299 - ETA: 0s - loss: 0.299 - ETA: 0s - loss: 0.298 - ETA: 0s - loss: 0.299 - ETA: 0s - loss: 0.298 - ETA: 0s - loss: 0.298 - ETA: 0s - loss: 0.298 - ETA: 0s - loss: 0.298 - 1s 377us/step - loss: 0.2982 - val_loss: 0.2957\n",
      "Epoch 51/100\n",
      "2523/2523 [==============================] - ETA: 1s - loss: 0.301 - ETA: 0s - loss: 0.296 - ETA: 0s - loss: 0.296 - ETA: 0s - loss: 0.296 - ETA: 0s - loss: 0.296 - ETA: 0s - loss: 0.295 - ETA: 0s - loss: 0.295 - ETA: 0s - loss: 0.295 - ETA: 0s - loss: 0.295 - ETA: 0s - loss: 0.295 - ETA: 0s - loss: 0.295 - ETA: 0s - loss: 0.295 - ETA: 0s - loss: 0.295 - ETA: 0s - loss: 0.294 - ETA: 0s - loss: 0.294 - ETA: 0s - loss: 0.294 - 1s 358us/step - loss: 0.2944 - val_loss: 0.2919\n",
      "Epoch 52/100\n",
      "2523/2523 [==============================] - ETA: 1s - loss: 0.293 - ETA: 0s - loss: 0.294 - ETA: 0s - loss: 0.293 - ETA: 0s - loss: 0.292 - ETA: 0s - loss: 0.292 - ETA: 0s - loss: 0.292 - ETA: 0s - loss: 0.291 - ETA: 0s - loss: 0.291 - ETA: 0s - loss: 0.291 - ETA: 0s - loss: 0.291 - ETA: 0s - loss: 0.291 - ETA: 0s - loss: 0.291 - ETA: 0s - loss: 0.291 - ETA: 0s - loss: 0.291 - ETA: 0s - loss: 0.291 - ETA: 0s - loss: 0.291 - ETA: 0s - loss: 0.290 - 1s 379us/step - loss: 0.2907 - val_loss: 0.2882\n",
      "Epoch 53/100\n",
      "2523/2523 [==============================] - ETA: 1s - loss: 0.287 - ETA: 0s - loss: 0.288 - ETA: 0s - loss: 0.289 - ETA: 0s - loss: 0.289 - ETA: 0s - loss: 0.288 - ETA: 0s - loss: 0.288 - ETA: 0s - loss: 0.288 - ETA: 0s - loss: 0.288 - ETA: 0s - loss: 0.288 - ETA: 0s - loss: 0.288 - ETA: 0s - loss: 0.288 - ETA: 0s - loss: 0.287 - ETA: 0s - loss: 0.287 - ETA: 0s - loss: 0.287 - ETA: 0s - loss: 0.287 - ETA: 0s - loss: 0.287 - 1s 364us/step - loss: 0.2871 - val_loss: 0.2846\n",
      "Epoch 54/100\n",
      "2523/2523 [==============================] - ETA: 1s - loss: 0.283 - ETA: 0s - loss: 0.287 - ETA: 0s - loss: 0.286 - ETA: 0s - loss: 0.286 - ETA: 0s - loss: 0.285 - ETA: 0s - loss: 0.285 - ETA: 0s - loss: 0.285 - ETA: 0s - loss: 0.285 - ETA: 0s - loss: 0.285 - ETA: 0s - loss: 0.284 - ETA: 0s - loss: 0.284 - ETA: 0s - loss: 0.284 - ETA: 0s - loss: 0.284 - ETA: 0s - loss: 0.284 - ETA: 0s - loss: 0.284 - ETA: 0s - loss: 0.283 - ETA: 0s - loss: 0.283 - ETA: 0s - loss: 0.283 - 1s 408us/step - loss: 0.2835 - val_loss: 0.2811\n",
      "Epoch 55/100\n",
      "2523/2523 [==============================] - ETA: 1s - loss: 0.282 - ETA: 0s - loss: 0.283 - ETA: 0s - loss: 0.282 - ETA: 0s - loss: 0.282 - ETA: 0s - loss: 0.282 - ETA: 0s - loss: 0.282 - ETA: 0s - loss: 0.281 - ETA: 0s - loss: 0.281 - ETA: 0s - loss: 0.281 - ETA: 0s - loss: 0.281 - ETA: 0s - loss: 0.281 - ETA: 0s - loss: 0.281 - ETA: 0s - loss: 0.280 - ETA: 0s - loss: 0.280 - ETA: 0s - loss: 0.280 - ETA: 0s - loss: 0.280 - ETA: 0s - loss: 0.280 - ETA: 0s - loss: 0.280 - ETA: 0s - loss: 0.280 - ETA: 0s - loss: 0.280 - 1s 454us/step - loss: 0.2800 - val_loss: 0.2777\n",
      "Epoch 56/100\n",
      "2523/2523 [==============================] - ETA: 1s - loss: 0.280 - ETA: 1s - loss: 0.278 - ETA: 1s - loss: 0.278 - ETA: 0s - loss: 0.277 - ETA: 0s - loss: 0.277 - ETA: 0s - loss: 0.277 - ETA: 0s - loss: 0.277 - ETA: 0s - loss: 0.277 - ETA: 0s - loss: 0.277 - ETA: 0s - loss: 0.277 - ETA: 0s - loss: 0.277 - ETA: 0s - loss: 0.277 - ETA: 0s - loss: 0.277 - ETA: 0s - loss: 0.276 - ETA: 0s - loss: 0.276 - ETA: 0s - loss: 0.276 - ETA: 0s - loss: 0.276 - ETA: 0s - loss: 0.276 - 1s 400us/step - loss: 0.2767 - val_loss: 0.2743\n",
      "Epoch 57/100\n",
      "2523/2523 [==============================] - ETA: 1s - loss: 0.274 - ETA: 1s - loss: 0.276 - ETA: 0s - loss: 0.275 - ETA: 0s - loss: 0.274 - ETA: 0s - loss: 0.274 - ETA: 0s - loss: 0.274 - ETA: 0s - loss: 0.274 - ETA: 0s - loss: 0.274 - ETA: 0s - loss: 0.274 - ETA: 0s - loss: 0.274 - ETA: 0s - loss: 0.274 - ETA: 0s - loss: 0.274 - ETA: 0s - loss: 0.274 - ETA: 0s - loss: 0.274 - ETA: 0s - loss: 0.274 - ETA: 0s - loss: 0.274 - ETA: 0s - loss: 0.274 - ETA: 0s - loss: 0.273 - ETA: 0s - loss: 0.273 - ETA: 0s - loss: 0.273 - ETA: 0s - loss: 0.273 - ETA: 0s - loss: 0.273 - 1s 531us/step - loss: 0.2733 - val_loss: 0.2710\n",
      "Epoch 58/100\n"
     ]
    },
    {
     "name": "stdout",
     "output_type": "stream",
     "text": [
      "2523/2523 [==============================] - ETA: 0s - loss: 0.273 - ETA: 1s - loss: 0.273 - ETA: 1s - loss: 0.272 - ETA: 0s - loss: 0.271 - ETA: 0s - loss: 0.271 - ETA: 0s - loss: 0.271 - ETA: 0s - loss: 0.271 - ETA: 0s - loss: 0.271 - ETA: 0s - loss: 0.271 - ETA: 0s - loss: 0.271 - ETA: 0s - loss: 0.271 - ETA: 0s - loss: 0.271 - ETA: 0s - loss: 0.271 - ETA: 0s - loss: 0.270 - ETA: 0s - loss: 0.270 - ETA: 0s - loss: 0.270 - ETA: 0s - loss: 0.270 - ETA: 0s - loss: 0.270 - ETA: 0s - loss: 0.270 - ETA: 0s - loss: 0.270 - ETA: 0s - loss: 0.270 - 1s 477us/step - loss: 0.2701 - val_loss: 0.2678\n",
      "Epoch 59/100\n",
      "2523/2523 [==============================] - ETA: 0s - loss: 0.268 - ETA: 1s - loss: 0.267 - ETA: 1s - loss: 0.268 - ETA: 1s - loss: 0.268 - ETA: 0s - loss: 0.268 - ETA: 0s - loss: 0.268 - ETA: 0s - loss: 0.268 - ETA: 0s - loss: 0.267 - ETA: 0s - loss: 0.268 - ETA: 0s - loss: 0.267 - ETA: 0s - loss: 0.267 - ETA: 0s - loss: 0.267 - ETA: 0s - loss: 0.267 - ETA: 0s - loss: 0.267 - ETA: 0s - loss: 0.267 - ETA: 0s - loss: 0.267 - ETA: 0s - loss: 0.267 - ETA: 0s - loss: 0.267 - ETA: 0s - loss: 0.267 - ETA: 0s - loss: 0.267 - 1s 446us/step - loss: 0.2669 - val_loss: 0.2647\n",
      "Epoch 60/100\n",
      "2523/2523 [==============================] - ETA: 1s - loss: 0.276 - ETA: 1s - loss: 0.267 - ETA: 1s - loss: 0.267 - ETA: 1s - loss: 0.267 - ETA: 1s - loss: 0.266 - ETA: 1s - loss: 0.265 - ETA: 1s - loss: 0.265 - ETA: 0s - loss: 0.265 - ETA: 0s - loss: 0.264 - ETA: 0s - loss: 0.264 - ETA: 0s - loss: 0.264 - ETA: 0s - loss: 0.264 - ETA: 0s - loss: 0.264 - ETA: 0s - loss: 0.264 - ETA: 0s - loss: 0.264 - ETA: 0s - loss: 0.264 - ETA: 0s - loss: 0.264 - ETA: 0s - loss: 0.264 - ETA: 0s - loss: 0.264 - ETA: 0s - loss: 0.263 - 1s 453us/step - loss: 0.2638 - val_loss: 0.2616\n",
      "Epoch 61/100\n",
      "2523/2523 [==============================] - ETA: 1s - loss: 0.260 - ETA: 0s - loss: 0.263 - ETA: 0s - loss: 0.262 - ETA: 0s - loss: 0.261 - ETA: 0s - loss: 0.261 - ETA: 0s - loss: 0.261 - ETA: 0s - loss: 0.261 - ETA: 0s - loss: 0.261 - ETA: 0s - loss: 0.261 - ETA: 0s - loss: 0.261 - ETA: 0s - loss: 0.261 - ETA: 0s - loss: 0.261 - ETA: 0s - loss: 0.261 - ETA: 0s - loss: 0.261 - ETA: 0s - loss: 0.261 - ETA: 0s - loss: 0.260 - 1s 345us/step - loss: 0.2608 - val_loss: 0.2586\n",
      "Epoch 62/100\n",
      "2523/2523 [==============================] - ETA: 0s - loss: 0.258 - ETA: 0s - loss: 0.258 - ETA: 0s - loss: 0.257 - ETA: 0s - loss: 0.258 - ETA: 0s - loss: 0.258 - ETA: 0s - loss: 0.258 - ETA: 0s - loss: 0.258 - ETA: 0s - loss: 0.258 - ETA: 0s - loss: 0.258 - ETA: 0s - loss: 0.258 - ETA: 0s - loss: 0.258 - ETA: 0s - loss: 0.258 - ETA: 0s - loss: 0.258 - ETA: 0s - loss: 0.258 - ETA: 0s - loss: 0.258 - ETA: 0s - loss: 0.257 - ETA: 0s - loss: 0.257 - 1s 365us/step - loss: 0.2578 - val_loss: 0.2557\n",
      "Epoch 63/100\n",
      "2523/2523 [==============================] - ETA: 0s - loss: 0.255 - ETA: 0s - loss: 0.256 - ETA: 0s - loss: 0.255 - ETA: 0s - loss: 0.255 - ETA: 0s - loss: 0.255 - ETA: 0s - loss: 0.255 - ETA: 0s - loss: 0.255 - ETA: 0s - loss: 0.255 - ETA: 0s - loss: 0.255 - ETA: 0s - loss: 0.255 - ETA: 0s - loss: 0.255 - ETA: 0s - loss: 0.255 - ETA: 0s - loss: 0.255 - ETA: 0s - loss: 0.255 - ETA: 0s - loss: 0.255 - ETA: 0s - loss: 0.255 - ETA: 0s - loss: 0.255 - ETA: 0s - loss: 0.255 - 1s 395us/step - loss: 0.2549 - val_loss: 0.2528\n",
      "Epoch 64/100\n",
      "2523/2523 [==============================] - ETA: 1s - loss: 0.251 - ETA: 1s - loss: 0.253 - ETA: 0s - loss: 0.253 - ETA: 0s - loss: 0.253 - ETA: 0s - loss: 0.253 - ETA: 0s - loss: 0.253 - ETA: 0s - loss: 0.253 - ETA: 0s - loss: 0.253 - ETA: 0s - loss: 0.253 - ETA: 0s - loss: 0.252 - ETA: 0s - loss: 0.252 - ETA: 0s - loss: 0.252 - ETA: 0s - loss: 0.252 - ETA: 0s - loss: 0.252 - ETA: 0s - loss: 0.252 - ETA: 0s - loss: 0.252 - ETA: 0s - loss: 0.252 - 1s 372us/step - loss: 0.2521 - val_loss: 0.2500\n",
      "Epoch 65/100\n",
      "2523/2523 [==============================] - ETA: 0s - loss: 0.248 - ETA: 0s - loss: 0.249 - ETA: 0s - loss: 0.250 - ETA: 0s - loss: 0.250 - ETA: 0s - loss: 0.250 - ETA: 0s - loss: 0.249 - ETA: 0s - loss: 0.249 - ETA: 0s - loss: 0.250 - ETA: 0s - loss: 0.250 - ETA: 0s - loss: 0.250 - ETA: 0s - loss: 0.250 - ETA: 0s - loss: 0.249 - ETA: 0s - loss: 0.249 - ETA: 0s - loss: 0.249 - ETA: 0s - loss: 0.249 - ETA: 0s - loss: 0.249 - ETA: 0s - loss: 0.249 - 1s 368us/step - loss: 0.2493 - val_loss: 0.2472\n",
      "Epoch 66/100\n",
      "2523/2523 [==============================] - ETA: 1s - loss: 0.247 - ETA: 0s - loss: 0.247 - ETA: 0s - loss: 0.247 - ETA: 0s - loss: 0.247 - ETA: 0s - loss: 0.247 - ETA: 0s - loss: 0.247 - ETA: 0s - loss: 0.247 - ETA: 0s - loss: 0.247 - ETA: 0s - loss: 0.247 - ETA: 0s - loss: 0.247 - ETA: 0s - loss: 0.247 - ETA: 0s - loss: 0.247 - ETA: 0s - loss: 0.246 - ETA: 0s - loss: 0.246 - ETA: 0s - loss: 0.246 - ETA: 0s - loss: 0.246 - ETA: 0s - loss: 0.246 - 1s 379us/step - loss: 0.2466 - val_loss: 0.2445\n",
      "Epoch 67/100\n",
      "2523/2523 [==============================] - ETA: 0s - loss: 0.243 - ETA: 0s - loss: 0.244 - ETA: 0s - loss: 0.244 - ETA: 0s - loss: 0.244 - ETA: 0s - loss: 0.244 - ETA: 0s - loss: 0.244 - ETA: 0s - loss: 0.244 - ETA: 0s - loss: 0.244 - ETA: 0s - loss: 0.244 - ETA: 0s - loss: 0.244 - ETA: 0s - loss: 0.244 - ETA: 0s - loss: 0.244 - ETA: 0s - loss: 0.244 - ETA: 0s - loss: 0.244 - ETA: 0s - loss: 0.244 - ETA: 0s - loss: 0.244 - ETA: 0s - loss: 0.244 - ETA: 0s - loss: 0.243 - 1s 378us/step - loss: 0.2439 - val_loss: 0.2418\n",
      "Epoch 68/100\n",
      "2523/2523 [==============================] - ETA: 1s - loss: 0.244 - ETA: 0s - loss: 0.244 - ETA: 0s - loss: 0.243 - ETA: 0s - loss: 0.243 - ETA: 0s - loss: 0.243 - ETA: 0s - loss: 0.242 - ETA: 0s - loss: 0.242 - ETA: 0s - loss: 0.242 - ETA: 0s - loss: 0.241 - ETA: 0s - loss: 0.241 - ETA: 0s - loss: 0.241 - ETA: 0s - loss: 0.241 - ETA: 0s - loss: 0.241 - ETA: 0s - loss: 0.241 - ETA: 0s - loss: 0.241 - ETA: 0s - loss: 0.241 - ETA: 0s - loss: 0.241 - ETA: 0s - loss: 0.241 - ETA: 0s - loss: 0.241 - ETA: 0s - loss: 0.241 - 1s 450us/step - loss: 0.2413 - val_loss: 0.2392\n",
      "Epoch 69/100\n",
      "2523/2523 [==============================] - ETA: 1s - loss: 0.238 - ETA: 1s - loss: 0.239 - ETA: 1s - loss: 0.241 - ETA: 1s - loss: 0.240 - ETA: 0s - loss: 0.240 - ETA: 0s - loss: 0.239 - ETA: 0s - loss: 0.239 - ETA: 0s - loss: 0.239 - ETA: 0s - loss: 0.239 - ETA: 0s - loss: 0.239 - ETA: 0s - loss: 0.239 - ETA: 0s - loss: 0.239 - ETA: 0s - loss: 0.239 - ETA: 0s - loss: 0.239 - ETA: 0s - loss: 0.238 - ETA: 0s - loss: 0.238 - ETA: 0s - loss: 0.238 - ETA: 0s - loss: 0.238 - ETA: 0s - loss: 0.238 - ETA: 0s - loss: 0.238 - ETA: 0s - loss: 0.238 - 1s 445us/step - loss: 0.2387 - val_loss: 0.2367\n",
      "Epoch 70/100\n",
      "2523/2523 [==============================] - ETA: 1s - loss: 0.235 - ETA: 0s - loss: 0.237 - ETA: 0s - loss: 0.237 - ETA: 0s - loss: 0.236 - ETA: 0s - loss: 0.236 - ETA: 0s - loss: 0.236 - ETA: 0s - loss: 0.236 - ETA: 0s - loss: 0.236 - ETA: 0s - loss: 0.236 - ETA: 0s - loss: 0.236 - ETA: 0s - loss: 0.236 - ETA: 0s - loss: 0.236 - ETA: 0s - loss: 0.236 - ETA: 0s - loss: 0.236 - ETA: 0s - loss: 0.236 - ETA: 0s - loss: 0.236 - ETA: 0s - loss: 0.236 - ETA: 0s - loss: 0.236 - ETA: 0s - loss: 0.236 - 1s 410us/step - loss: 0.2362 - val_loss: 0.2342\n",
      "Epoch 71/100\n",
      "2523/2523 [==============================] - ETA: 1s - loss: 0.233 - ETA: 0s - loss: 0.234 - ETA: 0s - loss: 0.234 - ETA: 0s - loss: 0.234 - ETA: 0s - loss: 0.234 - ETA: 0s - loss: 0.234 - ETA: 0s - loss: 0.234 - ETA: 0s - loss: 0.234 - ETA: 0s - loss: 0.234 - ETA: 0s - loss: 0.234 - ETA: 0s - loss: 0.234 - ETA: 0s - loss: 0.234 - ETA: 0s - loss: 0.234 - ETA: 0s - loss: 0.234 - ETA: 0s - loss: 0.234 - ETA: 0s - loss: 0.234 - ETA: 0s - loss: 0.234 - ETA: 0s - loss: 0.234 - ETA: 0s - loss: 0.234 - ETA: 0s - loss: 0.233 - ETA: 0s - loss: 0.233 - ETA: 0s - loss: 0.233 - 1s 505us/step - loss: 0.2337 - val_loss: 0.2317\n",
      "Epoch 72/100\n"
     ]
    },
    {
     "name": "stdout",
     "output_type": "stream",
     "text": [
      "2523/2523 [==============================] - ETA: 1s - loss: 0.231 - ETA: 1s - loss: 0.231 - ETA: 0s - loss: 0.231 - ETA: 0s - loss: 0.232 - ETA: 0s - loss: 0.231 - ETA: 0s - loss: 0.231 - ETA: 0s - loss: 0.232 - ETA: 0s - loss: 0.232 - ETA: 0s - loss: 0.232 - ETA: 0s - loss: 0.232 - ETA: 0s - loss: 0.231 - ETA: 0s - loss: 0.231 - ETA: 0s - loss: 0.231 - ETA: 0s - loss: 0.231 - ETA: 0s - loss: 0.231 - ETA: 0s - loss: 0.231 - ETA: 0s - loss: 0.231 - ETA: 0s - loss: 0.231 - ETA: 0s - loss: 0.231 - 1s 417us/step - loss: 0.2313 - val_loss: 0.2293\n",
      "Epoch 73/100\n",
      "2523/2523 [==============================] - ETA: 1s - loss: 0.229 - ETA: 1s - loss: 0.229 - ETA: 0s - loss: 0.229 - ETA: 0s - loss: 0.229 - ETA: 0s - loss: 0.229 - ETA: 0s - loss: 0.229 - ETA: 0s - loss: 0.228 - ETA: 0s - loss: 0.229 - ETA: 0s - loss: 0.229 - ETA: 0s - loss: 0.229 - ETA: 0s - loss: 0.229 - ETA: 0s - loss: 0.229 - ETA: 0s - loss: 0.228 - ETA: 0s - loss: 0.229 - ETA: 0s - loss: 0.228 - ETA: 0s - loss: 0.228 - ETA: 0s - loss: 0.229 - 1s 370us/step - loss: 0.2289 - val_loss: 0.2270\n",
      "Epoch 74/100\n",
      "2523/2523 [==============================] - ETA: 1s - loss: 0.227 - ETA: 0s - loss: 0.226 - ETA: 0s - loss: 0.226 - ETA: 0s - loss: 0.226 - ETA: 0s - loss: 0.227 - ETA: 0s - loss: 0.226 - ETA: 0s - loss: 0.226 - ETA: 0s - loss: 0.226 - ETA: 0s - loss: 0.226 - ETA: 0s - loss: 0.226 - ETA: 0s - loss: 0.226 - ETA: 0s - loss: 0.226 - ETA: 0s - loss: 0.226 - ETA: 0s - loss: 0.226 - ETA: 0s - loss: 0.226 - ETA: 0s - loss: 0.226 - 1s 346us/step - loss: 0.2266 - val_loss: 0.2247\n",
      "Epoch 75/100\n",
      "2523/2523 [==============================] - ETA: 1s - loss: 0.224 - ETA: 0s - loss: 0.225 - ETA: 0s - loss: 0.225 - ETA: 0s - loss: 0.225 - ETA: 0s - loss: 0.225 - ETA: 0s - loss: 0.225 - ETA: 0s - loss: 0.225 - ETA: 0s - loss: 0.224 - ETA: 0s - loss: 0.224 - ETA: 0s - loss: 0.224 - ETA: 0s - loss: 0.224 - ETA: 0s - loss: 0.224 - ETA: 0s - loss: 0.224 - ETA: 0s - loss: 0.224 - ETA: 0s - loss: 0.224 - ETA: 0s - loss: 0.224 - 1s 349us/step - loss: 0.2243 - val_loss: 0.2224\n",
      "Epoch 76/100\n",
      "2523/2523 [==============================] - ETA: 1s - loss: 0.221 - ETA: 0s - loss: 0.222 - ETA: 0s - loss: 0.222 - ETA: 0s - loss: 0.222 - ETA: 0s - loss: 0.223 - ETA: 0s - loss: 0.222 - ETA: 0s - loss: 0.222 - ETA: 0s - loss: 0.222 - ETA: 0s - loss: 0.222 - ETA: 0s - loss: 0.222 - ETA: 0s - loss: 0.222 - ETA: 0s - loss: 0.222 - ETA: 0s - loss: 0.222 - ETA: 0s - loss: 0.222 - ETA: 0s - loss: 0.222 - ETA: 0s - loss: 0.222 - 1s 353us/step - loss: 0.2221 - val_loss: 0.2202\n",
      "Epoch 77/100\n",
      "2523/2523 [==============================] - ETA: 1s - loss: 0.219 - ETA: 0s - loss: 0.220 - ETA: 0s - loss: 0.221 - ETA: 0s - loss: 0.221 - ETA: 0s - loss: 0.221 - ETA: 0s - loss: 0.220 - ETA: 0s - loss: 0.220 - ETA: 0s - loss: 0.220 - ETA: 0s - loss: 0.220 - ETA: 0s - loss: 0.220 - ETA: 0s - loss: 0.220 - ETA: 0s - loss: 0.220 - ETA: 0s - loss: 0.220 - ETA: 0s - loss: 0.220 - ETA: 0s - loss: 0.220 - ETA: 0s - loss: 0.220 - ETA: 0s - loss: 0.220 - ETA: 0s - loss: 0.220 - 1s 382us/step - loss: 0.2199 - val_loss: 0.2180\n",
      "Epoch 78/100\n",
      "2523/2523 [==============================] - ETA: 1s - loss: 0.217 - ETA: 1s - loss: 0.218 - ETA: 1s - loss: 0.218 - ETA: 1s - loss: 0.218 - ETA: 1s - loss: 0.219 - ETA: 1s - loss: 0.219 - ETA: 1s - loss: 0.219 - ETA: 0s - loss: 0.218 - ETA: 0s - loss: 0.219 - ETA: 0s - loss: 0.219 - ETA: 0s - loss: 0.218 - ETA: 0s - loss: 0.218 - ETA: 0s - loss: 0.218 - ETA: 0s - loss: 0.218 - ETA: 0s - loss: 0.218 - ETA: 0s - loss: 0.218 - ETA: 0s - loss: 0.218 - ETA: 0s - loss: 0.218 - ETA: 0s - loss: 0.218 - ETA: 0s - loss: 0.218 - ETA: 0s - loss: 0.218 - ETA: 0s - loss: 0.218 - ETA: 0s - loss: 0.217 - ETA: 0s - loss: 0.217 - ETA: 0s - loss: 0.217 - 1s 586us/step - loss: 0.2178 - val_loss: 0.2159\n",
      "Epoch 79/100\n",
      "2523/2523 [==============================] - ETA: 0s - loss: 0.215 - ETA: 0s - loss: 0.216 - ETA: 1s - loss: 0.217 - ETA: 1s - loss: 0.217 - ETA: 0s - loss: 0.217 - ETA: 0s - loss: 0.217 - ETA: 0s - loss: 0.216 - ETA: 0s - loss: 0.216 - ETA: 0s - loss: 0.216 - ETA: 0s - loss: 0.216 - ETA: 0s - loss: 0.217 - ETA: 0s - loss: 0.216 - ETA: 0s - loss: 0.216 - ETA: 0s - loss: 0.216 - ETA: 0s - loss: 0.216 - ETA: 0s - loss: 0.216 - ETA: 0s - loss: 0.216 - ETA: 0s - loss: 0.216 - ETA: 0s - loss: 0.216 - ETA: 0s - loss: 0.216 - ETA: 0s - loss: 0.216 - ETA: 0s - loss: 0.215 - ETA: 0s - loss: 0.215 - 1s 525us/step - loss: 0.2157 - val_loss: 0.2138\n",
      "Epoch 80/100\n",
      "2523/2523 [==============================] - ETA: 1s - loss: 0.214 - ETA: 0s - loss: 0.213 - ETA: 0s - loss: 0.215 - ETA: 0s - loss: 0.215 - ETA: 0s - loss: 0.214 - ETA: 0s - loss: 0.214 - ETA: 0s - loss: 0.214 - ETA: 0s - loss: 0.213 - ETA: 0s - loss: 0.214 - ETA: 0s - loss: 0.214 - ETA: 0s - loss: 0.214 - ETA: 0s - loss: 0.214 - ETA: 0s - loss: 0.213 - ETA: 0s - loss: 0.213 - ETA: 0s - loss: 0.213 - ETA: 0s - loss: 0.213 - 1s 353us/step - loss: 0.2136 - val_loss: 0.2118\n",
      "Epoch 81/100\n",
      "2523/2523 [==============================] - ETA: 1s - loss: 0.210 - ETA: 0s - loss: 0.213 - ETA: 0s - loss: 0.213 - ETA: 0s - loss: 0.213 - ETA: 0s - loss: 0.212 - ETA: 0s - loss: 0.212 - ETA: 0s - loss: 0.212 - ETA: 0s - loss: 0.211 - ETA: 0s - loss: 0.211 - ETA: 0s - loss: 0.211 - ETA: 0s - loss: 0.211 - ETA: 0s - loss: 0.211 - ETA: 0s - loss: 0.211 - ETA: 0s - loss: 0.211 - ETA: 0s - loss: 0.211 - 1s 335us/step - loss: 0.2116 - val_loss: 0.2097\n",
      "Epoch 82/100\n",
      "2523/2523 [==============================] - ETA: 1s - loss: 0.211 - ETA: 1s - loss: 0.211 - ETA: 1s - loss: 0.212 - ETA: 0s - loss: 0.212 - ETA: 0s - loss: 0.211 - ETA: 0s - loss: 0.211 - ETA: 0s - loss: 0.211 - ETA: 0s - loss: 0.210 - ETA: 0s - loss: 0.210 - ETA: 0s - loss: 0.210 - ETA: 0s - loss: 0.210 - ETA: 0s - loss: 0.210 - ETA: 0s - loss: 0.209 - ETA: 0s - loss: 0.209 - ETA: 0s - loss: 0.209 - ETA: 0s - loss: 0.209 - ETA: 0s - loss: 0.209 - ETA: 0s - loss: 0.209 - 1s 392us/step - loss: 0.2096 - val_loss: 0.2078\n",
      "Epoch 83/100\n",
      "2523/2523 [==============================] - ETA: 1s - loss: 0.205 - ETA: 0s - loss: 0.206 - ETA: 0s - loss: 0.206 - ETA: 0s - loss: 0.208 - ETA: 0s - loss: 0.208 - ETA: 0s - loss: 0.208 - ETA: 0s - loss: 0.208 - ETA: 0s - loss: 0.208 - ETA: 0s - loss: 0.208 - ETA: 0s - loss: 0.208 - ETA: 0s - loss: 0.208 - ETA: 0s - loss: 0.208 - ETA: 0s - loss: 0.208 - ETA: 0s - loss: 0.208 - ETA: 0s - loss: 0.208 - ETA: 0s - loss: 0.208 - ETA: 0s - loss: 0.208 - ETA: 0s - loss: 0.208 - ETA: 0s - loss: 0.207 - ETA: 0s - loss: 0.207 - ETA: 0s - loss: 0.207 - ETA: 0s - loss: 0.207 - 1s 508us/step - loss: 0.2076 - val_loss: 0.2058\n",
      "Epoch 84/100\n",
      "2523/2523 [==============================] - ETA: 1s - loss: 0.205 - ETA: 1s - loss: 0.205 - ETA: 1s - loss: 0.206 - ETA: 0s - loss: 0.206 - ETA: 0s - loss: 0.206 - ETA: 0s - loss: 0.206 - ETA: 0s - loss: 0.205 - ETA: 0s - loss: 0.205 - ETA: 0s - loss: 0.205 - ETA: 0s - loss: 0.205 - ETA: 0s - loss: 0.205 - ETA: 0s - loss: 0.205 - ETA: 0s - loss: 0.205 - ETA: 0s - loss: 0.205 - ETA: 0s - loss: 0.205 - ETA: 0s - loss: 0.205 - ETA: 0s - loss: 0.205 - ETA: 0s - loss: 0.205 - ETA: 0s - loss: 0.205 - ETA: 0s - loss: 0.205 - ETA: 0s - loss: 0.205 - ETA: 0s - loss: 0.205 - ETA: 0s - loss: 0.205 - 1s 550us/step - loss: 0.2057 - val_loss: 0.2039\n",
      "Epoch 85/100\n",
      "2523/2523 [==============================] - ETA: 2s - loss: 0.205 - ETA: 1s - loss: 0.203 - ETA: 1s - loss: 0.203 - ETA: 1s - loss: 0.203 - ETA: 1s - loss: 0.205 - ETA: 1s - loss: 0.204 - ETA: 0s - loss: 0.204 - ETA: 0s - loss: 0.204 - ETA: 0s - loss: 0.204 - ETA: 0s - loss: 0.204 - ETA: 0s - loss: 0.204 - ETA: 0s - loss: 0.204 - ETA: 0s - loss: 0.204 - ETA: 0s - loss: 0.204 - ETA: 0s - loss: 0.204 - ETA: 0s - loss: 0.203 - ETA: 0s - loss: 0.204 - ETA: 0s - loss: 0.203 - ETA: 0s - loss: 0.203 - ETA: 0s - loss: 0.203 - 1s 463us/step - loss: 0.2038 - val_loss: 0.2020\n",
      "Epoch 86/100\n"
     ]
    },
    {
     "name": "stdout",
     "output_type": "stream",
     "text": [
      "2523/2523 [==============================] - ETA: 1s - loss: 0.201 - ETA: 1s - loss: 0.202 - ETA: 1s - loss: 0.202 - ETA: 1s - loss: 0.203 - ETA: 1s - loss: 0.203 - ETA: 1s - loss: 0.202 - ETA: 1s - loss: 0.202 - ETA: 1s - loss: 0.202 - ETA: 0s - loss: 0.202 - ETA: 0s - loss: 0.202 - ETA: 0s - loss: 0.202 - ETA: 0s - loss: 0.202 - ETA: 0s - loss: 0.202 - ETA: 0s - loss: 0.202 - ETA: 0s - loss: 0.202 - ETA: 0s - loss: 0.202 - ETA: 0s - loss: 0.202 - ETA: 0s - loss: 0.202 - ETA: 0s - loss: 0.202 - ETA: 0s - loss: 0.202 - ETA: 0s - loss: 0.202 - ETA: 0s - loss: 0.202 - ETA: 0s - loss: 0.202 - 1s 539us/step - loss: 0.2020 - val_loss: 0.2002\n",
      "Epoch 87/100\n",
      "2523/2523 [==============================] - ETA: 1s - loss: 0.210 - ETA: 1s - loss: 0.202 - ETA: 1s - loss: 0.201 - ETA: 0s - loss: 0.201 - ETA: 0s - loss: 0.201 - ETA: 0s - loss: 0.200 - ETA: 0s - loss: 0.200 - ETA: 0s - loss: 0.200 - ETA: 0s - loss: 0.200 - ETA: 0s - loss: 0.200 - ETA: 0s - loss: 0.200 - ETA: 0s - loss: 0.200 - ETA: 0s - loss: 0.200 - ETA: 0s - loss: 0.200 - ETA: 0s - loss: 0.200 - ETA: 0s - loss: 0.200 - ETA: 0s - loss: 0.200 - ETA: 0s - loss: 0.200 - ETA: 0s - loss: 0.200 - ETA: 0s - loss: 0.200 - ETA: 0s - loss: 0.200 - 1s 489us/step - loss: 0.2001 - val_loss: 0.1984\n",
      "Epoch 88/100\n",
      "2523/2523 [==============================] - ETA: 0s - loss: 0.197 - ETA: 1s - loss: 0.198 - ETA: 1s - loss: 0.198 - ETA: 1s - loss: 0.197 - ETA: 0s - loss: 0.198 - ETA: 0s - loss: 0.198 - ETA: 0s - loss: 0.197 - ETA: 0s - loss: 0.197 - ETA: 0s - loss: 0.197 - ETA: 0s - loss: 0.198 - ETA: 0s - loss: 0.198 - ETA: 0s - loss: 0.198 - ETA: 0s - loss: 0.198 - ETA: 0s - loss: 0.198 - ETA: 0s - loss: 0.198 - ETA: 0s - loss: 0.198 - ETA: 0s - loss: 0.198 - ETA: 0s - loss: 0.198 - ETA: 0s - loss: 0.198 - ETA: 0s - loss: 0.198 - ETA: 0s - loss: 0.198 - ETA: 0s - loss: 0.198 - 1s 503us/step - loss: 0.1984 - val_loss: 0.1966\n",
      "Epoch 89/100\n",
      "2523/2523 [==============================] - ETA: 1s - loss: 0.198 - ETA: 1s - loss: 0.196 - ETA: 0s - loss: 0.198 - ETA: 0s - loss: 0.197 - ETA: 1s - loss: 0.197 - ETA: 1s - loss: 0.197 - ETA: 1s - loss: 0.198 - ETA: 0s - loss: 0.198 - ETA: 0s - loss: 0.197 - ETA: 0s - loss: 0.198 - ETA: 0s - loss: 0.197 - ETA: 0s - loss: 0.197 - ETA: 0s - loss: 0.197 - ETA: 0s - loss: 0.197 - ETA: 0s - loss: 0.197 - ETA: 0s - loss: 0.197 - ETA: 0s - loss: 0.197 - ETA: 0s - loss: 0.196 - ETA: 0s - loss: 0.196 - ETA: 0s - loss: 0.196 - ETA: 0s - loss: 0.196 - ETA: 0s - loss: 0.196 - 1s 518us/step - loss: 0.1966 - val_loss: 0.1949\n",
      "Epoch 90/100\n",
      "2523/2523 [==============================] - ETA: 1s - loss: 0.194 - ETA: 0s - loss: 0.195 - ETA: 0s - loss: 0.195 - ETA: 0s - loss: 0.195 - ETA: 0s - loss: 0.195 - ETA: 1s - loss: 0.195 - ETA: 0s - loss: 0.195 - ETA: 0s - loss: 0.195 - ETA: 0s - loss: 0.195 - ETA: 0s - loss: 0.195 - ETA: 0s - loss: 0.195 - ETA: 0s - loss: 0.195 - ETA: 0s - loss: 0.195 - ETA: 0s - loss: 0.194 - ETA: 0s - loss: 0.195 - ETA: 0s - loss: 0.195 - ETA: 0s - loss: 0.194 - ETA: 0s - loss: 0.195 - ETA: 0s - loss: 0.195 - ETA: 0s - loss: 0.194 - ETA: 0s - loss: 0.195 - ETA: 0s - loss: 0.194 - 1s 509us/step - loss: 0.1949 - val_loss: 0.1931\n",
      "Epoch 91/100\n",
      "2523/2523 [==============================] - ETA: 1s - loss: 0.194 - ETA: 1s - loss: 0.194 - ETA: 1s - loss: 0.194 - ETA: 1s - loss: 0.194 - ETA: 1s - loss: 0.194 - ETA: 1s - loss: 0.194 - ETA: 1s - loss: 0.194 - ETA: 0s - loss: 0.193 - ETA: 0s - loss: 0.193 - ETA: 0s - loss: 0.193 - ETA: 0s - loss: 0.193 - ETA: 0s - loss: 0.193 - ETA: 0s - loss: 0.193 - ETA: 0s - loss: 0.193 - ETA: 0s - loss: 0.193 - ETA: 0s - loss: 0.193 - ETA: 0s - loss: 0.193 - ETA: 0s - loss: 0.193 - ETA: 0s - loss: 0.193 - ETA: 0s - loss: 0.193 - ETA: 0s - loss: 0.193 - ETA: 0s - loss: 0.193 - ETA: 0s - loss: 0.193 - 1s 517us/step - loss: 0.1932 - val_loss: 0.1915\n",
      "Epoch 92/100\n",
      "2523/2523 [==============================] - ETA: 1s - loss: 0.189 - ETA: 1s - loss: 0.191 - ETA: 1s - loss: 0.192 - ETA: 1s - loss: 0.191 - ETA: 0s - loss: 0.192 - ETA: 0s - loss: 0.191 - ETA: 0s - loss: 0.191 - ETA: 0s - loss: 0.191 - ETA: 0s - loss: 0.191 - ETA: 0s - loss: 0.191 - ETA: 0s - loss: 0.191 - ETA: 0s - loss: 0.191 - ETA: 0s - loss: 0.191 - ETA: 0s - loss: 0.191 - ETA: 0s - loss: 0.191 - ETA: 0s - loss: 0.192 - ETA: 0s - loss: 0.192 - ETA: 0s - loss: 0.191 - ETA: 0s - loss: 0.191 - 1s 439us/step - loss: 0.1915 - val_loss: 0.1898\n",
      "Epoch 93/100\n",
      "2523/2523 [==============================] - ETA: 0s - loss: 0.187 - ETA: 0s - loss: 0.188 - ETA: 0s - loss: 0.190 - ETA: 0s - loss: 0.190 - ETA: 0s - loss: 0.190 - ETA: 0s - loss: 0.190 - ETA: 0s - loss: 0.190 - ETA: 0s - loss: 0.190 - ETA: 0s - loss: 0.190 - ETA: 0s - loss: 0.190 - ETA: 0s - loss: 0.190 - ETA: 0s - loss: 0.190 - ETA: 0s - loss: 0.190 - ETA: 0s - loss: 0.190 - ETA: 0s - loss: 0.190 - ETA: 0s - loss: 0.190 - ETA: 0s - loss: 0.190 - ETA: 0s - loss: 0.190 - 1s 407us/step - loss: 0.1899 - val_loss: 0.1882\n",
      "Epoch 94/100\n",
      "2523/2523 [==============================] - ETA: 1s - loss: 0.197 - ETA: 0s - loss: 0.189 - ETA: 0s - loss: 0.188 - ETA: 0s - loss: 0.189 - ETA: 0s - loss: 0.190 - ETA: 0s - loss: 0.189 - ETA: 0s - loss: 0.189 - ETA: 0s - loss: 0.189 - ETA: 0s - loss: 0.189 - ETA: 0s - loss: 0.189 - ETA: 0s - loss: 0.189 - ETA: 0s - loss: 0.189 - ETA: 0s - loss: 0.189 - ETA: 0s - loss: 0.188 - ETA: 0s - loss: 0.188 - ETA: 0s - loss: 0.188 - ETA: 0s - loss: 0.188 - ETA: 0s - loss: 0.188 - 1s 408us/step - loss: 0.1883 - val_loss: 0.1866\n",
      "Epoch 95/100\n",
      "2523/2523 [==============================] - ETA: 1s - loss: 0.184 - ETA: 1s - loss: 0.186 - ETA: 1s - loss: 0.186 - ETA: 1s - loss: 0.186 - ETA: 0s - loss: 0.186 - ETA: 0s - loss: 0.186 - ETA: 0s - loss: 0.186 - ETA: 0s - loss: 0.186 - ETA: 0s - loss: 0.186 - ETA: 0s - loss: 0.186 - ETA: 0s - loss: 0.186 - ETA: 0s - loss: 0.186 - ETA: 0s - loss: 0.186 - ETA: 0s - loss: 0.186 - ETA: 0s - loss: 0.186 - ETA: 0s - loss: 0.186 - ETA: 0s - loss: 0.186 - ETA: 0s - loss: 0.186 - ETA: 0s - loss: 0.186 - 1s 433us/step - loss: 0.1867 - val_loss: 0.1850\n",
      "Epoch 96/100\n",
      "2523/2523 [==============================] - ETA: 1s - loss: 0.182 - ETA: 1s - loss: 0.186 - ETA: 1s - loss: 0.186 - ETA: 0s - loss: 0.186 - ETA: 0s - loss: 0.185 - ETA: 0s - loss: 0.186 - ETA: 0s - loss: 0.185 - ETA: 0s - loss: 0.186 - ETA: 0s - loss: 0.186 - ETA: 0s - loss: 0.185 - ETA: 0s - loss: 0.185 - ETA: 0s - loss: 0.185 - ETA: 0s - loss: 0.185 - ETA: 0s - loss: 0.185 - ETA: 0s - loss: 0.185 - ETA: 0s - loss: 0.185 - ETA: 0s - loss: 0.185 - ETA: 0s - loss: 0.185 - 1s 400us/step - loss: 0.1851 - val_loss: 0.1834\n",
      "Epoch 97/100\n",
      "2523/2523 [==============================] - ETA: 1s - loss: 0.181 - ETA: 1s - loss: 0.183 - ETA: 1s - loss: 0.183 - ETA: 0s - loss: 0.183 - ETA: 0s - loss: 0.183 - ETA: 0s - loss: 0.183 - ETA: 0s - loss: 0.183 - ETA: 0s - loss: 0.183 - ETA: 0s - loss: 0.183 - ETA: 0s - loss: 0.184 - ETA: 0s - loss: 0.184 - ETA: 0s - loss: 0.184 - ETA: 0s - loss: 0.184 - ETA: 0s - loss: 0.183 - ETA: 0s - loss: 0.183 - ETA: 0s - loss: 0.183 - ETA: 0s - loss: 0.183 - ETA: 0s - loss: 0.183 - 1s 399us/step - loss: 0.1836 - val_loss: 0.1819\n",
      "Epoch 98/100\n",
      "2523/2523 [==============================] - ETA: 0s - loss: 0.179 - ETA: 1s - loss: 0.181 - ETA: 0s - loss: 0.182 - ETA: 0s - loss: 0.182 - ETA: 0s - loss: 0.182 - ETA: 0s - loss: 0.182 - ETA: 0s - loss: 0.182 - ETA: 0s - loss: 0.183 - ETA: 0s - loss: 0.183 - ETA: 0s - loss: 0.183 - ETA: 0s - loss: 0.182 - ETA: 0s - loss: 0.182 - ETA: 0s - loss: 0.182 - ETA: 0s - loss: 0.182 - ETA: 0s - loss: 0.182 - ETA: 0s - loss: 0.182 - ETA: 0s - loss: 0.182 - ETA: 0s - loss: 0.182 - 1s 405us/step - loss: 0.1821 - val_loss: 0.1804\n",
      "Epoch 99/100\n",
      "2523/2523 [==============================] - ETA: 1s - loss: 0.181 - ETA: 1s - loss: 0.183 - ETA: 1s - loss: 0.181 - ETA: 0s - loss: 0.181 - ETA: 0s - loss: 0.180 - ETA: 0s - loss: 0.181 - ETA: 0s - loss: 0.181 - ETA: 0s - loss: 0.180 - ETA: 0s - loss: 0.181 - ETA: 0s - loss: 0.181 - ETA: 0s - loss: 0.181 - ETA: 0s - loss: 0.181 - ETA: 0s - loss: 0.181 - ETA: 0s - loss: 0.180 - ETA: 0s - loss: 0.180 - ETA: 0s - loss: 0.180 - ETA: 0s - loss: 0.180 - ETA: 0s - loss: 0.180 - 1s 403us/step - loss: 0.1806 - val_loss: 0.1789\n",
      "Epoch 100/100\n"
     ]
    },
    {
     "name": "stdout",
     "output_type": "stream",
     "text": [
      "2523/2523 [==============================] - ETA: 1s - loss: 0.186 - ETA: 0s - loss: 0.181 - ETA: 0s - loss: 0.180 - ETA: 0s - loss: 0.180 - ETA: 0s - loss: 0.180 - ETA: 0s - loss: 0.179 - ETA: 0s - loss: 0.180 - ETA: 0s - loss: 0.179 - ETA: 0s - loss: 0.179 - ETA: 0s - loss: 0.179 - ETA: 0s - loss: 0.179 - ETA: 0s - loss: 0.179 - ETA: 0s - loss: 0.179 - ETA: 0s - loss: 0.179 - ETA: 0s - loss: 0.179 - ETA: 0s - loss: 0.179 - ETA: 0s - loss: 0.179 - ETA: 0s - loss: 0.179 - 1s 391us/step - loss: 0.1792 - val_loss: 0.1775\n"
     ]
    },
    {
     "data": {
      "text/plain": [
       "<keras.callbacks.History at 0x1c31c808d0>"
      ]
     },
     "execution_count": 65,
     "metadata": {},
     "output_type": "execute_result"
    }
   ],
   "source": [
    "input_dim = len(spectrogram)\n",
    "encoding_dim = 100\n",
    "\n",
    "np_spec = np.array(spectrogram).T\n",
    "\n",
    "inp = Input(shape=(input_dim,))\n",
    "# add L1 activity regulator\n",
    "encoded = Dense(encoding_dim, activation='relu',\n",
    "               activity_regularizer=regularizers.l1(10e-4))(inp)\n",
    "decoded = Dense(input_dim, activation='sigmoid')(encoded)\n",
    "\n",
    "# this model maps an input to its reconstruction\n",
    "autoencoder = Model(inp, decoded)\n",
    "\n",
    "# separate encoder model\n",
    "encoder = Model(inp, encoded)\n",
    "\n",
    "# decoder model\n",
    "# create a placeholder for an encoded input\n",
    "encoded_input = Input(shape=(encoding_dim,))\n",
    "# retrieve the last layer of the autoencoder model\n",
    "decoder_layer = autoencoder.layers[-1]\n",
    "# create the decoder model\n",
    "decoder = Model(encoded_input, decoder_layer(encoded_input))\n",
    "\n",
    "autoencoder.compile(optimizer='adadelta', loss='binary_crossentropy')\n",
    "\n",
    "# train autoencoder\n",
    "dateStr = datetime.datetime.now().strftime(\"%Y-%m-%dT%H:%M:%S\")\n",
    "autoencoder.fit(x_train, x_train, epochs=100,shuffle=True,validation_data=(x_test,x_test),\n",
    "               callbacks=[TensorBoard(log_dir='/tmp/autoencoder/{:}_encDim{:d}'.format(dateStr,encoding_dim))])"
   ]
  },
  {
   "cell_type": "code",
   "execution_count": 68,
   "metadata": {},
   "outputs": [
    {
     "name": "stdout",
     "output_type": "stream",
     "text": [
      "Training history\n"
     ]
    },
    {
     "data": {
      "text/plain": [
       "Text(0.5,1,'validation loss')"
      ]
     },
     "execution_count": 68,
     "metadata": {},
     "output_type": "execute_result"
    },
    {
     "data": {
      "image/png": "[encoded data removed]",
      "text/plain": [
       "<matplotlib.figure.Figure at 0x1c30a59860>"
      ]
     },
     "metadata": {},
     "output_type": "display_data"
    }
   ],
   "source": [
    "print(\"Training history\")\n",
    "fig = plt.figure(figsize=(10,4))\n",
    "ax1 = fig.add_subplot(1, 2, 1)\n",
    "plt.plot(autoencoder.history.history['loss'])\n",
    "ax1.set_title('loss')\n",
    "ax2 = fig.add_subplot(1, 2, 2)\n",
    "plt.plot(autoencoder.history.history['val_loss'])\n",
    "ax2.set_title('validation loss')"
   ]
  },
  {
   "cell_type": "markdown",
   "metadata": {},
   "source": [
    "### conclusie\n",
    "beter geen sparsity constraints?"
   ]
  },
  {
   "cell_type": "markdown",
   "metadata": {},
   "source": [
    "## Convolutional autoencoder\n",
    "... is dat eigenlijk wel wat????"
   ]
  },
  {
   "cell_type": "code",
   "execution_count": null,
   "metadata": {},
   "outputs": [],
   "source": [
    "input_dim = len(spectrogram)\n",
    "encoding_dim = 100\n",
    "\n",
    "np_spec = np.array(spectrogram).T\n",
    "\n",
    "inp = Input(shape=(input_dim,1))\n",
    "\n",
    "x = Conv1D()\n"
   ]
  }
 ],
 "metadata": {
  "kernelspec": {
   "display_name": "Python 3",
   "language": "python",
   "name": "python3"
  },
  "language_info": {
   "codemirror_mode": {
    "name": "ipython",
    "version": 3
   },
   "file_extension": ".py",
   "mimetype": "text/x-python",
   "name": "python",
   "nbconvert_exporter": "python",
   "pygments_lexer": "ipython3",
   "version": "3.6.4"
  },
  "varInspector": {
   "cols": {
    "lenName": 16,
    "lenType": 16,
    "lenVar": 40
   },
   "kernels_config": {
    "python": {
     "delete_cmd_postfix": "",
     "delete_cmd_prefix": "del ",
     "library": "var_list.py",
     "varRefreshCmd": "print(var_dic_list())"
    },
    "r": {
     "delete_cmd_postfix": ") ",
     "delete_cmd_prefix": "rm(",
     "library": "var_list.r",
     "varRefreshCmd": "cat(var_dic_list()) "
    }
   },
   "types_to_exclude": [
    "module",
    "function",
    "builtin_function_or_method",
    "instance",
    "_Feature"
   ],
   "window_display": false
  }
 },
 "nbformat": 4,
 "nbformat_minor": 2
}
