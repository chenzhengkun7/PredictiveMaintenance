{
 "cells": [
  {
   "cell_type": "code",
   "execution_count": 1,
   "metadata": {},
   "outputs": [
    {
     "name": "stdout",
     "output_type": "stream",
     "text": [
      "Checking whether there is an H2O instance running at http://localhost:54321..... not found.\n",
      "Attempting to start a local H2O server...\n",
      "  Java Version: openjdk version \"1.8.0_121\"; OpenJDK Runtime Environment (Zulu 8.20.0.5-macosx) (build 1.8.0_121-b15); OpenJDK 64-Bit Server VM (Zulu 8.20.0.5-macosx) (build 25.121-b15, mixed mode)\n",
      "  Starting server from /opt/miniconda2/envs/py36h2o/lib/python3.6/site-packages/h2o/backend/bin/h2o.jar\n",
      "  Ice root: /var/folders/32/40942p_n2jx6zw74vvpshddc0000gq/T/tmppqwrv6j0\n",
      "  JVM stdout: /var/folders/32/40942p_n2jx6zw74vvpshddc0000gq/T/tmppqwrv6j0/h2o_etto_started_from_python.out\n",
      "  JVM stderr: /var/folders/32/40942p_n2jx6zw74vvpshddc0000gq/T/tmppqwrv6j0/h2o_etto_started_from_python.err\n",
      "  Server is running at http://127.0.0.1:54321\n",
      "Connecting to H2O server at http://127.0.0.1:54321... successful.\n"
     ]
    },
    {
     "data": {
      "text/html": [
       "<div style=\"overflow:auto\"><table style=\"width:50%\"><tr><td>H2O cluster uptime:</td>\n",
       "<td>03 secs</td></tr>\n",
       "<tr><td>H2O cluster timezone:</td>\n",
       "<td>Europe/Amsterdam</td></tr>\n",
       "<tr><td>H2O data parsing timezone:</td>\n",
       "<td>UTC</td></tr>\n",
       "<tr><td>H2O cluster version:</td>\n",
       "<td>3.18.0.8</td></tr>\n",
       "<tr><td>H2O cluster version age:</td>\n",
       "<td>5 days </td></tr>\n",
       "<tr><td>H2O cluster name:</td>\n",
       "<td>H2O_from_python_etto_0a9c4p</td></tr>\n",
       "<tr><td>H2O cluster total nodes:</td>\n",
       "<td>1</td></tr>\n",
       "<tr><td>H2O cluster free memory:</td>\n",
       "<td>7.111 Gb</td></tr>\n",
       "<tr><td>H2O cluster total cores:</td>\n",
       "<td>4</td></tr>\n",
       "<tr><td>H2O cluster allowed cores:</td>\n",
       "<td>4</td></tr>\n",
       "<tr><td>H2O cluster status:</td>\n",
       "<td>accepting new members, healthy</td></tr>\n",
       "<tr><td>H2O connection url:</td>\n",
       "<td>http://127.0.0.1:54321</td></tr>\n",
       "<tr><td>H2O connection proxy:</td>\n",
       "<td>None</td></tr>\n",
       "<tr><td>H2O internal security:</td>\n",
       "<td>False</td></tr>\n",
       "<tr><td>H2O API Extensions:</td>\n",
       "<td>XGBoost, Algos, AutoML, Core V3, Core V4</td></tr>\n",
       "<tr><td>Python version:</td>\n",
       "<td>3.6.4 final</td></tr></table></div>"
      ],
      "text/plain": [
       "--------------------------  ----------------------------------------\n",
       "H2O cluster uptime:         03 secs\n",
       "H2O cluster timezone:       Europe/Amsterdam\n",
       "H2O data parsing timezone:  UTC\n",
       "H2O cluster version:        3.18.0.8\n",
       "H2O cluster version age:    5 days\n",
       "H2O cluster name:           H2O_from_python_etto_0a9c4p\n",
       "H2O cluster total nodes:    1\n",
       "H2O cluster free memory:    7.111 Gb\n",
       "H2O cluster total cores:    4\n",
       "H2O cluster allowed cores:  4\n",
       "H2O cluster status:         accepting new members, healthy\n",
       "H2O connection url:         http://127.0.0.1:54321\n",
       "H2O connection proxy:\n",
       "H2O internal security:      False\n",
       "H2O API Extensions:         XGBoost, Algos, AutoML, Core V3, Core V4\n",
       "Python version:             3.6.4 final\n",
       "--------------------------  ----------------------------------------"
      ]
     },
     "metadata": {},
     "output_type": "display_data"
    }
   ],
   "source": [
    "import h2o\n",
    "h2o.init(nthreads=-1, max_mem_size = 8)"
   ]
  },
  {
   "cell_type": "code",
   "execution_count": 3,
   "metadata": {},
   "outputs": [
    {
     "name": "stdout",
     "output_type": "stream",
     "text": [
      "Parse progress: |█████████████████████████████████████████████████████████| 100%\n"
     ]
    }
   ],
   "source": [
    "csv_file = '/Users/etto/Documents/AMI/PredictiveMaintenance/notebooks/trainPredMaint.csv'\n",
    "data = h2o.import_file(csv_file)"
   ]
  },
  {
   "cell_type": "code",
   "execution_count": 5,
   "metadata": {},
   "outputs": [
    {
     "data": {
      "text/plain": [
       "(20631, 27)"
      ]
     },
     "execution_count": 5,
     "metadata": {},
     "output_type": "execute_result"
    }
   ],
   "source": [
    "data.shape"
   ]
  },
  {
   "cell_type": "code",
   "execution_count": 6,
   "metadata": {},
   "outputs": [
    {
     "data": {
      "text/plain": [
       "['UnitNumber',\n",
       " 'Time',\n",
       " 'Setting1',\n",
       " 'Setting2',\n",
       " 'Setting3',\n",
       " 'Sensor1',\n",
       " 'Sensor2',\n",
       " 'Sensor3',\n",
       " 'Sensor4',\n",
       " 'Sensor5',\n",
       " 'Sensor6',\n",
       " 'Sensor7',\n",
       " 'Sensor8',\n",
       " 'Sensor9',\n",
       " 'Sensor10',\n",
       " 'Sensor11',\n",
       " 'Sensor12',\n",
       " 'Sensor13',\n",
       " 'Sensor14',\n",
       " 'Sensor15',\n",
       " 'Sensor16',\n",
       " 'Sensor17',\n",
       " 'Sensor18',\n",
       " 'Sensor19',\n",
       " 'Sensor20',\n",
       " 'Sensor21',\n",
       " 'RUL']"
      ]
     },
     "execution_count": 6,
     "metadata": {},
     "output_type": "execute_result"
    }
   ],
   "source": [
    "data.columns"
   ]
  },
  {
   "cell_type": "code",
   "execution_count": 11,
   "metadata": {},
   "outputs": [],
   "source": [
    "y = 'RUL'\n",
    "x = list(data.columns)\n",
    "x.remove(y)\n",
    "x.remove('Time')\n",
    "x.remove('UnitNumber')\n",
    "x.remove('Setting1')\n",
    "x.remove('Setting2')\n",
    "x.remove('Setting3')"
   ]
  },
  {
   "cell_type": "code",
   "execution_count": 12,
   "metadata": {},
   "outputs": [
    {
     "data": {
      "text/plain": [
       "['Sensor1',\n",
       " 'Sensor2',\n",
       " 'Sensor3',\n",
       " 'Sensor4',\n",
       " 'Sensor5',\n",
       " 'Sensor6',\n",
       " 'Sensor7',\n",
       " 'Sensor8',\n",
       " 'Sensor9',\n",
       " 'Sensor10',\n",
       " 'Sensor11',\n",
       " 'Sensor12',\n",
       " 'Sensor13',\n",
       " 'Sensor14',\n",
       " 'Sensor15',\n",
       " 'Sensor16',\n",
       " 'Sensor17',\n",
       " 'Sensor18',\n",
       " 'Sensor19',\n",
       " 'Sensor20',\n",
       " 'Sensor21']"
      ]
     },
     "execution_count": 12,
     "metadata": {},
     "output_type": "execute_result"
    }
   ],
   "source": [
    "x"
   ]
  },
  {
   "cell_type": "code",
   "execution_count": null,
   "metadata": {},
   "outputs": [
    {
     "name": "stdout",
     "output_type": "stream",
     "text": [
      "deeplearning Model Build progress: |█████"
     ]
    }
   ],
   "source": [
    "from h2o.estimators.deeplearning import H2ODeepLearningEstimator\n",
    "dl_estimator = H2ODeepLearningEstimator(model_id='dl_rul', nfolds=10,seed=42)\n",
    "dl_estimator.train(x=x, y=y, training_frame=data)"
   ]
  },
  {
   "cell_type": "code",
   "execution_count": 25,
   "metadata": {},
   "outputs": [
    {
     "name": "stdout",
     "output_type": "stream",
     "text": [
      "Model Details\n",
      "=============\n",
      "H2ODeepLearningEstimator :  Deep Learning\n",
      "Model Key:  dl_rul\n",
      "\n",
      "\n",
      "ModelMetricsRegression: deeplearning\n",
      "** Reported on train data. **\n",
      "\n",
      "MSE: 1980.8913264519035\n",
      "RMSE: 44.50720533185502\n",
      "MAE: 32.396337431718216\n",
      "RMSLE: NaN\n",
      "Mean Residual Deviance: 1980.8913264519035\n",
      "Scoring History: \n"
     ]
    },
    {
     "data": {
      "text/html": [
       "<div style=\"overflow:auto\"><table style=\"width:50%\"><tr><td><b></b></td>\n",
       "<td><b>timestamp</b></td>\n",
       "<td><b>duration</b></td>\n",
       "<td><b>training_speed</b></td>\n",
       "<td><b>epochs</b></td>\n",
       "<td><b>iterations</b></td>\n",
       "<td><b>samples</b></td>\n",
       "<td><b>training_rmse</b></td>\n",
       "<td><b>training_deviance</b></td>\n",
       "<td><b>training_mae</b></td></tr>\n",
       "<tr><td></td>\n",
       "<td>2018-04-25 17:04:54</td>\n",
       "<td> 0.000 sec</td>\n",
       "<td>None</td>\n",
       "<td>0.0</td>\n",
       "<td>0</td>\n",
       "<td>0.0</td>\n",
       "<td>nan</td>\n",
       "<td>nan</td>\n",
       "<td>nan</td></tr>\n",
       "<tr><td></td>\n",
       "<td>2018-04-25 17:05:00</td>\n",
       "<td> 7.331 sec</td>\n",
       "<td>3171 obs/sec</td>\n",
       "<td>1.0</td>\n",
       "<td>1</td>\n",
       "<td>20631.0</td>\n",
       "<td>65.7950263</td>\n",
       "<td>4328.9854819</td>\n",
       "<td>47.6420526</td></tr>\n",
       "<tr><td></td>\n",
       "<td>2018-04-25 17:05:09</td>\n",
       "<td>15.875 sec</td>\n",
       "<td>5590 obs/sec</td>\n",
       "<td>4.0</td>\n",
       "<td>4</td>\n",
       "<td>82524.0</td>\n",
       "<td>58.3355063</td>\n",
       "<td>3403.0312904</td>\n",
       "<td>42.2844792</td></tr>\n",
       "<tr><td></td>\n",
       "<td>2018-04-25 17:05:15</td>\n",
       "<td>21.383 sec</td>\n",
       "<td>8253 obs/sec</td>\n",
       "<td>8.0</td>\n",
       "<td>8</td>\n",
       "<td>165048.0</td>\n",
       "<td>48.0259184</td>\n",
       "<td>2306.4888361</td>\n",
       "<td>34.5189881</td></tr>\n",
       "<tr><td></td>\n",
       "<td>2018-04-25 17:05:17</td>\n",
       "<td>24.136 sec</td>\n",
       "<td>9166 obs/sec</td>\n",
       "<td>10.0</td>\n",
       "<td>10</td>\n",
       "<td>206310.0</td>\n",
       "<td>44.5072053</td>\n",
       "<td>1980.8913265</td>\n",
       "<td>32.3963374</td></tr></table></div>"
      ],
      "text/plain": [
       "    timestamp            duration    training_speed    epochs    iterations    samples    training_rmse    training_deviance    training_mae\n",
       "--  -------------------  ----------  ----------------  --------  ------------  ---------  ---------------  -------------------  --------------\n",
       "    2018-04-25 17:04:54  0.000 sec                     0         0             0          nan              nan                  nan\n",
       "    2018-04-25 17:05:00  7.331 sec   3171 obs/sec      1         1             20631      65.795           4328.99              47.6421\n",
       "    2018-04-25 17:05:09  15.875 sec  5590 obs/sec      4         4             82524      58.3355          3403.03              42.2845\n",
       "    2018-04-25 17:05:15  21.383 sec  8253 obs/sec      8         8             165048     48.0259          2306.49              34.519\n",
       "    2018-04-25 17:05:17  24.136 sec  9166 obs/sec      10        10            206310     44.5072          1980.89              32.3963"
      ]
     },
     "metadata": {},
     "output_type": "display_data"
    },
    {
     "name": "stdout",
     "output_type": "stream",
     "text": [
      "Variable Importances: \n"
     ]
    },
    {
     "data": {
      "text/html": [
       "<div style=\"overflow:auto\"><table style=\"width:50%\"><tr><td><b>variable</b></td>\n",
       "<td><b>relative_importance</b></td>\n",
       "<td><b>scaled_importance</b></td>\n",
       "<td><b>percentage</b></td></tr>\n",
       "<tr><td>Sensor14</td>\n",
       "<td>1.0</td>\n",
       "<td>1.0</td>\n",
       "<td>0.1517910</td></tr>\n",
       "<tr><td>Sensor9</td>\n",
       "<td>0.9048527</td>\n",
       "<td>0.9048527</td>\n",
       "<td>0.1373485</td></tr>\n",
       "<tr><td>Sensor11</td>\n",
       "<td>0.5209794</td>\n",
       "<td>0.5209794</td>\n",
       "<td>0.0790800</td></tr>\n",
       "<tr><td>Sensor12</td>\n",
       "<td>0.4366501</td>\n",
       "<td>0.4366501</td>\n",
       "<td>0.0662795</td></tr>\n",
       "<tr><td>Sensor13</td>\n",
       "<td>0.4230705</td>\n",
       "<td>0.4230705</td>\n",
       "<td>0.0642183</td></tr>\n",
       "<tr><td>Sensor4</td>\n",
       "<td>0.4204813</td>\n",
       "<td>0.4204813</td>\n",
       "<td>0.0638253</td></tr>\n",
       "<tr><td>Sensor8</td>\n",
       "<td>0.4147312</td>\n",
       "<td>0.4147312</td>\n",
       "<td>0.0629524</td></tr>\n",
       "<tr><td>Sensor7</td>\n",
       "<td>0.3949221</td>\n",
       "<td>0.3949221</td>\n",
       "<td>0.0599456</td></tr>\n",
       "<tr><td>Sensor6</td>\n",
       "<td>0.3725475</td>\n",
       "<td>0.3725475</td>\n",
       "<td>0.0565493</td></tr>\n",
       "<tr><td>Sensor15</td>\n",
       "<td>0.3271550</td>\n",
       "<td>0.3271550</td>\n",
       "<td>0.0496592</td></tr>\n",
       "<tr><td>Sensor2</td>\n",
       "<td>0.3014229</td>\n",
       "<td>0.3014229</td>\n",
       "<td>0.0457533</td></tr>\n",
       "<tr><td>Sensor20</td>\n",
       "<td>0.2789087</td>\n",
       "<td>0.2789087</td>\n",
       "<td>0.0423358</td></tr>\n",
       "<tr><td>Sensor21</td>\n",
       "<td>0.2781159</td>\n",
       "<td>0.2781159</td>\n",
       "<td>0.0422155</td></tr>\n",
       "<tr><td>Sensor17</td>\n",
       "<td>0.2645988</td>\n",
       "<td>0.2645988</td>\n",
       "<td>0.0401637</td></tr>\n",
       "<tr><td>Sensor3</td>\n",
       "<td>0.2495720</td>\n",
       "<td>0.2495720</td>\n",
       "<td>0.0378828</td></tr></table></div>"
      ],
      "text/plain": [
       "variable    relative_importance    scaled_importance    percentage\n",
       "----------  ---------------------  -------------------  ------------\n",
       "Sensor14    1                      1                    0.151791\n",
       "Sensor9     0.904853               0.904853             0.137348\n",
       "Sensor11    0.520979               0.520979             0.07908\n",
       "Sensor12    0.43665                0.43665              0.0662795\n",
       "Sensor13    0.42307                0.42307              0.0642183\n",
       "Sensor4     0.420481               0.420481             0.0638253\n",
       "Sensor8     0.414731               0.414731             0.0629524\n",
       "Sensor7     0.394922               0.394922             0.0599456\n",
       "Sensor6     0.372547               0.372547             0.0565493\n",
       "Sensor15    0.327155               0.327155             0.0496592\n",
       "Sensor2     0.301423               0.301423             0.0457533\n",
       "Sensor20    0.278909               0.278909             0.0423358\n",
       "Sensor21    0.278116               0.278116             0.0422155\n",
       "Sensor17    0.264599               0.264599             0.0401637\n",
       "Sensor3     0.249572               0.249572             0.0378828"
      ]
     },
     "metadata": {},
     "output_type": "display_data"
    },
    {
     "name": "stdout",
     "output_type": "stream",
     "text": [
      "\n"
     ]
    }
   ],
   "source": [
    "print(dl_estimator)"
   ]
  },
  {
   "cell_type": "code",
   "execution_count": 23,
   "metadata": {},
   "outputs": [
    {
     "name": "stdout",
     "output_type": "stream",
     "text": [
      "deeplearning Model Build progress: |██████████████████████████████████████| 100%\n",
      "Model Details\n",
      "=============\n",
      "H2ODeepLearningEstimator :  Deep Learning\n",
      "Model Key:  dl_rul_2\n",
      "\n",
      "\n",
      "ModelMetricsRegression: deeplearning\n",
      "** Reported on train data. **\n",
      "\n",
      "MSE: 1807.6685361644893\n",
      "RMSE: 42.51668538544002\n",
      "MAE: 29.75645410882206\n",
      "RMSLE: NaN\n",
      "Mean Residual Deviance: 1807.6685361644893\n",
      "Scoring History: \n"
     ]
    },
    {
     "data": {
      "text/html": [
       "<div style=\"overflow:auto\"><table style=\"width:50%\"><tr><td><b></b></td>\n",
       "<td><b>timestamp</b></td>\n",
       "<td><b>duration</b></td>\n",
       "<td><b>training_speed</b></td>\n",
       "<td><b>epochs</b></td>\n",
       "<td><b>iterations</b></td>\n",
       "<td><b>samples</b></td>\n",
       "<td><b>training_rmse</b></td>\n",
       "<td><b>training_deviance</b></td>\n",
       "<td><b>training_mae</b></td></tr>\n",
       "<tr><td></td>\n",
       "<td>2018-04-25 17:04:42</td>\n",
       "<td> 0.000 sec</td>\n",
       "<td>None</td>\n",
       "<td>0.0</td>\n",
       "<td>0</td>\n",
       "<td>0.0</td>\n",
       "<td>nan</td>\n",
       "<td>nan</td>\n",
       "<td>nan</td></tr>\n",
       "<tr><td></td>\n",
       "<td>2018-04-25 17:04:42</td>\n",
       "<td> 0.509 sec</td>\n",
       "<td>303397 obs/sec</td>\n",
       "<td>2.0</td>\n",
       "<td>1</td>\n",
       "<td>41262.0</td>\n",
       "<td>42.5166854</td>\n",
       "<td>1807.6685362</td>\n",
       "<td>29.7564541</td></tr>\n",
       "<tr><td></td>\n",
       "<td>2018-04-25 17:04:44</td>\n",
       "<td> 2.036 sec</td>\n",
       "<td>267935 obs/sec</td>\n",
       "<td>20.0</td>\n",
       "<td>10</td>\n",
       "<td>412620.0</td>\n",
       "<td>44.1758147</td>\n",
       "<td>1951.5026036</td>\n",
       "<td>30.4688120</td></tr>\n",
       "<tr><td></td>\n",
       "<td>2018-04-25 17:04:44</td>\n",
       "<td> 2.182 sec</td>\n",
       "<td>267067 obs/sec</td>\n",
       "<td>20.0</td>\n",
       "<td>10</td>\n",
       "<td>412620.0</td>\n",
       "<td>42.5166854</td>\n",
       "<td>1807.6685362</td>\n",
       "<td>29.7564541</td></tr></table></div>"
      ],
      "text/plain": [
       "    timestamp            duration    training_speed    epochs    iterations    samples    training_rmse    training_deviance    training_mae\n",
       "--  -------------------  ----------  ----------------  --------  ------------  ---------  ---------------  -------------------  --------------\n",
       "    2018-04-25 17:04:42  0.000 sec                     0         0             0          nan              nan                  nan\n",
       "    2018-04-25 17:04:42  0.509 sec   303397 obs/sec    2         1             41262      42.5167          1807.67              29.7565\n",
       "    2018-04-25 17:04:44  2.036 sec   267935 obs/sec    20        10            412620     44.1758          1951.5               30.4688\n",
       "    2018-04-25 17:04:44  2.182 sec   267067 obs/sec    20        10            412620     42.5167          1807.67              29.7565"
      ]
     },
     "metadata": {},
     "output_type": "display_data"
    },
    {
     "name": "stdout",
     "output_type": "stream",
     "text": [
      "Variable Importances: \n"
     ]
    },
    {
     "data": {
      "text/html": [
       "<div style=\"overflow:auto\"><table style=\"width:50%\"><tr><td><b>variable</b></td>\n",
       "<td><b>relative_importance</b></td>\n",
       "<td><b>scaled_importance</b></td>\n",
       "<td><b>percentage</b></td></tr>\n",
       "<tr><td>Sensor9</td>\n",
       "<td>1.0</td>\n",
       "<td>1.0</td>\n",
       "<td>0.1197505</td></tr>\n",
       "<tr><td>Sensor6</td>\n",
       "<td>0.8605672</td>\n",
       "<td>0.8605672</td>\n",
       "<td>0.1030534</td></tr>\n",
       "<tr><td>Sensor14</td>\n",
       "<td>0.7419586</td>\n",
       "<td>0.7419586</td>\n",
       "<td>0.0888499</td></tr>\n",
       "<tr><td>Sensor15</td>\n",
       "<td>0.6244820</td>\n",
       "<td>0.6244820</td>\n",
       "<td>0.0747821</td></tr>\n",
       "<tr><td>Sensor4</td>\n",
       "<td>0.6127191</td>\n",
       "<td>0.6127191</td>\n",
       "<td>0.0733734</td></tr>\n",
       "<tr><td>Sensor8</td>\n",
       "<td>0.5628800</td>\n",
       "<td>0.5628800</td>\n",
       "<td>0.0674052</td></tr>\n",
       "<tr><td>Sensor12</td>\n",
       "<td>0.5607381</td>\n",
       "<td>0.5607381</td>\n",
       "<td>0.0671487</td></tr>\n",
       "<tr><td>Sensor21</td>\n",
       "<td>0.5502712</td>\n",
       "<td>0.5502712</td>\n",
       "<td>0.0658953</td></tr>\n",
       "<tr><td>Sensor11</td>\n",
       "<td>0.5176302</td>\n",
       "<td>0.5176302</td>\n",
       "<td>0.0619865</td></tr>\n",
       "<tr><td>Sensor13</td>\n",
       "<td>0.4806289</td>\n",
       "<td>0.4806289</td>\n",
       "<td>0.0575556</td></tr>\n",
       "<tr><td>Sensor2</td>\n",
       "<td>0.4293432</td>\n",
       "<td>0.4293432</td>\n",
       "<td>0.0514141</td></tr>\n",
       "<tr><td>Sensor3</td>\n",
       "<td>0.4135706</td>\n",
       "<td>0.4135706</td>\n",
       "<td>0.0495253</td></tr>\n",
       "<tr><td>Sensor7</td>\n",
       "<td>0.4082063</td>\n",
       "<td>0.4082063</td>\n",
       "<td>0.0488829</td></tr>\n",
       "<tr><td>Sensor17</td>\n",
       "<td>0.3455184</td>\n",
       "<td>0.3455184</td>\n",
       "<td>0.0413760</td></tr>\n",
       "<tr><td>Sensor20</td>\n",
       "<td>0.2421796</td>\n",
       "<td>0.2421796</td>\n",
       "<td>0.0290011</td></tr></table></div>"
      ],
      "text/plain": [
       "variable    relative_importance    scaled_importance    percentage\n",
       "----------  ---------------------  -------------------  ------------\n",
       "Sensor9     1                      1                    0.119751\n",
       "Sensor6     0.860567               0.860567             0.103053\n",
       "Sensor14    0.741959               0.741959             0.0888499\n",
       "Sensor15    0.624482               0.624482             0.0747821\n",
       "Sensor4     0.612719               0.612719             0.0733734\n",
       "Sensor8     0.56288                0.56288              0.0674052\n",
       "Sensor12    0.560738               0.560738             0.0671487\n",
       "Sensor21    0.550271               0.550271             0.0658953\n",
       "Sensor11    0.51763                0.51763              0.0619865\n",
       "Sensor13    0.480629               0.480629             0.0575556\n",
       "Sensor2     0.429343               0.429343             0.0514141\n",
       "Sensor3     0.413571               0.413571             0.0495253\n",
       "Sensor7     0.408206               0.408206             0.0488829\n",
       "Sensor17    0.345518               0.345518             0.041376\n",
       "Sensor20    0.24218                0.24218              0.0290011"
      ]
     },
     "metadata": {},
     "output_type": "display_data"
    },
    {
     "data": {
      "text/plain": [
       "<bound method ModelBase.summary of >"
      ]
     },
     "execution_count": 23,
     "metadata": {},
     "output_type": "execute_result"
    }
   ],
   "source": [
    "dl_estimator2 = H2ODeepLearningEstimator(model_id='dl_rul_2',seed=42,\n",
    "                                        epochs=20,\n",
    "                                        hidden=[10,10],\n",
    "                                        stopping_rounds=0)\n",
    "dl_estimator2.train(x=x, y=y, training_frame=data)\n",
    "#print(dl_estimator2)\n",
    "dl_estimator2.summary"
   ]
  },
  {
   "cell_type": "code",
   "execution_count": null,
   "metadata": {},
   "outputs": [],
   "source": []
  }
 ],
 "metadata": {
  "kernelspec": {
   "display_name": "Python 3",
   "language": "python",
   "name": "python3"
  },
  "language_info": {
   "codemirror_mode": {
    "name": "ipython",
    "version": 3
   },
   "file_extension": ".py",
   "mimetype": "text/x-python",
   "name": "python",
   "nbconvert_exporter": "python",
   "pygments_lexer": "ipython3",
   "version": "3.6.4"
  }
 },
 "nbformat": 4,
 "nbformat_minor": 2
}
