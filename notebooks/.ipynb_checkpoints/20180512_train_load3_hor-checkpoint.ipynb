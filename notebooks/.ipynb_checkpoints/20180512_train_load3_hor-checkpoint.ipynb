{
 "cells": [
  {
   "cell_type": "code",
   "execution_count": null,
   "metadata": {},
   "outputs": [],
   "source": [
    "%load_ext autoreload\n",
    "%autoreload 2\n",
    "from util import util\n",
    "import numpy as np"
   ]
  },
  {
   "cell_type": "code",
   "execution_count": null,
   "metadata": {},
   "outputs": [],
   "source": [
    "# train signals\n",
    "%store -r signal_3_1_hor\n",
    "%store -r signal_3_2_hor\n",
    "\n",
    "# test signals\n",
    "%store -r signal_3_3_hor"
   ]
  },
  {
   "cell_type": "code",
   "execution_count": null,
   "metadata": {},
   "outputs": [],
   "source": [
    "# parameters\n",
    "layersizes = [300,150,25]\n",
    "expName = 'b3_hor'"
   ]
  },
  {
   "cell_type": "markdown",
   "metadata": {},
   "source": [
    "### bepaal X en Y voor trainen"
   ]
  },
  {
   "cell_type": "code",
   "execution_count": null,
   "metadata": {},
   "outputs": [],
   "source": [
    "spectros_train = [util.getSpectro(signal_3_1_hor), util.getSpectro(signal_3_2_hor)]\n",
    "X_train = np.append(spectros_train[0], spectros_train[1], axis=0)\n",
    "print(np.shape(X_train))\n",
    "\n",
    "nr_samples = len(spectros_train[0])\n",
    "Y_train = np.array([10 * (nr_samples - i) for i in range(1, nr_samples +1)])\n",
    "\n",
    "nr_samples = len(spectros_train[1])\n",
    "Y_train = np.append(Y_train, np.array([10 * (nr_samples - i) for i in range(1, nr_samples +1)]))\n",
    "print(np.shape(Y_train))"
   ]
  },
  {
   "cell_type": "markdown",
   "metadata": {},
   "source": [
    "## train modellen: Bearing 3, horizontaal"
   ]
  },
  {
   "cell_type": "code",
   "execution_count": null,
   "metadata": {
    "scrolled": true
   },
   "outputs": [],
   "source": [
    "rulModel, history = util.trainModel(X_train, Y_train, layersizes, 100, expName)"
   ]
  },
  {
   "cell_type": "code",
   "execution_count": null,
   "metadata": {},
   "outputs": [],
   "source": [
    "rulModel, history = util.trainModel(X_train, Y_train, layersizes, 500, expName)"
   ]
  },
  {
   "cell_type": "code",
   "execution_count": null,
   "metadata": {},
   "outputs": [],
   "source": [
    "modelnames = [util.getModelName(layersizes, 100, expName), util.getModelName(layersizes, 500, expName)]\n",
    "util.evaluate_signal(modelnames, signal_3_3_hor, 820)"
   ]
  }
 ],
 "metadata": {
  "kernelspec": {
   "display_name": "Python 3",
   "language": "python",
   "name": "python3"
  },
  "language_info": {
   "codemirror_mode": {
    "name": "ipython",
    "version": 3
   },
   "file_extension": ".py",
   "mimetype": "text/x-python",
   "name": "python",
   "nbconvert_exporter": "python",
   "pygments_lexer": "ipython3",
   "version": "3.6.4"
  },
  "varInspector": {
   "cols": {
    "lenName": 16,
    "lenType": 16,
    "lenVar": 40
   },
   "kernels_config": {
    "python": {
     "delete_cmd_postfix": "",
     "delete_cmd_prefix": "del ",
     "library": "var_list.py",
     "varRefreshCmd": "print(var_dic_list())"
    },
    "r": {
     "delete_cmd_postfix": ") ",
     "delete_cmd_prefix": "rm(",
     "library": "var_list.r",
     "varRefreshCmd": "cat(var_dic_list()) "
    }
   },
   "types_to_exclude": [
    "module",
    "function",
    "builtin_function_or_method",
    "instance",
    "_Feature"
   ],
   "window_display": false
  }
 },
 "nbformat": 4,
 "nbformat_minor": 2
}
