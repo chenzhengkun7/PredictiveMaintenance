{
 "cells": [
  {
   "cell_type": "code",
   "execution_count": 1,
   "metadata": {},
   "outputs": [
    {
     "name": "stdout",
     "output_type": "stream",
     "text": [
      "Checking whether there is an H2O instance running at http://localhost:54321..... not found.\n",
      "Attempting to start a local H2O server...\n",
      "  Java Version: openjdk version \"1.8.0_121\"; OpenJDK Runtime Environment (Zulu 8.20.0.5-macosx) (build 1.8.0_121-b15); OpenJDK 64-Bit Server VM (Zulu 8.20.0.5-macosx) (build 25.121-b15, mixed mode)\n",
      "  Starting server from /opt/miniconda2/envs/py36h2o/lib/python3.6/site-packages/h2o/backend/bin/h2o.jar\n",
      "  Ice root: /var/folders/32/40942p_n2jx6zw74vvpshddc0000gq/T/tmpr22a5ks8\n",
      "  JVM stdout: /var/folders/32/40942p_n2jx6zw74vvpshddc0000gq/T/tmpr22a5ks8/h2o_etto_started_from_python.out\n",
      "  JVM stderr: /var/folders/32/40942p_n2jx6zw74vvpshddc0000gq/T/tmpr22a5ks8/h2o_etto_started_from_python.err\n",
      "  Server is running at http://127.0.0.1:54321\n",
      "Connecting to H2O server at http://127.0.0.1:54321... successful.\n"
     ]
    },
    {
     "data": {
      "text/html": [
       "<div style=\"overflow:auto\"><table style=\"width:50%\"><tr><td>H2O cluster uptime:</td>\n",
       "<td>03 secs</td></tr>\n",
       "<tr><td>H2O cluster timezone:</td>\n",
       "<td>Europe/Amsterdam</td></tr>\n",
       "<tr><td>H2O data parsing timezone:</td>\n",
       "<td>UTC</td></tr>\n",
       "<tr><td>H2O cluster version:</td>\n",
       "<td>3.18.0.8</td></tr>\n",
       "<tr><td>H2O cluster version age:</td>\n",
       "<td>6 days </td></tr>\n",
       "<tr><td>H2O cluster name:</td>\n",
       "<td>H2O_from_python_etto_gqpidi</td></tr>\n",
       "<tr><td>H2O cluster total nodes:</td>\n",
       "<td>1</td></tr>\n",
       "<tr><td>H2O cluster free memory:</td>\n",
       "<td>7.111 Gb</td></tr>\n",
       "<tr><td>H2O cluster total cores:</td>\n",
       "<td>4</td></tr>\n",
       "<tr><td>H2O cluster allowed cores:</td>\n",
       "<td>4</td></tr>\n",
       "<tr><td>H2O cluster status:</td>\n",
       "<td>accepting new members, healthy</td></tr>\n",
       "<tr><td>H2O connection url:</td>\n",
       "<td>http://127.0.0.1:54321</td></tr>\n",
       "<tr><td>H2O connection proxy:</td>\n",
       "<td>None</td></tr>\n",
       "<tr><td>H2O internal security:</td>\n",
       "<td>False</td></tr>\n",
       "<tr><td>H2O API Extensions:</td>\n",
       "<td>XGBoost, Algos, AutoML, Core V3, Core V4</td></tr>\n",
       "<tr><td>Python version:</td>\n",
       "<td>3.6.4 final</td></tr></table></div>"
      ],
      "text/plain": [
       "--------------------------  ----------------------------------------\n",
       "H2O cluster uptime:         03 secs\n",
       "H2O cluster timezone:       Europe/Amsterdam\n",
       "H2O data parsing timezone:  UTC\n",
       "H2O cluster version:        3.18.0.8\n",
       "H2O cluster version age:    6 days\n",
       "H2O cluster name:           H2O_from_python_etto_gqpidi\n",
       "H2O cluster total nodes:    1\n",
       "H2O cluster free memory:    7.111 Gb\n",
       "H2O cluster total cores:    4\n",
       "H2O cluster allowed cores:  4\n",
       "H2O cluster status:         accepting new members, healthy\n",
       "H2O connection url:         http://127.0.0.1:54321\n",
       "H2O connection proxy:\n",
       "H2O internal security:      False\n",
       "H2O API Extensions:         XGBoost, Algos, AutoML, Core V3, Core V4\n",
       "Python version:             3.6.4 final\n",
       "--------------------------  ----------------------------------------"
      ]
     },
     "metadata": {},
     "output_type": "display_data"
    }
   ],
   "source": [
    "import h2o\n",
    "h2o.init(nthreads=-1, max_mem_size = 8)"
   ]
  },
  {
   "cell_type": "code",
   "execution_count": 3,
   "metadata": {},
   "outputs": [
    {
     "name": "stdout",
     "output_type": "stream",
     "text": [
      "Parse progress: |█████████████████████████████████████████████████████████| 100%\n"
     ]
    }
   ],
   "source": [
    "csv_file = '/Users/etto/Documents/AMI/PredictiveMaintenance/notebooks/trainPredMaint.csv'\n",
    "data = h2o.import_file(csv_file)"
   ]
  },
  {
   "cell_type": "code",
   "execution_count": 5,
   "metadata": {},
   "outputs": [
    {
     "data": {
      "text/plain": [
       "(20631, 27)"
      ]
     },
     "execution_count": 5,
     "metadata": {},
     "output_type": "execute_result"
    }
   ],
   "source": [
    "data.shape"
   ]
  },
  {
   "cell_type": "code",
   "execution_count": 6,
   "metadata": {},
   "outputs": [
    {
     "data": {
      "text/plain": [
       "['UnitNumber',\n",
       " 'Time',\n",
       " 'Setting1',\n",
       " 'Setting2',\n",
       " 'Setting3',\n",
       " 'Sensor1',\n",
       " 'Sensor2',\n",
       " 'Sensor3',\n",
       " 'Sensor4',\n",
       " 'Sensor5',\n",
       " 'Sensor6',\n",
       " 'Sensor7',\n",
       " 'Sensor8',\n",
       " 'Sensor9',\n",
       " 'Sensor10',\n",
       " 'Sensor11',\n",
       " 'Sensor12',\n",
       " 'Sensor13',\n",
       " 'Sensor14',\n",
       " 'Sensor15',\n",
       " 'Sensor16',\n",
       " 'Sensor17',\n",
       " 'Sensor18',\n",
       " 'Sensor19',\n",
       " 'Sensor20',\n",
       " 'Sensor21',\n",
       " 'RUL']"
      ]
     },
     "execution_count": 6,
     "metadata": {},
     "output_type": "execute_result"
    }
   ],
   "source": [
    "data.columns"
   ]
  },
  {
   "cell_type": "code",
   "execution_count": 11,
   "metadata": {},
   "outputs": [],
   "source": [
    "y = 'RUL'\n",
    "x = list(data.columns)\n",
    "x.remove(y)\n",
    "x.remove('Time')\n",
    "x.remove('UnitNumber')\n",
    "x.remove('Setting1')\n",
    "x.remove('Setting2')\n",
    "x.remove('Setting3')"
   ]
  },
  {
   "cell_type": "code",
   "execution_count": 12,
   "metadata": {},
   "outputs": [
    {
     "data": {
      "text/plain": [
       "['Sensor1',\n",
       " 'Sensor2',\n",
       " 'Sensor3',\n",
       " 'Sensor4',\n",
       " 'Sensor5',\n",
       " 'Sensor6',\n",
       " 'Sensor7',\n",
       " 'Sensor8',\n",
       " 'Sensor9',\n",
       " 'Sensor10',\n",
       " 'Sensor11',\n",
       " 'Sensor12',\n",
       " 'Sensor13',\n",
       " 'Sensor14',\n",
       " 'Sensor15',\n",
       " 'Sensor16',\n",
       " 'Sensor17',\n",
       " 'Sensor18',\n",
       " 'Sensor19',\n",
       " 'Sensor20',\n",
       " 'Sensor21']"
      ]
     },
     "execution_count": 12,
     "metadata": {},
     "output_type": "execute_result"
    }
   ],
   "source": [
    "x"
   ]
  },
  {
   "cell_type": "code",
   "execution_count": 27,
   "metadata": {},
   "outputs": [
    {
     "name": "stdout",
     "output_type": "stream",
     "text": [
      "deeplearning Model Build progress: |██████████████████████████████████████| 100%\n"
     ]
    }
   ],
   "source": [
    "from h2o.estimators.deeplearning import H2ODeepLearningEstimator\n",
    "dl_estimator = H2ODeepLearningEstimator(model_id='dl_rul', nfolds=10,seed=42)\n",
    "dl_estimator.train(x=x, y=y, training_frame=data)"
   ]
  },
  {
   "cell_type": "code",
   "execution_count": 28,
   "metadata": {},
   "outputs": [
    {
     "name": "stdout",
     "output_type": "stream",
     "text": [
      "Model Details\n",
      "=============\n",
      "H2ODeepLearningEstimator :  Deep Learning\n",
      "Model Key:  dl_rul\n",
      "\n",
      "\n",
      "ModelMetricsRegression: deeplearning\n",
      "** Reported on train data. **\n",
      "\n",
      "MSE: 1894.8567422217875\n",
      "RMSE: 43.529952242355925\n",
      "MAE: 30.76083272671413\n",
      "RMSLE: NaN\n",
      "Mean Residual Deviance: 1894.8567422217875\n",
      "\n",
      "ModelMetricsRegression: deeplearning\n",
      "** Reported on cross-validation data. **\n",
      "\n",
      "MSE: 1924.4787967250006\n",
      "RMSE: 43.86888187229076\n",
      "MAE: 31.379187680544018\n",
      "RMSLE: NaN\n",
      "Mean Residual Deviance: 1924.4787967250006\n",
      "Cross-Validation Metrics Summary: \n"
     ]
    },
    {
     "data": {
      "text/html": [
       "<div style=\"overflow:auto\"><table style=\"width:50%\"><tr><td><b></b></td>\n",
       "<td><b>mean</b></td>\n",
       "<td><b>sd</b></td>\n",
       "<td><b>cv_1_valid</b></td>\n",
       "<td><b>cv_2_valid</b></td>\n",
       "<td><b>cv_3_valid</b></td>\n",
       "<td><b>cv_4_valid</b></td>\n",
       "<td><b>cv_5_valid</b></td>\n",
       "<td><b>cv_6_valid</b></td>\n",
       "<td><b>cv_7_valid</b></td>\n",
       "<td><b>cv_8_valid</b></td>\n",
       "<td><b>cv_9_valid</b></td>\n",
       "<td><b>cv_10_valid</b></td></tr>\n",
       "<tr><td>mae</td>\n",
       "<td>31.375263</td>\n",
       "<td>0.9518741</td>\n",
       "<td>30.438633</td>\n",
       "<td>29.982191</td>\n",
       "<td>30.740396</td>\n",
       "<td>30.449081</td>\n",
       "<td>33.823093</td>\n",
       "<td>33.348732</td>\n",
       "<td>32.02972</td>\n",
       "<td>30.075857</td>\n",
       "<td>32.440617</td>\n",
       "<td>30.424318</td></tr>\n",
       "<tr><td>mean_residual_deviance</td>\n",
       "<td>1922.9132</td>\n",
       "<td>97.18499</td>\n",
       "<td>1839.0646</td>\n",
       "<td>1649.2004</td>\n",
       "<td>2103.786</td>\n",
       "<td>1940.9667</td>\n",
       "<td>1990.1564</td>\n",
       "<td>2159.8022</td>\n",
       "<td>1847.0513</td>\n",
       "<td>1924.4069</td>\n",
       "<td>1837.4324</td>\n",
       "<td>1937.2655</td></tr>\n",
       "<tr><td>mse</td>\n",
       "<td>1922.9132</td>\n",
       "<td>97.18499</td>\n",
       "<td>1839.0646</td>\n",
       "<td>1649.2004</td>\n",
       "<td>2103.786</td>\n",
       "<td>1940.9667</td>\n",
       "<td>1990.1564</td>\n",
       "<td>2159.8022</td>\n",
       "<td>1847.0513</td>\n",
       "<td>1924.4069</td>\n",
       "<td>1837.4324</td>\n",
       "<td>1937.2655</td></tr>\n",
       "<tr><td>r2</td>\n",
       "<td>0.5944840</td>\n",
       "<td>0.0178403</td>\n",
       "<td>0.5905915</td>\n",
       "<td>0.6455414</td>\n",
       "<td>0.5760839</td>\n",
       "<td>0.5916458</td>\n",
       "<td>0.5972864</td>\n",
       "<td>0.5423308</td>\n",
       "<td>0.6073641</td>\n",
       "<td>0.5861964</td>\n",
       "<td>0.6152399</td>\n",
       "<td>0.5925603</td></tr>\n",
       "<tr><td>residual_deviance</td>\n",
       "<td>1922.9132</td>\n",
       "<td>97.18499</td>\n",
       "<td>1839.0646</td>\n",
       "<td>1649.2004</td>\n",
       "<td>2103.786</td>\n",
       "<td>1940.9667</td>\n",
       "<td>1990.1564</td>\n",
       "<td>2159.8022</td>\n",
       "<td>1847.0513</td>\n",
       "<td>1924.4069</td>\n",
       "<td>1837.4324</td>\n",
       "<td>1937.2655</td></tr>\n",
       "<tr><td>rmse</td>\n",
       "<td>43.8228</td>\n",
       "<td>1.1125009</td>\n",
       "<td>42.884315</td>\n",
       "<td>40.610348</td>\n",
       "<td>45.867046</td>\n",
       "<td>44.056404</td>\n",
       "<td>44.611168</td>\n",
       "<td>46.47367</td>\n",
       "<td>42.977333</td>\n",
       "<td>43.86806</td>\n",
       "<td>42.86528</td>\n",
       "<td>44.014378</td></tr>\n",
       "<tr><td>rmsle</td>\n",
       "<td>0.0</td>\n",
       "<td>NaN</td>\n",
       "<td>NaN</td>\n",
       "<td>NaN</td>\n",
       "<td>NaN</td>\n",
       "<td>NaN</td>\n",
       "<td>NaN</td>\n",
       "<td>NaN</td>\n",
       "<td>NaN</td>\n",
       "<td>NaN</td>\n",
       "<td>NaN</td>\n",
       "<td>NaN</td></tr></table></div>"
      ],
      "text/plain": [
       "                        mean      sd         cv_1_valid    cv_2_valid    cv_3_valid    cv_4_valid    cv_5_valid    cv_6_valid    cv_7_valid    cv_8_valid    cv_9_valid    cv_10_valid\n",
       "----------------------  --------  ---------  ------------  ------------  ------------  ------------  ------------  ------------  ------------  ------------  ------------  -------------\n",
       "mae                     31.3753   0.951874   30.4386       29.9822       30.7404       30.4491       33.8231       33.3487       32.0297       30.0759       32.4406       30.4243\n",
       "mean_residual_deviance  1922.91   97.185     1839.06       1649.2        2103.79       1940.97       1990.16       2159.8        1847.05       1924.41       1837.43       1937.27\n",
       "mse                     1922.91   97.185     1839.06       1649.2        2103.79       1940.97       1990.16       2159.8        1847.05       1924.41       1837.43       1937.27\n",
       "r2                      0.594484  0.0178403  0.590592      0.645541      0.576084      0.591646      0.597286      0.542331      0.607364      0.586196      0.61524       0.59256\n",
       "residual_deviance       1922.91   97.185     1839.06       1649.2        2103.79       1940.97       1990.16       2159.8        1847.05       1924.41       1837.43       1937.27\n",
       "rmse                    43.8228   1.1125     42.8843       40.6103       45.867        44.0564       44.6112       46.4737       42.9773       43.8681       42.8653       44.0144\n",
       "rmsle                   0         nan        nan           nan           nan           nan           nan           nan           nan           nan           nan           nan"
      ]
     },
     "metadata": {},
     "output_type": "display_data"
    },
    {
     "name": "stdout",
     "output_type": "stream",
     "text": [
      "Scoring History: \n"
     ]
    },
    {
     "data": {
      "text/html": [
       "<div style=\"overflow:auto\"><table style=\"width:50%\"><tr><td><b></b></td>\n",
       "<td><b>timestamp</b></td>\n",
       "<td><b>duration</b></td>\n",
       "<td><b>training_speed</b></td>\n",
       "<td><b>epochs</b></td>\n",
       "<td><b>iterations</b></td>\n",
       "<td><b>samples</b></td>\n",
       "<td><b>training_rmse</b></td>\n",
       "<td><b>training_deviance</b></td>\n",
       "<td><b>training_mae</b></td></tr>\n",
       "<tr><td></td>\n",
       "<td>2018-04-25 17:12:09</td>\n",
       "<td> 0.000 sec</td>\n",
       "<td>None</td>\n",
       "<td>0.0</td>\n",
       "<td>0</td>\n",
       "<td>0.0</td>\n",
       "<td>nan</td>\n",
       "<td>nan</td>\n",
       "<td>nan</td></tr>\n",
       "<tr><td></td>\n",
       "<td>2018-04-25 17:12:13</td>\n",
       "<td> 2 min 55.437 sec</td>\n",
       "<td>5874 obs/sec</td>\n",
       "<td>1.0833697</td>\n",
       "<td>1</td>\n",
       "<td>22351.0</td>\n",
       "<td>43.2117760</td>\n",
       "<td>1867.2575887</td>\n",
       "<td>29.6877476</td></tr>\n",
       "<tr><td></td>\n",
       "<td>2018-04-25 17:12:19</td>\n",
       "<td> 3 min  0.726 sec</td>\n",
       "<td>10100 obs/sec</td>\n",
       "<td>4.3231060</td>\n",
       "<td>4</td>\n",
       "<td>89190.0</td>\n",
       "<td>42.6050028</td>\n",
       "<td>1815.1862667</td>\n",
       "<td>30.1789367</td></tr>\n",
       "<tr><td></td>\n",
       "<td>2018-04-25 17:12:25</td>\n",
       "<td> 3 min  6.843 sec</td>\n",
       "<td>12160 obs/sec</td>\n",
       "<td>8.6335611</td>\n",
       "<td>8</td>\n",
       "<td>178119.0</td>\n",
       "<td>42.4199329</td>\n",
       "<td>1799.4507076</td>\n",
       "<td>31.5479108</td></tr>\n",
       "<tr><td></td>\n",
       "<td>2018-04-25 17:12:29</td>\n",
       "<td> 3 min 11.107 sec</td>\n",
       "<td>13132 obs/sec</td>\n",
       "<td>11.8788716</td>\n",
       "<td>11</td>\n",
       "<td>245073.0</td>\n",
       "<td>43.5299522</td>\n",
       "<td>1894.8567422</td>\n",
       "<td>30.7608327</td></tr></table></div>"
      ],
      "text/plain": [
       "    timestamp            duration          training_speed    epochs    iterations    samples    training_rmse    training_deviance    training_mae\n",
       "--  -------------------  ----------------  ----------------  --------  ------------  ---------  ---------------  -------------------  --------------\n",
       "    2018-04-25 17:12:09  0.000 sec                           0         0             0          nan              nan                  nan\n",
       "    2018-04-25 17:12:13  2 min 55.437 sec  5874 obs/sec      1.08337   1             22351      43.2118          1867.26              29.6877\n",
       "    2018-04-25 17:12:19  3 min  0.726 sec  10100 obs/sec     4.32311   4             89190      42.605           1815.19              30.1789\n",
       "    2018-04-25 17:12:25  3 min  6.843 sec  12160 obs/sec     8.63356   8             178119     42.4199          1799.45              31.5479\n",
       "    2018-04-25 17:12:29  3 min 11.107 sec  13132 obs/sec     11.8789   11            245073     43.53            1894.86              30.7608"
      ]
     },
     "metadata": {},
     "output_type": "display_data"
    },
    {
     "name": "stdout",
     "output_type": "stream",
     "text": [
      "Variable Importances: \n"
     ]
    },
    {
     "data": {
      "text/html": [
       "<div style=\"overflow:auto\"><table style=\"width:50%\"><tr><td><b>variable</b></td>\n",
       "<td><b>relative_importance</b></td>\n",
       "<td><b>scaled_importance</b></td>\n",
       "<td><b>percentage</b></td></tr>\n",
       "<tr><td>Sensor14</td>\n",
       "<td>1.0</td>\n",
       "<td>1.0</td>\n",
       "<td>0.1275650</td></tr>\n",
       "<tr><td>Sensor9</td>\n",
       "<td>0.9806877</td>\n",
       "<td>0.9806877</td>\n",
       "<td>0.1251015</td></tr>\n",
       "<tr><td>Sensor13</td>\n",
       "<td>0.5309100</td>\n",
       "<td>0.5309100</td>\n",
       "<td>0.0677256</td></tr>\n",
       "<tr><td>Sensor4</td>\n",
       "<td>0.5181180</td>\n",
       "<td>0.5181180</td>\n",
       "<td>0.0660938</td></tr>\n",
       "<tr><td>Sensor8</td>\n",
       "<td>0.5126011</td>\n",
       "<td>0.5126011</td>\n",
       "<td>0.0653900</td></tr>\n",
       "<tr><td>Sensor11</td>\n",
       "<td>0.5112997</td>\n",
       "<td>0.5112997</td>\n",
       "<td>0.0652240</td></tr>\n",
       "<tr><td>Sensor21</td>\n",
       "<td>0.4810170</td>\n",
       "<td>0.4810170</td>\n",
       "<td>0.0613610</td></tr>\n",
       "<tr><td>Sensor15</td>\n",
       "<td>0.4659477</td>\n",
       "<td>0.4659477</td>\n",
       "<td>0.0594386</td></tr>\n",
       "<tr><td>Sensor7</td>\n",
       "<td>0.4558985</td>\n",
       "<td>0.4558985</td>\n",
       "<td>0.0581567</td></tr>\n",
       "<tr><td>Sensor12</td>\n",
       "<td>0.4213408</td>\n",
       "<td>0.4213408</td>\n",
       "<td>0.0537484</td></tr>\n",
       "<tr><td>Sensor2</td>\n",
       "<td>0.4135953</td>\n",
       "<td>0.4135953</td>\n",
       "<td>0.0527603</td></tr>\n",
       "<tr><td>Sensor6</td>\n",
       "<td>0.4128298</td>\n",
       "<td>0.4128298</td>\n",
       "<td>0.0526626</td></tr>\n",
       "<tr><td>Sensor20</td>\n",
       "<td>0.4047186</td>\n",
       "<td>0.4047186</td>\n",
       "<td>0.0516279</td></tr>\n",
       "<tr><td>Sensor3</td>\n",
       "<td>0.3939596</td>\n",
       "<td>0.3939596</td>\n",
       "<td>0.0502555</td></tr>\n",
       "<tr><td>Sensor17</td>\n",
       "<td>0.3362140</td>\n",
       "<td>0.3362140</td>\n",
       "<td>0.0428892</td></tr></table></div>"
      ],
      "text/plain": [
       "variable    relative_importance    scaled_importance    percentage\n",
       "----------  ---------------------  -------------------  ------------\n",
       "Sensor14    1                      1                    0.127565\n",
       "Sensor9     0.980688               0.980688             0.125101\n",
       "Sensor13    0.53091                0.53091              0.0677256\n",
       "Sensor4     0.518118               0.518118             0.0660938\n",
       "Sensor8     0.512601               0.512601             0.06539\n",
       "Sensor11    0.5113                 0.5113               0.065224\n",
       "Sensor21    0.481017               0.481017             0.061361\n",
       "Sensor15    0.465948               0.465948             0.0594386\n",
       "Sensor7     0.455898               0.455898             0.0581567\n",
       "Sensor12    0.421341               0.421341             0.0537484\n",
       "Sensor2     0.413595               0.413595             0.0527603\n",
       "Sensor6     0.41283                0.41283              0.0526626\n",
       "Sensor20    0.404719               0.404719             0.0516279\n",
       "Sensor3     0.39396                0.39396              0.0502555\n",
       "Sensor17    0.336214               0.336214             0.0428892"
      ]
     },
     "metadata": {},
     "output_type": "display_data"
    },
    {
     "name": "stdout",
     "output_type": "stream",
     "text": [
      "\n"
     ]
    }
   ],
   "source": [
    "print(dl_estimator)"
   ]
  },
  {
   "cell_type": "code",
   "execution_count": 30,
   "metadata": {},
   "outputs": [
    {
     "name": "stdout",
     "output_type": "stream",
     "text": [
      "deeplearning Model Build progress: |██████████████████████████████████████| 100%\n",
      "Model Details\n",
      "=============\n",
      "H2ODeepLearningEstimator :  Deep Learning\n",
      "Model Key:  dl_rul_2\n",
      "\n",
      "\n",
      "ModelMetricsRegression: deeplearning\n",
      "** Reported on train data. **\n",
      "\n",
      "MSE: 2292.427539415816\n",
      "RMSE: 47.87930178496566\n",
      "MAE: 33.652631553876674\n",
      "RMSLE: NaN\n",
      "Mean Residual Deviance: 2292.427539415816\n",
      "\n",
      "ModelMetricsRegression: deeplearning\n",
      "** Reported on cross-validation data. **\n",
      "\n",
      "MSE: 1870.2448607236686\n",
      "RMSE: 43.2463277137339\n",
      "MAE: 31.31316153338529\n",
      "RMSLE: NaN\n",
      "Mean Residual Deviance: 1870.2448607236686\n",
      "Cross-Validation Metrics Summary: \n"
     ]
    },
    {
     "data": {
      "text/html": [
       "<div style=\"overflow:auto\"><table style=\"width:50%\"><tr><td><b></b></td>\n",
       "<td><b>mean</b></td>\n",
       "<td><b>sd</b></td>\n",
       "<td><b>cv_1_valid</b></td>\n",
       "<td><b>cv_2_valid</b></td>\n",
       "<td><b>cv_3_valid</b></td>\n",
       "<td><b>cv_4_valid</b></td>\n",
       "<td><b>cv_5_valid</b></td></tr>\n",
       "<tr><td>mae</td>\n",
       "<td>31.307034</td>\n",
       "<td>1.1190965</td>\n",
       "<td>29.294043</td>\n",
       "<td>29.637133</td>\n",
       "<td>33.41423</td>\n",
       "<td>32.068634</td>\n",
       "<td>32.121128</td></tr>\n",
       "<tr><td>mean_residual_deviance</td>\n",
       "<td>1870.3518</td>\n",
       "<td>118.75124</td>\n",
       "<td>1721.6226</td>\n",
       "<td>1675.5724</td>\n",
       "<td>1922.9957</td>\n",
       "<td>1881.8314</td>\n",
       "<td>2149.7368</td></tr>\n",
       "<tr><td>mse</td>\n",
       "<td>1870.3518</td>\n",
       "<td>118.75124</td>\n",
       "<td>1721.6226</td>\n",
       "<td>1675.5724</td>\n",
       "<td>1922.9957</td>\n",
       "<td>1881.8314</td>\n",
       "<td>2149.7368</td></tr>\n",
       "<tr><td>r2</td>\n",
       "<td>0.6060486</td>\n",
       "<td>0.0204237</td>\n",
       "<td>0.6263891</td>\n",
       "<td>0.6419531</td>\n",
       "<td>0.6001456</td>\n",
       "<td>0.6050275</td>\n",
       "<td>0.5567279</td></tr>\n",
       "<tr><td>residual_deviance</td>\n",
       "<td>1870.3518</td>\n",
       "<td>118.75124</td>\n",
       "<td>1721.6226</td>\n",
       "<td>1675.5724</td>\n",
       "<td>1922.9957</td>\n",
       "<td>1881.8314</td>\n",
       "<td>2149.7368</td></tr>\n",
       "<tr><td>rmse</td>\n",
       "<td>43.2047</td>\n",
       "<td>1.3611705</td>\n",
       "<td>41.49244</td>\n",
       "<td>40.933754</td>\n",
       "<td>43.851974</td>\n",
       "<td>43.38008</td>\n",
       "<td>46.365253</td></tr>\n",
       "<tr><td>rmsle</td>\n",
       "<td>0.0</td>\n",
       "<td>NaN</td>\n",
       "<td>NaN</td>\n",
       "<td>NaN</td>\n",
       "<td>NaN</td>\n",
       "<td>NaN</td>\n",
       "<td>NaN</td></tr></table></div>"
      ],
      "text/plain": [
       "                        mean      sd         cv_1_valid    cv_2_valid    cv_3_valid    cv_4_valid    cv_5_valid\n",
       "----------------------  --------  ---------  ------------  ------------  ------------  ------------  ------------\n",
       "mae                     31.307    1.1191     29.294        29.6371       33.4142       32.0686       32.1211\n",
       "mean_residual_deviance  1870.35   118.751    1721.62       1675.57       1923          1881.83       2149.74\n",
       "mse                     1870.35   118.751    1721.62       1675.57       1923          1881.83       2149.74\n",
       "r2                      0.606049  0.0204237  0.626389      0.641953      0.600146      0.605028      0.556728\n",
       "residual_deviance       1870.35   118.751    1721.62       1675.57       1923          1881.83       2149.74\n",
       "rmse                    43.2047   1.36117    41.4924       40.9338       43.852        43.3801       46.3653\n",
       "rmsle                   0         nan        nan           nan           nan           nan           nan"
      ]
     },
     "metadata": {},
     "output_type": "display_data"
    },
    {
     "name": "stdout",
     "output_type": "stream",
     "text": [
      "Scoring History: \n"
     ]
    },
    {
     "data": {
      "text/html": [
       "<div style=\"overflow:auto\"><table style=\"width:50%\"><tr><td><b></b></td>\n",
       "<td><b>timestamp</b></td>\n",
       "<td><b>duration</b></td>\n",
       "<td><b>training_speed</b></td>\n",
       "<td><b>epochs</b></td>\n",
       "<td><b>iterations</b></td>\n",
       "<td><b>samples</b></td>\n",
       "<td><b>training_rmse</b></td>\n",
       "<td><b>training_deviance</b></td>\n",
       "<td><b>training_mae</b></td></tr>\n",
       "<tr><td></td>\n",
       "<td>2018-04-25 17:13:39</td>\n",
       "<td> 0.000 sec</td>\n",
       "<td>None</td>\n",
       "<td>0.0</td>\n",
       "<td>0</td>\n",
       "<td>0.0</td>\n",
       "<td>nan</td>\n",
       "<td>nan</td>\n",
       "<td>nan</td></tr>\n",
       "<tr><td></td>\n",
       "<td>2018-04-25 17:13:40</td>\n",
       "<td> 5.804 sec</td>\n",
       "<td>294728 obs/sec</td>\n",
       "<td>2.0</td>\n",
       "<td>1</td>\n",
       "<td>41262.0</td>\n",
       "<td>43.9243144</td>\n",
       "<td>1929.3453941</td>\n",
       "<td>31.2414693</td></tr>\n",
       "<tr><td></td>\n",
       "<td>2018-04-25 17:13:41</td>\n",
       "<td> 6.929 sec</td>\n",
       "<td>330890 obs/sec</td>\n",
       "<td>20.0</td>\n",
       "<td>10</td>\n",
       "<td>412620.0</td>\n",
       "<td>47.8793018</td>\n",
       "<td>2292.4275394</td>\n",
       "<td>33.6526316</td></tr></table></div>"
      ],
      "text/plain": [
       "    timestamp            duration    training_speed    epochs    iterations    samples    training_rmse    training_deviance    training_mae\n",
       "--  -------------------  ----------  ----------------  --------  ------------  ---------  ---------------  -------------------  --------------\n",
       "    2018-04-25 17:13:39  0.000 sec                     0         0             0          nan              nan                  nan\n",
       "    2018-04-25 17:13:40  5.804 sec   294728 obs/sec    2         1             41262      43.9243          1929.35              31.2415\n",
       "    2018-04-25 17:13:41  6.929 sec   330890 obs/sec    20        10            412620     47.8793          2292.43              33.6526"
      ]
     },
     "metadata": {},
     "output_type": "display_data"
    },
    {
     "name": "stdout",
     "output_type": "stream",
     "text": [
      "Variable Importances: \n"
     ]
    },
    {
     "data": {
      "text/html": [
       "<div style=\"overflow:auto\"><table style=\"width:50%\"><tr><td><b>variable</b></td>\n",
       "<td><b>relative_importance</b></td>\n",
       "<td><b>scaled_importance</b></td>\n",
       "<td><b>percentage</b></td></tr>\n",
       "<tr><td>Sensor14</td>\n",
       "<td>1.0</td>\n",
       "<td>1.0</td>\n",
       "<td>0.1757627</td></tr>\n",
       "<tr><td>Sensor6</td>\n",
       "<td>0.6085998</td>\n",
       "<td>0.6085998</td>\n",
       "<td>0.1069692</td></tr>\n",
       "<tr><td>Sensor9</td>\n",
       "<td>0.5519483</td>\n",
       "<td>0.5519483</td>\n",
       "<td>0.0970119</td></tr>\n",
       "<tr><td>Sensor4</td>\n",
       "<td>0.4579878</td>\n",
       "<td>0.4579878</td>\n",
       "<td>0.0804972</td></tr>\n",
       "<tr><td>Sensor8</td>\n",
       "<td>0.4231618</td>\n",
       "<td>0.4231618</td>\n",
       "<td>0.0743761</td></tr>\n",
       "<tr><td>Sensor12</td>\n",
       "<td>0.4202923</td>\n",
       "<td>0.4202923</td>\n",
       "<td>0.0738717</td></tr>\n",
       "<tr><td>Sensor11</td>\n",
       "<td>0.4118673</td>\n",
       "<td>0.4118673</td>\n",
       "<td>0.0723909</td></tr>\n",
       "<tr><td>Sensor13</td>\n",
       "<td>0.4050179</td>\n",
       "<td>0.4050179</td>\n",
       "<td>0.0711870</td></tr>\n",
       "<tr><td>Sensor7</td>\n",
       "<td>0.3366063</td>\n",
       "<td>0.3366063</td>\n",
       "<td>0.0591628</td></tr>\n",
       "<tr><td>Sensor15</td>\n",
       "<td>0.2272800</td>\n",
       "<td>0.2272800</td>\n",
       "<td>0.0399473</td></tr>\n",
       "<tr><td>Sensor2</td>\n",
       "<td>0.2193600</td>\n",
       "<td>0.2193600</td>\n",
       "<td>0.0385553</td></tr>\n",
       "<tr><td>Sensor20</td>\n",
       "<td>0.2177789</td>\n",
       "<td>0.2177789</td>\n",
       "<td>0.0382774</td></tr>\n",
       "<tr><td>Sensor3</td>\n",
       "<td>0.1661424</td>\n",
       "<td>0.1661424</td>\n",
       "<td>0.0292016</td></tr>\n",
       "<tr><td>Sensor17</td>\n",
       "<td>0.1263943</td>\n",
       "<td>0.1263943</td>\n",
       "<td>0.0222154</td></tr>\n",
       "<tr><td>Sensor21</td>\n",
       "<td>0.1170521</td>\n",
       "<td>0.1170521</td>\n",
       "<td>0.0205734</td></tr></table></div>"
      ],
      "text/plain": [
       "variable    relative_importance    scaled_importance    percentage\n",
       "----------  ---------------------  -------------------  ------------\n",
       "Sensor14    1                      1                    0.175763\n",
       "Sensor6     0.6086                 0.6086               0.106969\n",
       "Sensor9     0.551948               0.551948             0.0970119\n",
       "Sensor4     0.457988               0.457988             0.0804972\n",
       "Sensor8     0.423162               0.423162             0.0743761\n",
       "Sensor12    0.420292               0.420292             0.0738717\n",
       "Sensor11    0.411867               0.411867             0.0723909\n",
       "Sensor13    0.405018               0.405018             0.071187\n",
       "Sensor7     0.336606               0.336606             0.0591628\n",
       "Sensor15    0.22728                0.22728              0.0399473\n",
       "Sensor2     0.21936                0.21936              0.0385553\n",
       "Sensor20    0.217779               0.217779             0.0382774\n",
       "Sensor3     0.166142               0.166142             0.0292016\n",
       "Sensor17    0.126394               0.126394             0.0222154\n",
       "Sensor21    0.117052               0.117052             0.0205734"
      ]
     },
     "metadata": {},
     "output_type": "display_data"
    },
    {
     "data": {
      "text/plain": [
       "<bound method ModelBase.summary of >"
      ]
     },
     "execution_count": 30,
     "metadata": {},
     "output_type": "execute_result"
    }
   ],
   "source": [
    "dl_estimator2 = H2ODeepLearningEstimator(model_id='dl_rul_2',seed=42, nfolds=5,\n",
    "                                        epochs=20,\n",
    "                                        hidden=[10,10],\n",
    "                                        stopping_rounds=0)\n",
    "dl_estimator2.train(x=x, y=y, training_frame=data)\n",
    "#print(dl_estimator2)\n",
    "dl_estimator2.summary"
   ]
  },
  {
   "cell_type": "code",
   "execution_count": 4,
   "metadata": {},
   "outputs": [],
   "source": [
    "from h2o.estimators import H2OAutoEncoderEstimator\n",
    "autoencoder = H2OAutoEncoderEstimator(activation='Tanh',\n",
    "                                     hidden=[18],\n",
    "                                     epochs=150,\n",
    "                                     loss='Quadratic',\n",
    "                                     distribution='gaussian')"
   ]
  },
  {
   "cell_type": "code",
   "execution_count": null,
   "metadata": {},
   "outputs": [],
   "source": [
    "autoencoder.train(x=x,training_frame=data,)"
   ]
  }
 ],
 "metadata": {
  "kernelspec": {
   "display_name": "Python 3",
   "language": "python",
   "name": "python3"
  },
  "language_info": {
   "codemirror_mode": {
    "name": "ipython",
    "version": 3
   },
   "file_extension": ".py",
   "mimetype": "text/x-python",
   "name": "python",
   "nbconvert_exporter": "python",
   "pygments_lexer": "ipython3",
   "version": "3.6.4"
  }
 },
 "nbformat": 4,
 "nbformat_minor": 2
}
