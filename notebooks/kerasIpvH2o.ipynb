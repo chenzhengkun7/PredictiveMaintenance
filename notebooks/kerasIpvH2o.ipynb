{
 "cells": [
  {
   "cell_type": "code",
   "execution_count": 48,
   "metadata": {},
   "outputs": [],
   "source": [
    "import keras\n",
    "import pandas as pd\n",
    "from keras.models import Sequential\n",
    "from keras.layers import *\n",
    "import tensorflow as tf"
   ]
  },
  {
   "cell_type": "code",
   "execution_count": 49,
   "metadata": {},
   "outputs": [],
   "source": [
    "loan_csv = 'loan.csv'\n",
    "data = pd.read_csv(loan_csv)"
   ]
  },
  {
   "cell_type": "code",
   "execution_count": 50,
   "metadata": {},
   "outputs": [
    {
     "name": "stdout",
     "output_type": "stream",
     "text": [
      "Index(['loan_amnt', 'term', 'int_rate', 'emp_length', 'home_ownership',\n",
      "       'annual_inc', 'purpose', 'addr_state', 'dti', 'delinq_2yrs',\n",
      "       'revol_util', 'total_acc', 'bad_loan', 'longest_credit_length',\n",
      "       'verification_status'],\n",
      "      dtype='object')\n"
     ]
    }
   ],
   "source": [
    "print(data.columns)"
   ]
  },
  {
   "cell_type": "code",
   "execution_count": 53,
   "metadata": {},
   "outputs": [
    {
     "name": "stdout",
     "output_type": "stream",
     "text": [
      "_VocabularyListCategoricalColumn(key='term', vocabulary_list=('36 months', '60 months'), dtype=tf.string, default_value=-1, num_oov_buckets=0)\n"
     ]
    }
   ],
   "source": [
    "term_classes = data['term'].unique()\n",
    "term_columns = tf.feature_column.categorical_column_with_vocabulary_list(\n",
    "    key='term',vocabulary_list=term_classes)\n",
    "print(term_columns)\n",
    "\n"
   ]
  },
  {
   "cell_type": "code",
   "execution_count": 23,
   "metadata": {},
   "outputs": [],
   "source": [
    "train = data.sample(frac=0.7,random_state=200)\n",
    "test_val = data.drop(train.index)\n",
    "test = test_val.sample(frac=0.5, random_state=100)\n",
    "valid = test_val.drop(test.index)"
   ]
  },
  {
   "cell_type": "code",
   "execution_count": 24,
   "metadata": {},
   "outputs": [
    {
     "name": "stdout",
     "output_type": "stream",
     "text": [
      "samples: 1721865 => 70.00 %\n",
      "samples: 368970 => 15.00 %\n",
      "samples: 368970 => 15.00 %\n"
     ]
    }
   ],
   "source": [
    "print('samples: {:.0f} => {:.2f} %'.format(train.size, train.size * 100 / data.size))\n",
    "print('samples: {:.0f} => {:.2f} %'.format(valid.size, valid.size * 100 / data.size))\n",
    "print('samples: {:.0f} => {:.2f} %'.format(test.size, test.size * 100 / data.size))"
   ]
  },
  {
   "cell_type": "code",
   "execution_count": 34,
   "metadata": {},
   "outputs": [
    {
     "name": "stdout",
     "output_type": "stream",
     "text": [
      "Index(['loan_amnt', 'term', 'emp_length', 'home_ownership', 'annual_inc',\n",
      "       'purpose', 'addr_state', 'dti', 'delinq_2yrs', 'revol_util',\n",
      "       'total_acc', 'longest_credit_length', 'verification_status'],\n",
      "      dtype='object')\n",
      "Index(['bad_loan'], dtype='object')\n",
      "WARNING:tensorflow:From <ipython-input-34-54d1b6bb5d0f>:7: CategoricalProcessor.__init__ (from tensorflow.contrib.learn.python.learn.preprocessing.categorical) is deprecated and will be removed in a future version.\n",
      "Instructions for updating:\n",
      "Please use tensorflow/transform or tf.data for sequence processing.\n",
      "        loan_amnt       term  emp_length home_ownership  annual_inc  \\\n",
      "57799        2850  36 months         3.0           RENT    30191.00   \n",
      "27579        8200  36 months         0.0           RENT    40944.00   \n",
      "145074      35000  36 months        10.0       MORTGAGE   120000.00   \n",
      "112459      14000  36 months         8.0       MORTGAGE    72000.00   \n",
      "3369         1000  36 months         0.0           RENT    33600.00   \n",
      "34725        6000  36 months         2.0       MORTGAGE    62677.00   \n",
      "132177       8000  36 months         6.0       MORTGAGE    94000.00   \n",
      "42842       12600  36 months         3.0           RENT    70000.00   \n",
      "158275      10000  60 months        10.0           RENT    51000.00   \n",
      "16010        4000  36 months         1.0           RENT    13200.00   \n",
      "82165       20000  36 months         8.0       MORTGAGE    57000.00   \n",
      "148231      27500  36 months         0.0       MORTGAGE   150000.00   \n",
      "110210       3000  36 months         4.0           RENT    45000.00   \n",
      "59193       18000  36 months        10.0       MORTGAGE    49000.00   \n",
      "129996      20425  60 months         2.0            OWN    84200.00   \n",
      "84060       21000  36 months        10.0       MORTGAGE   103000.00   \n",
      "81780       18000  36 months         6.0           RENT   100000.00   \n",
      "152974       8000  36 months         6.0       MORTGAGE    42000.00   \n",
      "60482       18000  36 months         2.0       MORTGAGE   485000.00   \n",
      "151392       7525  36 months         9.0           RENT   125000.00   \n",
      "97715       10775  36 months         2.0       MORTGAGE    80000.00   \n",
      "37863        6000  36 months        10.0       MORTGAGE    42000.00   \n",
      "153329       8000  36 months         9.0           RENT    59000.00   \n",
      "114878       4000  36 months         6.0            OWN    22000.00   \n",
      "89130       10000  36 months        10.0       MORTGAGE    54000.00   \n",
      "35513        5000  36 months         4.0           RENT    42100.00   \n",
      "22171        2500  36 months        10.0       MORTGAGE    81800.00   \n",
      "120003      20000  36 months         0.0           RENT    75000.00   \n",
      "90905       23325  60 months         9.0       MORTGAGE    72000.00   \n",
      "117153       9600  36 months         1.0       MORTGAGE    42000.00   \n",
      "...           ...        ...         ...            ...         ...   \n",
      "36597       11000  36 months         3.0       MORTGAGE   120000.00   \n",
      "3885        22000  36 months         4.0       MORTGAGE   115000.00   \n",
      "162250      35000  36 months         2.0       MORTGAGE   180000.00   \n",
      "6996         8500  36 months         9.0       MORTGAGE   120000.00   \n",
      "150463       5950  36 months        10.0       MORTGAGE    55000.00   \n",
      "63892        2000  36 months         3.0           RENT    31000.00   \n",
      "97283        8000  36 months        10.0           RENT    48000.00   \n",
      "34876       10000  36 months         0.0           RENT    40000.00   \n",
      "80255        8500  36 months         2.0       MORTGAGE    75000.00   \n",
      "62827       15000  36 months         5.0       MORTGAGE    62000.00   \n",
      "120479       7000  36 months        10.0           RENT    67000.00   \n",
      "24285       25000  60 months         4.0       MORTGAGE   180000.00   \n",
      "34135        6000  36 months         9.0       MORTGAGE    91200.00   \n",
      "24464        1600  60 months         2.0           RENT    58900.00   \n",
      "137347      16000  36 months        10.0           RENT   101000.00   \n",
      "162391      11000  60 months         0.0       MORTGAGE    30000.00   \n",
      "134709      14000  36 months        10.0       MORTGAGE    65000.00   \n",
      "76019       24000  60 months        10.0           RENT    80000.00   \n",
      "120409      35000  60 months         6.0       MORTGAGE    75620.00   \n",
      "152718      12000  60 months         NaN       MORTGAGE    79092.00   \n",
      "61217       20425  60 months        10.0           RENT    46037.55   \n",
      "143882      10375  60 months        10.0       MORTGAGE    45695.00   \n",
      "96690       15000  36 months        10.0       MORTGAGE    45000.00   \n",
      "153622       2000  36 months        10.0       MORTGAGE    95000.00   \n",
      "9585        21000  36 months        10.0       MORTGAGE   175000.00   \n",
      "57423        9000  36 months         2.0           RENT    70000.00   \n",
      "46798       10125  36 months         5.0           RENT    34560.00   \n",
      "60352        8500  36 months         0.0           RENT    25000.00   \n",
      "129382      12000  60 months         3.0       MORTGAGE   120000.00   \n",
      "34679        3600  36 months         7.0       MORTGAGE    52000.00   \n",
      "\n",
      "                   purpose addr_state    dti  delinq_2yrs  revol_util  \\\n",
      "57799   debt_consolidation         CA  31.12          0.0        51.4   \n",
      "27579   debt_consolidation         TX  20.55          0.0        26.4   \n",
      "145074  debt_consolidation         CA  15.21          0.0        25.5   \n",
      "112459         credit_card         CT  19.53          0.0        13.8   \n",
      "3369        small_business         FL  20.18          0.0        97.3   \n",
      "34725       small_business         NH   3.56          0.0        66.1   \n",
      "132177  debt_consolidation         NC  10.49          1.0        56.3   \n",
      "42842   debt_consolidation         NY  11.73          0.0        22.5   \n",
      "158275         credit_card         WA  13.41          0.0        55.0   \n",
      "16010   debt_consolidation         CA  12.55          0.0        80.5   \n",
      "82165   debt_consolidation         UT  10.15          0.0        49.8   \n",
      "148231         credit_card         WI  12.05          0.0        71.2   \n",
      "110210  debt_consolidation         CA  17.60          0.0        59.6   \n",
      "59193   debt_consolidation         NC  28.44          0.0        67.9   \n",
      "129996  debt_consolidation         OH  23.49          0.0        93.5   \n",
      "84060   debt_consolidation         CA  17.38          0.0        79.1   \n",
      "81780   debt_consolidation         NY   5.38          1.0        50.1   \n",
      "152974  debt_consolidation         OH  29.31          0.0        20.3   \n",
      "60482   debt_consolidation         NY   8.58          1.0        90.1   \n",
      "151392  debt_consolidation         VA  10.89          0.0        87.1   \n",
      "97715   debt_consolidation         MO  10.41          0.0        77.2   \n",
      "37863   debt_consolidation         MO  22.17          0.0        74.5   \n",
      "153329  debt_consolidation         KS  15.48          1.0        86.6   \n",
      "114878  debt_consolidation         CA  15.93          0.0        58.6   \n",
      "89130          credit_card         AZ  14.09          0.0        58.8   \n",
      "35513   debt_consolidation         CO  21.04          0.0        55.9   \n",
      "22171                other         PA   3.46          0.0        36.6   \n",
      "120003         credit_card         VA  13.86          0.0        43.7   \n",
      "90905   debt_consolidation         CA  30.05          0.0        59.1   \n",
      "117153  debt_consolidation         VA  13.77          1.0        90.0   \n",
      "...                    ...        ...    ...          ...         ...   \n",
      "36597   debt_consolidation         TX  14.45          0.0        80.2   \n",
      "3885    debt_consolidation         NC  21.64          0.0        90.7   \n",
      "162250  debt_consolidation         CA   6.78          0.0        65.1   \n",
      "6996           credit_card         MA   3.07          0.0        49.0   \n",
      "150463  debt_consolidation         SC  18.42          0.0        84.0   \n",
      "63892                other         GA  19.35          1.0         9.8   \n",
      "97283   debt_consolidation         TX  16.65          0.0        84.6   \n",
      "34876                  car         CA   6.48          0.0        18.3   \n",
      "80255       small_business         CA   7.62          0.0        37.3   \n",
      "62827          credit_card         AZ  12.46          0.0        27.0   \n",
      "120479               other         GA   6.93          0.0        94.5   \n",
      "24285   debt_consolidation         LA  21.81          0.0        77.4   \n",
      "34135                other         IL   1.29          0.0        10.5   \n",
      "24464       major_purchase         GA  12.27          0.0        93.1   \n",
      "137347         credit_card         CA  18.04          1.0        11.4   \n",
      "162391         credit_card         CA  35.16          0.0        80.4   \n",
      "134709         credit_card         MO  23.25          0.0        58.6   \n",
      "76019          credit_card         MA  11.20          0.0        55.8   \n",
      "120409  debt_consolidation         NM  24.28          0.0        85.0   \n",
      "152718  debt_consolidation         GA  12.54          0.0        24.6   \n",
      "61217   debt_consolidation         VA  25.44          0.0        60.6   \n",
      "143882               other         AL  13.71          4.0        74.4   \n",
      "96690   debt_consolidation         IL  14.85          0.0        50.7   \n",
      "153622  debt_consolidation         NV  11.45          1.0        67.2   \n",
      "9585                 other         MA   5.62          0.0        79.4   \n",
      "57423          credit_card         CA   4.75          0.0        66.6   \n",
      "46798   debt_consolidation         CA  27.05          0.0        57.4   \n",
      "60352   debt_consolidation         KS  20.59          0.0        41.3   \n",
      "129382  debt_consolidation         MO  11.41          0.0        41.0   \n",
      "34679          credit_card         MI  19.87          0.0        31.3   \n",
      "\n",
      "        total_acc  longest_credit_length verification_status  \n",
      "57799        34.0                   10.0            verified  \n",
      "27579        10.0                    9.0            verified  \n",
      "145074       44.0                   14.0            verified  \n",
      "112459       20.0                   10.0        not verified  \n",
      "3369          8.0                    7.0        not verified  \n",
      "34725        14.0                   22.0        not verified  \n",
      "132177       32.0                   13.0        not verified  \n",
      "42842        23.0                    7.0        not verified  \n",
      "158275       32.0                   30.0            verified  \n",
      "16010        21.0                   11.0        not verified  \n",
      "82165        26.0                   36.0            verified  \n",
      "148231       27.0                   50.0            verified  \n",
      "110210       13.0                   10.0        not verified  \n",
      "59193        13.0                   11.0            verified  \n",
      "129996       26.0                   21.0            verified  \n",
      "84060        21.0                   13.0            verified  \n",
      "81780        16.0                   13.0            verified  \n",
      "152974       32.0                   14.0            verified  \n",
      "60482        27.0                   15.0            verified  \n",
      "151392       41.0                   17.0            verified  \n",
      "97715        24.0                    6.0            verified  \n",
      "37863        23.0                   12.0            verified  \n",
      "153329       46.0                   12.0            verified  \n",
      "114878       13.0                    6.0            verified  \n",
      "89130        12.0                    9.0        not verified  \n",
      "35513        16.0                    8.0        not verified  \n",
      "22171        22.0                   17.0            verified  \n",
      "120003       23.0                   10.0            verified  \n",
      "90905        33.0                   23.0            verified  \n",
      "117153        7.0                    6.0        not verified  \n",
      "...           ...                    ...                 ...  \n",
      "36597        30.0                   10.0            verified  \n",
      "3885         19.0                   19.0            verified  \n",
      "162250       14.0                    9.0            verified  \n",
      "6996         27.0                   35.0            verified  \n",
      "150463       11.0                   23.0        not verified  \n",
      "63892        26.0                   10.0            verified  \n",
      "97283        10.0                   14.0            verified  \n",
      "34876        23.0                   13.0        not verified  \n",
      "80255        20.0                    8.0            verified  \n",
      "62827        16.0                   11.0        not verified  \n",
      "120479       17.0                   11.0            verified  \n",
      "24285        50.0                   15.0            verified  \n",
      "34135        26.0                   12.0        not verified  \n",
      "24464        31.0                    9.0            verified  \n",
      "137347       28.0                   13.0            verified  \n",
      "162391       12.0                    9.0            verified  \n",
      "134709       16.0                   12.0            verified  \n",
      "76019        26.0                   19.0            verified  \n",
      "120409       24.0                   26.0            verified  \n",
      "152718       45.0                   25.0            verified  \n",
      "61217        20.0                   15.0            verified  \n",
      "143882       27.0                   18.0            verified  \n",
      "96690        21.0                   20.0            verified  \n",
      "153622       24.0                   24.0            verified  \n",
      "9585         28.0                   14.0            verified  \n",
      "57423        14.0                    9.0        not verified  \n",
      "46798        26.0                    5.0            verified  \n",
      "60352        18.0                    9.0        not verified  \n",
      "129382       41.0                   21.0            verified  \n",
      "34679        47.0                   18.0        not verified  \n",
      "\n",
      "[114791 rows x 13 columns]\n"
     ]
    }
   ],
   "source": [
    "y_name = 'bad_loan'\n",
    "X = train.drop([y_name, 'int_rate'], axis=1)\n",
    "print(X.columns)\n",
    "Y = train[[y_name]]\n",
    "print(Y.columns)\n",
    "\n",
    "\n",
    "print(X)"
   ]
  },
  {
   "cell_type": "code",
   "execution_count": 30,
   "metadata": {},
   "outputs": [],
   "source": [
    "model = Sequential()\n",
    "model.add(Dense(10, input_dim=13, activation='relu',name='layer_1'))\n",
    "model.add(Dense(10, activation='relu', name='layer_2'))\n",
    "model.add(Dense(1, activation='linear', name='output_layer'))\n",
    "model.compile(loss='mean_squared_error', optimizer='adam')"
   ]
  },
  {
   "cell_type": "code",
   "execution_count": 32,
   "metadata": {},
   "outputs": [
    {
     "name": "stdout",
     "output_type": "stream",
     "text": [
      "Epoch 1/20\n"
     ]
    },
    {
     "ename": "ValueError",
     "evalue": "could not convert string to float: 'verified'",
     "output_type": "error",
     "traceback": [
      "\u001b[0;31m---------------------------------------------------------------------------\u001b[0m",
      "\u001b[0;31mValueError\u001b[0m                                Traceback (most recent call last)",
      "\u001b[0;32m<ipython-input-32-65d407650159>\u001b[0m in \u001b[0;36m<module>\u001b[0;34m()\u001b[0m\n\u001b[0;32m----> 1\u001b[0;31m \u001b[0mmodel\u001b[0m\u001b[0;34m.\u001b[0m\u001b[0mfit\u001b[0m\u001b[0;34m(\u001b[0m\u001b[0mX\u001b[0m\u001b[0;34m,\u001b[0m\u001b[0mY\u001b[0m\u001b[0;34m,\u001b[0m \u001b[0mepochs\u001b[0m\u001b[0;34m=\u001b[0m\u001b[0;36m20\u001b[0m\u001b[0;34m,\u001b[0m\u001b[0mshuffle\u001b[0m\u001b[0;34m=\u001b[0m\u001b[0;32mTrue\u001b[0m\u001b[0;34m,\u001b[0m \u001b[0mverbose\u001b[0m\u001b[0;34m=\u001b[0m\u001b[0;36m1\u001b[0m\u001b[0;34m)\u001b[0m\u001b[0;34m\u001b[0m\u001b[0m\n\u001b[0m",
      "\u001b[0;32m/opt/miniconda2/envs/py36h2o/lib/python3.6/site-packages/keras/models.py\u001b[0m in \u001b[0;36mfit\u001b[0;34m(self, x, y, batch_size, epochs, verbose, callbacks, validation_split, validation_data, shuffle, class_weight, sample_weight, initial_epoch, steps_per_epoch, validation_steps, **kwargs)\u001b[0m\n\u001b[1;32m   1000\u001b[0m                               \u001b[0minitial_epoch\u001b[0m\u001b[0;34m=\u001b[0m\u001b[0minitial_epoch\u001b[0m\u001b[0;34m,\u001b[0m\u001b[0;34m\u001b[0m\u001b[0m\n\u001b[1;32m   1001\u001b[0m                               \u001b[0msteps_per_epoch\u001b[0m\u001b[0;34m=\u001b[0m\u001b[0msteps_per_epoch\u001b[0m\u001b[0;34m,\u001b[0m\u001b[0;34m\u001b[0m\u001b[0m\n\u001b[0;32m-> 1002\u001b[0;31m                               validation_steps=validation_steps)\n\u001b[0m\u001b[1;32m   1003\u001b[0m \u001b[0;34m\u001b[0m\u001b[0m\n\u001b[1;32m   1004\u001b[0m     def evaluate(self, x=None, y=None,\n",
      "\u001b[0;32m/opt/miniconda2/envs/py36h2o/lib/python3.6/site-packages/keras/engine/training.py\u001b[0m in \u001b[0;36mfit\u001b[0;34m(self, x, y, batch_size, epochs, verbose, callbacks, validation_split, validation_data, shuffle, class_weight, sample_weight, initial_epoch, steps_per_epoch, validation_steps, **kwargs)\u001b[0m\n\u001b[1;32m   1703\u001b[0m                               \u001b[0minitial_epoch\u001b[0m\u001b[0;34m=\u001b[0m\u001b[0minitial_epoch\u001b[0m\u001b[0;34m,\u001b[0m\u001b[0;34m\u001b[0m\u001b[0m\n\u001b[1;32m   1704\u001b[0m                               \u001b[0msteps_per_epoch\u001b[0m\u001b[0;34m=\u001b[0m\u001b[0msteps_per_epoch\u001b[0m\u001b[0;34m,\u001b[0m\u001b[0;34m\u001b[0m\u001b[0m\n\u001b[0;32m-> 1705\u001b[0;31m                               validation_steps=validation_steps)\n\u001b[0m\u001b[1;32m   1706\u001b[0m \u001b[0;34m\u001b[0m\u001b[0m\n\u001b[1;32m   1707\u001b[0m     def evaluate(self, x=None, y=None,\n",
      "\u001b[0;32m/opt/miniconda2/envs/py36h2o/lib/python3.6/site-packages/keras/engine/training.py\u001b[0m in \u001b[0;36m_fit_loop\u001b[0;34m(self, f, ins, out_labels, batch_size, epochs, verbose, callbacks, val_f, val_ins, shuffle, callback_metrics, initial_epoch, steps_per_epoch, validation_steps)\u001b[0m\n\u001b[1;32m   1234\u001b[0m                         \u001b[0mins_batch\u001b[0m\u001b[0;34m[\u001b[0m\u001b[0mi\u001b[0m\u001b[0;34m]\u001b[0m \u001b[0;34m=\u001b[0m \u001b[0mins_batch\u001b[0m\u001b[0;34m[\u001b[0m\u001b[0mi\u001b[0m\u001b[0;34m]\u001b[0m\u001b[0;34m.\u001b[0m\u001b[0mtoarray\u001b[0m\u001b[0;34m(\u001b[0m\u001b[0;34m)\u001b[0m\u001b[0;34m\u001b[0m\u001b[0m\n\u001b[1;32m   1235\u001b[0m \u001b[0;34m\u001b[0m\u001b[0m\n\u001b[0;32m-> 1236\u001b[0;31m                     \u001b[0mouts\u001b[0m \u001b[0;34m=\u001b[0m \u001b[0mf\u001b[0m\u001b[0;34m(\u001b[0m\u001b[0mins_batch\u001b[0m\u001b[0;34m)\u001b[0m\u001b[0;34m\u001b[0m\u001b[0m\n\u001b[0m\u001b[1;32m   1237\u001b[0m                     \u001b[0;32mif\u001b[0m \u001b[0;32mnot\u001b[0m \u001b[0misinstance\u001b[0m\u001b[0;34m(\u001b[0m\u001b[0mouts\u001b[0m\u001b[0;34m,\u001b[0m \u001b[0mlist\u001b[0m\u001b[0;34m)\u001b[0m\u001b[0;34m:\u001b[0m\u001b[0;34m\u001b[0m\u001b[0m\n\u001b[1;32m   1238\u001b[0m                         \u001b[0mouts\u001b[0m \u001b[0;34m=\u001b[0m \u001b[0;34m[\u001b[0m\u001b[0mouts\u001b[0m\u001b[0;34m]\u001b[0m\u001b[0;34m\u001b[0m\u001b[0m\n",
      "\u001b[0;32m/opt/miniconda2/envs/py36h2o/lib/python3.6/site-packages/keras/backend/tensorflow_backend.py\u001b[0m in \u001b[0;36m__call__\u001b[0;34m(self, inputs)\u001b[0m\n\u001b[1;32m   2480\u001b[0m         \u001b[0msession\u001b[0m \u001b[0;34m=\u001b[0m \u001b[0mget_session\u001b[0m\u001b[0;34m(\u001b[0m\u001b[0;34m)\u001b[0m\u001b[0;34m\u001b[0m\u001b[0m\n\u001b[1;32m   2481\u001b[0m         updated = session.run(fetches=fetches, feed_dict=feed_dict,\n\u001b[0;32m-> 2482\u001b[0;31m                               **self.session_kwargs)\n\u001b[0m\u001b[1;32m   2483\u001b[0m         \u001b[0;32mreturn\u001b[0m \u001b[0mupdated\u001b[0m\u001b[0;34m[\u001b[0m\u001b[0;34m:\u001b[0m\u001b[0mlen\u001b[0m\u001b[0;34m(\u001b[0m\u001b[0mself\u001b[0m\u001b[0;34m.\u001b[0m\u001b[0moutputs\u001b[0m\u001b[0;34m)\u001b[0m\u001b[0;34m]\u001b[0m\u001b[0;34m\u001b[0m\u001b[0m\n\u001b[1;32m   2484\u001b[0m \u001b[0;34m\u001b[0m\u001b[0m\n",
      "\u001b[0;32m/opt/miniconda2/envs/py36h2o/lib/python3.6/site-packages/tensorflow/python/client/session.py\u001b[0m in \u001b[0;36mrun\u001b[0;34m(self, fetches, feed_dict, options, run_metadata)\u001b[0m\n\u001b[1;32m    903\u001b[0m     \u001b[0;32mtry\u001b[0m\u001b[0;34m:\u001b[0m\u001b[0;34m\u001b[0m\u001b[0m\n\u001b[1;32m    904\u001b[0m       result = self._run(None, fetches, feed_dict, options_ptr,\n\u001b[0;32m--> 905\u001b[0;31m                          run_metadata_ptr)\n\u001b[0m\u001b[1;32m    906\u001b[0m       \u001b[0;32mif\u001b[0m \u001b[0mrun_metadata\u001b[0m\u001b[0;34m:\u001b[0m\u001b[0;34m\u001b[0m\u001b[0m\n\u001b[1;32m    907\u001b[0m         \u001b[0mproto_data\u001b[0m \u001b[0;34m=\u001b[0m \u001b[0mtf_session\u001b[0m\u001b[0;34m.\u001b[0m\u001b[0mTF_GetBuffer\u001b[0m\u001b[0;34m(\u001b[0m\u001b[0mrun_metadata_ptr\u001b[0m\u001b[0;34m)\u001b[0m\u001b[0;34m\u001b[0m\u001b[0m\n",
      "\u001b[0;32m/opt/miniconda2/envs/py36h2o/lib/python3.6/site-packages/tensorflow/python/client/session.py\u001b[0m in \u001b[0;36m_run\u001b[0;34m(self, handle, fetches, feed_dict, options, run_metadata)\u001b[0m\n\u001b[1;32m   1107\u001b[0m             \u001b[0mfeed_handles\u001b[0m\u001b[0;34m[\u001b[0m\u001b[0msubfeed_t\u001b[0m\u001b[0;34m]\u001b[0m \u001b[0;34m=\u001b[0m \u001b[0msubfeed_val\u001b[0m\u001b[0;34m\u001b[0m\u001b[0m\n\u001b[1;32m   1108\u001b[0m           \u001b[0;32melse\u001b[0m\u001b[0;34m:\u001b[0m\u001b[0;34m\u001b[0m\u001b[0m\n\u001b[0;32m-> 1109\u001b[0;31m             \u001b[0mnp_val\u001b[0m \u001b[0;34m=\u001b[0m \u001b[0mnp\u001b[0m\u001b[0;34m.\u001b[0m\u001b[0masarray\u001b[0m\u001b[0;34m(\u001b[0m\u001b[0msubfeed_val\u001b[0m\u001b[0;34m,\u001b[0m \u001b[0mdtype\u001b[0m\u001b[0;34m=\u001b[0m\u001b[0msubfeed_dtype\u001b[0m\u001b[0;34m)\u001b[0m\u001b[0;34m\u001b[0m\u001b[0m\n\u001b[0m\u001b[1;32m   1110\u001b[0m \u001b[0;34m\u001b[0m\u001b[0m\n\u001b[1;32m   1111\u001b[0m           if (not is_tensor_handle_feed and\n",
      "\u001b[0;32m/opt/miniconda2/envs/py36h2o/lib/python3.6/site-packages/numpy/core/numeric.py\u001b[0m in \u001b[0;36masarray\u001b[0;34m(a, dtype, order)\u001b[0m\n\u001b[1;32m    490\u001b[0m \u001b[0;34m\u001b[0m\u001b[0m\n\u001b[1;32m    491\u001b[0m     \"\"\"\n\u001b[0;32m--> 492\u001b[0;31m     \u001b[0;32mreturn\u001b[0m \u001b[0marray\u001b[0m\u001b[0;34m(\u001b[0m\u001b[0ma\u001b[0m\u001b[0;34m,\u001b[0m \u001b[0mdtype\u001b[0m\u001b[0;34m,\u001b[0m \u001b[0mcopy\u001b[0m\u001b[0;34m=\u001b[0m\u001b[0;32mFalse\u001b[0m\u001b[0;34m,\u001b[0m \u001b[0morder\u001b[0m\u001b[0;34m=\u001b[0m\u001b[0morder\u001b[0m\u001b[0;34m)\u001b[0m\u001b[0;34m\u001b[0m\u001b[0m\n\u001b[0m\u001b[1;32m    493\u001b[0m \u001b[0;34m\u001b[0m\u001b[0m\n\u001b[1;32m    494\u001b[0m \u001b[0;34m\u001b[0m\u001b[0m\n",
      "\u001b[0;31mValueError\u001b[0m: could not convert string to float: 'verified'"
     ]
    }
   ],
   "source": [
    "model.fit(X,Y, epochs=20,shuffle=True, verbose=1)"
   ]
  },
  {
   "cell_type": "code",
   "execution_count": null,
   "metadata": {},
   "outputs": [],
   "source": []
  }
 ],
 "metadata": {
  "kernelspec": {
   "display_name": "Python 3",
   "language": "python",
   "name": "python3"
  },
  "language_info": {
   "codemirror_mode": {
    "name": "ipython",
    "version": 3
   },
   "file_extension": ".py",
   "mimetype": "text/x-python",
   "name": "python",
   "nbconvert_exporter": "python",
   "pygments_lexer": "ipython3",
   "version": "3.6.4"
  }
 },
 "nbformat": 4,
 "nbformat_minor": 2
}
