{
 "cells": [
  {
   "cell_type": "code",
   "execution_count": 23,
   "metadata": {},
   "outputs": [],
   "source": [
    "%reload_ext autoreload\n",
    "%autoreload 2\n",
    "from util import util\n",
    "from glob import glob\n",
    "import pandas as pd\n",
    "import numpy as np\n",
    "import matplotlib.pyplot as plt\n",
    "import datetime"
   ]
  },
  {
   "cell_type": "code",
   "execution_count": 24,
   "metadata": {},
   "outputs": [],
   "source": [
    "macDir = '/Users/etto/Desktop/tpDatasets/'\n",
    "winDir = 'E:/SAA_DATA/predictiveMaintenance/'\n",
    "osDir = winDir\n",
    "\n",
    "train_folder = osDir + 'FEMTOBearingDataSet/Learning_set/'\n",
    "test_folder = osDir + 'FEMTOBearingDataSet/Test_set/Test_set/'"
   ]
  },
  {
   "cell_type": "code",
   "execution_count": 25,
   "metadata": {},
   "outputs": [],
   "source": [
    "train_bearings = np.concatenate([['bearing1_{:d}'.format(i) for i in range(1,3)],\n",
    "                           ['bearing2_{:d}'.format(i) for i in range(1,3)],\n",
    "                           ['bearing3_{:d}'.format(i) for i in range(1,3)]])\n",
    "                           \n",
    "test_bearings = np.concatenate([['bearing1_{:d}'.format(i) for i in range(3,8)],\n",
    "                                ['bearing2_{:d}'.format(i) for i in range(3,8)],\n",
    "                                ['bearing3_{:d}'.format(i) for i in range(3,4)]])\n",
    "\n",
    "# pak alleen de bearings met temperatuur\n",
    "train_bearings_abbr = ['1_1', '1_2', '2_1', '3_1']\n",
    "test_bearings_abbr = ['1_4', '1_5', '1_6', '1_7', '2_4', '2_5', '3_3']\n",
    "train_bearings = ['bearing{:s}'.format(bearing) for bearing in train_bearings_abbr]\n",
    "test_bearings = ['bearing{:s}'.format(bearing) for bearing in test_bearings_abbr]\n",
    "                \n",
    "train_folders = ['{:s}{:s}/'.format(train_folder, bearing) for bearing in train_bearings]\n",
    "test_folders = ['{:s}{:s}/'.format(test_folder, bearing) for bearing in test_bearings]"
   ]
  },
  {
   "cell_type": "code",
   "execution_count": 30,
   "metadata": {},
   "outputs": [],
   "source": [
    "def constructTimeSignalWithTimestamp(bearing_folder):\n",
    "    signal = []\n",
    "    timestamps = []\n",
    "    fileformat = 'temp_{:05d}.csv'\n",
    "    column_names = ['hour', 'minute', 'second', 'dsec', 'temp']\n",
    "    nrFiles = len(glob(bearing_folder + 'temp*csv'))\n",
    "    print(bearing_folder + ': {:d} files'.format(nrFiles))\n",
    "    \n",
    "    for nr in range(1, nrFiles+1):\n",
    "        filename = bearing_folder + fileformat.format(nr)\n",
    "        csvContents = pd.read_csv(filename,names=column_names)\n",
    "        nwtimestamps = [datetime.time(hour=hr, minute=mn, second=sc) \n",
    "                        for (hr,mn,sc) in zip(csvContents['hour'],csvContents['minute'], csvContents['second'])]\n",
    "        signal = np.append(signal, np.array(csvContents['temp']))\n",
    "        timestamps = np.append(timestamps, nwtimestamps)\n",
    "    return timestamps, signal"
   ]
  },
  {
   "cell_type": "code",
   "execution_count": 31,
   "metadata": {
    "scrolled": false
   },
   "outputs": [
    {
     "name": "stdout",
     "output_type": "stream",
     "text": [
      "E:/SAA_DATA/predictiveMaintenance/FEMTOBearingDataSet/Learning_set/bearing1_1/: 466 files\n"
     ]
    },
    {
     "data": {
      "image/png": "[encoded data removed]",
      "text/plain": [
       "<Figure size 432x288 with 1 Axes>"
      ]
     },
     "metadata": {},
     "output_type": "display_data"
    },
    {
     "name": "stdout",
     "output_type": "stream",
     "text": [
      "E:/SAA_DATA/predictiveMaintenance/FEMTOBearingDataSet/Learning_set/bearing1_2/: 144 files\n"
     ]
    },
    {
     "ename": "TypeError",
     "evalue": "an integer is required (got type str)",
     "output_type": "error",
     "traceback": [
      "\u001b[1;31m---------------------------------------------------------------------------\u001b[0m",
      "\u001b[1;31mTypeError\u001b[0m                                 Traceback (most recent call last)",
      "\u001b[1;32m<ipython-input-31-e9d6cbd980fe>\u001b[0m in \u001b[0;36m<module>\u001b[1;34m()\u001b[0m\n\u001b[0;32m      1\u001b[0m \u001b[1;32mfor\u001b[0m \u001b[0mfld\u001b[0m \u001b[1;32min\u001b[0m \u001b[0mtrain_folders\u001b[0m\u001b[1;33m:\u001b[0m\u001b[1;33m\u001b[0m\u001b[0m\n\u001b[1;32m----> 2\u001b[1;33m     \u001b[0mtimes\u001b[0m\u001b[1;33m,\u001b[0m \u001b[0msignal\u001b[0m \u001b[1;33m=\u001b[0m \u001b[0mconstructTimeSignalWithTimestamp\u001b[0m\u001b[1;33m(\u001b[0m\u001b[0mfld\u001b[0m\u001b[1;33m)\u001b[0m\u001b[1;33m\u001b[0m\u001b[0m\n\u001b[0m\u001b[0;32m      3\u001b[0m     \u001b[0mfig\u001b[0m \u001b[1;33m=\u001b[0m \u001b[0mplt\u001b[0m\u001b[1;33m.\u001b[0m\u001b[0mfigure\u001b[0m\u001b[1;33m(\u001b[0m\u001b[1;33m)\u001b[0m\u001b[1;33m\u001b[0m\u001b[0m\n\u001b[0;32m      4\u001b[0m     \u001b[0mplt\u001b[0m\u001b[1;33m.\u001b[0m\u001b[0mtitle\u001b[0m\u001b[1;33m(\u001b[0m\u001b[0mfld\u001b[0m\u001b[1;33m.\u001b[0m\u001b[0msplit\u001b[0m\u001b[1;33m(\u001b[0m\u001b[1;34m'/'\u001b[0m\u001b[1;33m)\u001b[0m\u001b[1;33m[\u001b[0m\u001b[1;33m-\u001b[0m\u001b[1;36m2\u001b[0m\u001b[1;33m]\u001b[0m\u001b[1;33m)\u001b[0m\u001b[1;33m\u001b[0m\u001b[0m\n\u001b[0;32m      5\u001b[0m     \u001b[0mplt\u001b[0m\u001b[1;33m.\u001b[0m\u001b[0mplot\u001b[0m\u001b[1;33m(\u001b[0m\u001b[0mtimes\u001b[0m\u001b[1;33m,\u001b[0m \u001b[0msignal\u001b[0m\u001b[1;33m)\u001b[0m\u001b[1;33m\u001b[0m\u001b[0m\n",
      "\u001b[1;32m<ipython-input-30-000a5b5756d3>\u001b[0m in \u001b[0;36mconstructTimeSignalWithTimestamp\u001b[1;34m(bearing_folder)\u001b[0m\n\u001b[0;32m     11\u001b[0m         \u001b[0mcsvContents\u001b[0m \u001b[1;33m=\u001b[0m \u001b[0mpd\u001b[0m\u001b[1;33m.\u001b[0m\u001b[0mread_csv\u001b[0m\u001b[1;33m(\u001b[0m\u001b[0mfilename\u001b[0m\u001b[1;33m,\u001b[0m\u001b[0mnames\u001b[0m\u001b[1;33m=\u001b[0m\u001b[0mcolumn_names\u001b[0m\u001b[1;33m)\u001b[0m\u001b[1;33m\u001b[0m\u001b[0m\n\u001b[0;32m     12\u001b[0m         nwtimestamps = [datetime.time(hour=hr, minute=mn, second=sc) \n\u001b[1;32m---> 13\u001b[1;33m                         for (hr,mn,sc) in zip(csvContents['hour'],csvContents['minute'], csvContents['second'])]\n\u001b[0m\u001b[0;32m     14\u001b[0m         \u001b[0msignal\u001b[0m \u001b[1;33m=\u001b[0m \u001b[0mnp\u001b[0m\u001b[1;33m.\u001b[0m\u001b[0mappend\u001b[0m\u001b[1;33m(\u001b[0m\u001b[0msignal\u001b[0m\u001b[1;33m,\u001b[0m \u001b[0mnp\u001b[0m\u001b[1;33m.\u001b[0m\u001b[0marray\u001b[0m\u001b[1;33m(\u001b[0m\u001b[0mcsvContents\u001b[0m\u001b[1;33m[\u001b[0m\u001b[1;34m'temp'\u001b[0m\u001b[1;33m]\u001b[0m\u001b[1;33m)\u001b[0m\u001b[1;33m)\u001b[0m\u001b[1;33m\u001b[0m\u001b[0m\n\u001b[0;32m     15\u001b[0m         \u001b[0mtimestamps\u001b[0m \u001b[1;33m=\u001b[0m \u001b[0mnp\u001b[0m\u001b[1;33m.\u001b[0m\u001b[0mappend\u001b[0m\u001b[1;33m(\u001b[0m\u001b[0mtimestamps\u001b[0m\u001b[1;33m,\u001b[0m \u001b[0mnwtimestamps\u001b[0m\u001b[1;33m)\u001b[0m\u001b[1;33m\u001b[0m\u001b[0m\n",
      "\u001b[1;32m<ipython-input-30-000a5b5756d3>\u001b[0m in \u001b[0;36m<listcomp>\u001b[1;34m(.0)\u001b[0m\n\u001b[0;32m     11\u001b[0m         \u001b[0mcsvContents\u001b[0m \u001b[1;33m=\u001b[0m \u001b[0mpd\u001b[0m\u001b[1;33m.\u001b[0m\u001b[0mread_csv\u001b[0m\u001b[1;33m(\u001b[0m\u001b[0mfilename\u001b[0m\u001b[1;33m,\u001b[0m\u001b[0mnames\u001b[0m\u001b[1;33m=\u001b[0m\u001b[0mcolumn_names\u001b[0m\u001b[1;33m)\u001b[0m\u001b[1;33m\u001b[0m\u001b[0m\n\u001b[0;32m     12\u001b[0m         nwtimestamps = [datetime.time(hour=hr, minute=mn, second=sc) \n\u001b[1;32m---> 13\u001b[1;33m                         for (hr,mn,sc) in zip(csvContents['hour'],csvContents['minute'], csvContents['second'])]\n\u001b[0m\u001b[0;32m     14\u001b[0m         \u001b[0msignal\u001b[0m \u001b[1;33m=\u001b[0m \u001b[0mnp\u001b[0m\u001b[1;33m.\u001b[0m\u001b[0mappend\u001b[0m\u001b[1;33m(\u001b[0m\u001b[0msignal\u001b[0m\u001b[1;33m,\u001b[0m \u001b[0mnp\u001b[0m\u001b[1;33m.\u001b[0m\u001b[0marray\u001b[0m\u001b[1;33m(\u001b[0m\u001b[0mcsvContents\u001b[0m\u001b[1;33m[\u001b[0m\u001b[1;34m'temp'\u001b[0m\u001b[1;33m]\u001b[0m\u001b[1;33m)\u001b[0m\u001b[1;33m)\u001b[0m\u001b[1;33m\u001b[0m\u001b[0m\n\u001b[0;32m     15\u001b[0m         \u001b[0mtimestamps\u001b[0m \u001b[1;33m=\u001b[0m \u001b[0mnp\u001b[0m\u001b[1;33m.\u001b[0m\u001b[0mappend\u001b[0m\u001b[1;33m(\u001b[0m\u001b[0mtimestamps\u001b[0m\u001b[1;33m,\u001b[0m \u001b[0mnwtimestamps\u001b[0m\u001b[1;33m)\u001b[0m\u001b[1;33m\u001b[0m\u001b[0m\n",
      "\u001b[1;31mTypeError\u001b[0m: an integer is required (got type str)"
     ]
    }
   ],
   "source": [
    "for fld in train_folders:\n",
    "    times, signal = constructTimeSignalWithTimestamp(fld)\n",
    "    fig = plt.figure()\n",
    "    plt.title(fld.split('/')[-2])\n",
    "    plt.plot(times, signal)\n",
    "    plt.xlabel('Time (hrs)')\n",
    "    plt.ylabel('Temp')\n",
    "    plt.show()\n",
    "\n",
    "for fld in test_folders:\n",
    "    times, signal = constructTimeSignalWithTimestamp(fld)\n",
    "    fig = plt.figure()\n",
    "    plt.title(fld.split('/')[-2])\n",
    "    plt.plot(times, signal)\n",
    "    plt.xlabel('Time (hrs)')\n",
    "    plt.ylabel('Temp')\n",
    "    plt.show()"
   ]
  },
  {
   "cell_type": "code",
   "execution_count": null,
   "metadata": {},
   "outputs": [],
   "source": []
  }
 ],
 "metadata": {
  "kernelspec": {
   "display_name": "Python 3",
   "language": "python",
   "name": "python3"
  },
  "language_info": {
   "codemirror_mode": {
    "name": "ipython",
    "version": 3
   },
   "file_extension": ".py",
   "mimetype": "text/x-python",
   "name": "python",
   "nbconvert_exporter": "python",
   "pygments_lexer": "ipython3",
   "version": "3.6.5"
  },
  "varInspector": {
   "cols": {
    "lenName": 16,
    "lenType": 16,
    "lenVar": 40
   },
   "kernels_config": {
    "python": {
     "delete_cmd_postfix": "",
     "delete_cmd_prefix": "del ",
     "library": "var_list.py",
     "varRefreshCmd": "print(var_dic_list())"
    },
    "r": {
     "delete_cmd_postfix": ") ",
     "delete_cmd_prefix": "rm(",
     "library": "var_list.r",
     "varRefreshCmd": "cat(var_dic_list()) "
    }
   },
   "types_to_exclude": [
    "module",
    "function",
    "builtin_function_or_method",
    "instance",
    "_Feature"
   ],
   "window_display": false
  }
 },
 "nbformat": 4,
 "nbformat_minor": 2
}
